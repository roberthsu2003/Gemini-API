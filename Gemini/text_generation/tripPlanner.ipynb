{
 "cells": [
  {
   "cell_type": "code",
   "execution_count": 2,
   "metadata": {},
   "outputs": [
    {
     "data": {
      "text/markdown": [
       "## 紐約市精彩活動指南\n",
       "\n",
       "| 活動                                   | 最佳季節            | 所需時間          |\n",
       "|----------------------------------------|---------------------|-------------------|\n",
       "| 探索中央公園 (騎自行車、野餐、划船) | 春天或秋天          | 半天至一整天      |\n",
       "| 參觀大都會藝術博物館                 | 全年                | 一個下午          |\n",
       "| 搭乘渡輪前往自由女神像和埃利斯島     | 春天或秋天          | 半天至一整天      |\n",
       "| 漫步高線公園                         | 夏季                | 一個小時          |\n",
       "| 體驗時代廣場                         | 全年                | 三十分鐘至一小時  |\n",
       "| 參觀9/11紀念館和博物館               | 全年                | 兩到三個小時      |\n",
       "| 探索紐約市各個街區 (例如蘇荷區、格林威治村) | 全年                | 時間依據行程而定 |\n",
       "| 參加美食之旅                         | 全年                | 約兩個小時        |\n",
       "\n",
       "\n"
      ],
      "text/plain": [
       "<IPython.core.display.Markdown object>"
      ]
     },
     "metadata": {},
     "output_type": "display_data"
    }
   ],
   "source": [
    "import os\n",
    "import google.generativeai as genai\n",
    "from IPython.display import display, Markdown, Latex\n",
    "genai.configure(api_key=os.environ[\"GEMINI_API_KEY\"])\n",
    "\n",
    "# Create the model\n",
    "generation_config = {\n",
    "  \"temperature\": 1,\n",
    "  \"top_p\": 0.95,\n",
    "  \"top_k\": 40,\n",
    "  \"max_output_tokens\": 8192,\n",
    "  \"response_mime_type\": \"text/plain\",\n",
    "}\n",
    "\n",
    "model = genai.GenerativeModel(\n",
    "  model_name=\"gemini-1.5-flash\",\n",
    "  generation_config=generation_config,\n",
    ")\n",
    "\n",
    "chat_session = model.start_chat(\n",
    "  history=[\n",
    "    {\n",
    "      \"role\": \"user\",\n",
    "      \"parts\": [\n",
    "        \"\"\"\n",
    "這是一篇關於在紐約市可以做的令人興奮的事情的文章。將其轉換為包含 3 列的結構化格式 - 活動、參加此活動的最佳季節以及所需的時間。\n",
    "\n",
    "紐約市永不沉睡，散發著令人無法抗拒的能量，為每位旅客提供豐富的體驗！在春天宜人的懷抱或秋天色彩繽紛的環境中，花上半天甚至一整天的時間探索廣闊的中央公園。悠閒地騎自行車，享用野餐午餐，或在湖上租一艘船——享受的可能性無窮無盡！無論什麼季節，藝術愛好者都可以沉浸在大都會藝術博物館的海量藏品中，花一個下午的時間徜徉在人類數百年積淀的創造力之中。\n",
    "\n",
    "想要體驗令人著迷的娛樂活動嗎？春季或秋季的天氣非常適合乘坐渡輪前往自由女神像和埃利斯島，人們可以用半天或一整天的時間深入了解塑造美國的移民和自由故事。當夏季天氣適合戶外活動時，您可以花一個小時沿著高線公園漫步，這是一個獨特的高架公園，可以欣賞到令人驚嘆的城市景觀和城市花園。\n",
    "\n",
    "夜幕降臨，前往絢爛奪目的時代廣場，花上三十分鐘到一個小時的時間，沉浸在絢麗的燈光和熙熙攘攘的氛圍中。您可以參觀令人感傷的 9/11 紀念館和博物館，花上兩到三個小時來緬懷逝去的生命，緬懷這座城市堅定不移的精神。從時尚的蘇荷區街道到歷史魅力的格林威治村，探索紐約市的多元化街區本身就是一場冒險，所需的時間根據您選擇的區域和興趣而有所不同。對於想要體驗這座城市充滿活力的文化的人來說，兩小時的美食之旅將以多種風味和烹飪美食來滿足您的味蕾。\n",
    "\n",
    "無論您的興趣或季節如何，紐約市都將為您帶來難忘的體驗，充滿標誌性景點、引人入勝的表演和無盡的探索機會！\n",
    "        \"\"\"\n",
    "      ],\n",
    "    },\n",
    "  ]\n",
    ")\n",
    "\n",
    "response = chat_session.send_message(\"請使用繁體中文回答?\")\n",
    "\n",
    "display(Markdown(response.text))"
   ]
  }
 ],
 "metadata": {
  "kernelspec": {
   "display_name": "base",
   "language": "python",
   "name": "python3"
  },
  "language_info": {
   "codemirror_mode": {
    "name": "ipython",
    "version": 3
   },
   "file_extension": ".py",
   "mimetype": "text/x-python",
   "name": "python",
   "nbconvert_exporter": "python",
   "pygments_lexer": "ipython3",
   "version": "3.12.2"
  }
 },
 "nbformat": 4,
 "nbformat_minor": 2
}
