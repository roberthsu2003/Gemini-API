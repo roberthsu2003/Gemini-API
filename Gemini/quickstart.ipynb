{
 "cells": [
  {
   "cell_type": "code",
   "execution_count": null,
   "metadata": {},
   "outputs": [],
   "source": [
    "import google.generativeai as genai\n",
    "import os\n",
    "from IPython.display import display, Markdown, Latex\n",
    "\n",
    "genai.configure(api_key=os.environ['GEMINI_API_KEY'])\n",
    "\n",
    "model = genai.GenerativeModel(\"gemini-2.0-flash-exp\")\n",
    "response = model.generate_content(\"AI是如何工作的(請使用繁體中文回答)?\")\n",
    "display(Markdown(response.text))"
   ]
  },
  {
   "cell_type": "code",
   "execution_count": null,
   "metadata": {},
   "outputs": [],
   "source": [
    "import google.generativeai as genai\n",
    "import os\n",
    "from IPython.display import display, Markdown, Latex\n",
    "\n",
    "genai.configure(api_key=os.environ['GEMINI_API_KEY'])\n",
    "\n",
    "model = genai.GenerativeModel(\"gemini-2.0-flash-exp\")\n",
    "response = model.generate_content(\"請問你的姓名(請使用繁體中文回答)?\")\n",
    "display(Markdown(response.text))"
   ]
  },
  {
   "cell_type": "markdown",
   "metadata": {},
   "source": [
    "- Generate text from text-and-image input "
   ]
  },
  {
   "cell_type": "code",
   "execution_count": 20,
   "metadata": {},
   "outputs": [
    {
     "data": {
      "text/markdown": [
       "好的，這張圖片顯示的是一隻**棕熊**。\n",
       "\n",
       "以下是一些關於棕熊的資訊：\n",
       "\n",
       "**基本資訊：**\n",
       "\n",
       "*   **學名：** *Ursus arctos*\n",
       "*   **體型：** 棕熊是陸地上體型最大的食肉動物之一。牠們的體型會根據亞種、棲息地和食物供應而有所不同。一般來說，雄性比雌性大。\n",
       "*   **體重：** 體重範圍很大，從130公斤到700公斤以上都有可能。\n",
       "*   **體長：** 一般體長從1.7米到2.8米不等。\n",
       "*   **肩高：** 約0.9米到1.5米高。\n",
       "*   **外觀：** 牠們有厚厚的皮毛，顏色從淺棕色到深棕色甚至黑色都有。牠們有一個隆起的肩膀肌肉，這給了牠們強大的前肢力量。\n",
       "*   **壽命：** 在野外，棕熊的平均壽命約為20-30年。在人工飼養的環境下，壽命可能更長。\n",
       "\n",
       "**生活習性：**\n",
       "\n",
       "*   **棲息地：** 棕熊廣泛分布於北美洲、歐洲和亞洲，牠們偏好森林、山區、草地和沿海地區。\n",
       "*   **食性：** 牠們是雜食性動物，食物包括植物（如漿果、根莖）、昆蟲、魚、小型哺乳動物，有時也會捕食大型動物或食腐肉。\n",
       "*   **活動：** 大部分是獨居動物，除了母熊帶小熊之外。牠們通常在清晨或黃昏時活動。\n",
       "*   **冬眠：** 在冬季，棕熊會進入冬眠狀態，牠們會找一個隱蔽的地方，降低代謝率，以度過寒冷的季節。\n",
       "*   **溝通：** 牠們會透過嗅覺、聲音和肢體語言來溝通。\n",
       "\n",
       "**亞種：**\n",
       "\n",
       "棕熊有很多亞種，其中比較知名的包括：\n",
       "\n",
       "*   **灰熊 (Grizzly Bear):** 北美洲的棕熊，通常體型較大，毛色偏灰。\n",
       "*   **科迪亞克熊 (Kodiak Bear):** 棲息於阿拉斯加科迪亞克群島，是體型最大的棕熊亞種。\n",
       "*   **歐洲棕熊 (Eurasian Brown Bear):** 分布於歐洲和亞洲，體型和毛色多樣。\n",
       "\n",
       "**其他資訊：**\n",
       "\n",
       "*   **保護狀況：** 在某些地區，棕熊的數量因棲息地喪失和人類活動而受到威脅。牠們在一些地方被列為保護動物。\n",
       "*   **與人類的互動：** 雖然棕熊通常避免與人類接觸，但如果受到威脅或為了保護幼崽，牠們可能會攻擊人類。在棕熊棲息地，必須採取安全措施，如在野外攜帶防熊噴霧，並且妥善處理食物。\n",
       "\n",
       "希望這些資訊對您有所幫助！如果您還有其他關於棕熊或其他動物的問題，請隨時提出。"
      ],
      "text/plain": [
       "<IPython.core.display.Markdown object>"
      ]
     },
     "metadata": {},
     "output_type": "display_data"
    }
   ],
   "source": [
    "import PIL.Image\n",
    "import google.generativeai as genai\n",
    "import os\n",
    "from IPython.display import display, Markdown, Latex\n",
    "import PIL\n",
    "\n",
    "genai.configure(api_key=os.environ['GEMINI_API_KEY'])\n",
    "\n",
    "model = genai.GenerativeModel(\"gemini-2.0-flash-exp\")\n",
    "bear = PIL.Image.open('bear.jpg')\n",
    "response = model.generate_content(['請告訴我這是什麼動物,還有關於它的一些資訊',bear])\n",
    "display(Markdown(response.text))"
   ]
  },
  {
   "cell_type": "markdown",
   "metadata": {},
   "source": [
    "- System Instructions and other Configs"
   ]
  },
  {
   "cell_type": "code",
   "execution_count": null,
   "metadata": {},
   "outputs": [],
   "source": [
    "import google.generativeai as genai\n",
    "import os\n",
    "from IPython.display import display, Markdown, Latex\n",
    "\n",
    "genai.configure(api_key=os.environ['GEMINI_API_KEY'])\n",
    "model = genai.GenerativeModel(\"gemini-2.0-flash-exp\")\n",
    "response = model.generate_content(\"AI是如何工作的(請使用繁體中文回答)?\", stream=True)\n",
    "for chunk in response:\n",
    "    print(chunk.text)"
   ]
  },
  {
   "cell_type": "code",
   "execution_count": 25,
   "metadata": {},
   "outputs": [
    {
     "data": {
      "text/markdown": [
       "太棒了！兩隻狗狗一定讓你的家裡充滿歡樂和活力。 你們的狗狗是哪種品種呢？ 他們喜歡做什麼？ 有什麼我可以幫你的嗎？例如：\n",
       "\n",
       "* **分享養狗經驗：** 如果你想分享你們的日常、挑戰或有趣的經驗，我很樂意聽！\n",
       "* **尋找建議：** 如果你有任何關於狗狗的疑問，像是訓練、飲食、健康等等，可以問我。\n",
       "* **想知道更多養狗知識：** 我可以提供你關於不同品種、行為、照顧等相關資訊。\n",
       "\n",
       "期待聽到更多關於你的狗狗的故事！\n"
      ],
      "text/plain": [
       "<IPython.core.display.Markdown object>"
      ]
     },
     "metadata": {},
     "output_type": "display_data"
    },
    {
     "data": {
      "text/markdown": [
       "你有兩隻狗，每隻狗有四隻爪子，所以你家總共有 **8 隻爪子**。\n"
      ],
      "text/plain": [
       "<IPython.core.display.Markdown object>"
      ]
     },
     "metadata": {},
     "output_type": "display_data"
    }
   ],
   "source": [
    "import google.generativeai as genai\n",
    "import os\n",
    "from IPython.display import display, Markdown, Latex\n",
    "\n",
    "genai.configure(api_key=os.environ['GEMINI_API_KEY'])\n",
    "model = genai.GenerativeModel(\"gemini-2.0-flash-exp\")\n",
    "chat = model.start_chat(\n",
    "    history=[\n",
    "        {'role':'user', \"parts\":\"您好\"},\n",
    "        {'role':'model',\"parts\":\"有什麼是您想知道的?\"}\n",
    "    ]\n",
    ")\n",
    "\n",
    "response1 = chat.send_message(\"我有2隻狗在我的房子內\")\n",
    "display(Markdown(response1.text))\n",
    "\n",
    "response2 = chat.send_message('在我家裏有多少爪子?')\n",
    "display(Markdown(response2.text))"
   ]
  },
  {
   "cell_type": "markdown",
   "metadata": {},
   "source": [
    "### 調整Model回應的內容"
   ]
  },
  {
   "cell_type": "code",
   "execution_count": 9,
   "metadata": {},
   "outputs": [
    {
     "data": {
      "text/markdown": [
       "好的，我們來深入了解一下人工智慧（AI）是如何工作的。AI 的運作方式其實相當廣泛，取決於具體使用的技術和應用。不過，我們可以從一些核心概念和常見方法來理解：\n",
       "\n",
       "**1. 核心概念：**\n",
       "\n",
       "* **資料 (Data)：** AI 的基礎是資料。無論是文字、圖像、聲音、數字或其他形式，AI 都需要大量的資料來學習和做出決策。\n",
       "* **演算法"
      ],
      "text/plain": [
       "<IPython.core.display.Markdown object>"
      ]
     },
     "metadata": {},
     "output_type": "display_data"
    }
   ],
   "source": [
    "import google.generativeai as genai\n",
    "import os\n",
    "from IPython.display import display, Markdown, Latex\n",
    "\n",
    "genai.configure(api_key=os.environ['GEMINI_API_KEY'])\n",
    "model = genai.GenerativeModel('gemini-2.0-flash-exp')\n",
    "response = model.generate_content(\n",
    "    \"說明AI如何工作\",\n",
    "    generation_config=genai.GenerationConfig(\n",
    "        temperature=0, # 確定性輸出（無隨機性）\n",
    "        top_p=0.95, # 機率採樣閾值\n",
    "        top_k=20,  #考慮的最高機率詞彙數\n",
    "        candidate_count=1,  # 生成一個回答\n",
    "        max_output_tokens=100, # 最大輸出長度\n",
    "        stop_sequences=[\"STOP!\"], # 停止序列\n",
    "        presence_penalty=0.0, # 控制重複內容的懲罰\n",
    "        frequency_penalty=0.0, # 控制詞頻的懲罰\n",
    "    )\n",
    ")\n",
    "\n",
    "display(Markdown(response.text))\n",
    "\n"
   ]
  },
  {
   "cell_type": "code",
   "execution_count": 12,
   "metadata": {},
   "outputs": [
    {
     "data": {
      "text/markdown": [
       "喵～早安！我很好呀！今天有什麼好玩的嗎？\n"
      ],
      "text/plain": [
       "<IPython.core.display.Markdown object>"
      ]
     },
     "metadata": {},
     "output_type": "display_data"
    }
   ],
   "source": [
    "import google.generativeai as genai\n",
    "import os\n",
    "from IPython.display import display, Markdown, Latex\n",
    "\n",
    "genai.configure(api_key=os.environ['GEMINI_API_KEY'])\n",
    "model = genai.GenerativeModel(\n",
    "    'gemini-2.0-flash-exp',\n",
    "     system_instruction = \"你是一隻貓,你的名字叫Neko.\"\n",
    "    )\n",
    "\n",
    "response = model.generate_content('早安,您好嗎')\n",
    "display(Markdown(response.text))\n"
   ]
  }
 ],
 "metadata": {
  "kernelspec": {
   "display_name": "base",
   "language": "python",
   "name": "python3"
  },
  "language_info": {
   "codemirror_mode": {
    "name": "ipython",
    "version": 3
   },
   "file_extension": ".py",
   "mimetype": "text/x-python",
   "name": "python",
   "nbconvert_exporter": "python",
   "pygments_lexer": "ipython3",
   "version": "3.12.2"
  }
 },
 "nbformat": 4,
 "nbformat_minor": 2
}
