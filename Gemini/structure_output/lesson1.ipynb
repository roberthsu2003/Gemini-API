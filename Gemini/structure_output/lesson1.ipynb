{
 "cells": [
  {
   "cell_type": "code",
   "execution_count": null,
   "metadata": {},
   "outputs": [],
   "source": [
    "import google.generativeai as genai\n",
    "import os\n",
    "import json\n",
    "genai.configure(api_key=os.environ['GEMINI_API_KEY'])\n",
    "model = genai.GenerativeModel('gemini-2.0-flash-exp')\n",
    "prompt = \"\"\"List a few popular cookie recipes in JSON format.\n",
    "\n",
    "Use this JSON schema:\n",
    "\n",
    "Recipe = {'recipe_name':str, 'ingredients':list[str]}\n",
    "Return: list[Recipe]\"\"\"\n",
    "\n",
    "result = model.generate_content(prompt)\n",
    "json_str:str = result.text.replace('```json','') #去除最前面的一行\n",
    "json_str = json_str.replace('```','') #去除最後面的一行\n",
    "json_structure:list[dict] = json.loads(json_str) #轉換成資料結構\n",
    "json_structure"
   ]
  },
  {
   "cell_type": "code",
   "execution_count": null,
   "metadata": {},
   "outputs": [],
   "source": [
    "import google.generativeai as genai\n",
    "import os\n",
    "import json\n",
    "genai.configure(api_key=os.environ['GEMINI_API_KEY'])\n",
    "model = genai.GenerativeModel('gemini-2.0-flash-exp')\n",
    "prompt = \"\"\"最常見的5種中式料理食譜,請條列式的方法列出食材,並使用json的格式輸出\n",
    "\n",
    "Use this JSON schema:\n",
    "\n",
    "Recipe = {'recipe_name':str, 'ingredients':list[str]}\n",
    "Return: list[Recipe]\"\"\"\n",
    "\n",
    "result = model.generate_content(prompt)\n",
    "json_str:str = result.text.replace('```json','') #去除最前面的一行\n",
    "json_str = json_str.replace('```','') #去除最後面的一行\n",
    "json_structure:list[dict] = json.loads(json_str) #轉換成資料結構\n",
    "json_structure"
   ]
  },
  {
   "cell_type": "code",
   "execution_count": 11,
   "metadata": {},
   "outputs": [
    {
     "name": "stdout",
     "output_type": "stream",
     "text": [
      "<class 'str'>\n"
     ]
    }
   ],
   "source": [
    "import google.generativeai as genai\n",
    "import typing_extensions as typing\n",
    "import os\n",
    "import json\n",
    "\n",
    "class Recipe(typing.TypedDict):\n",
    "    recipe_name:str\n",
    "    ingredients:list[str]\n",
    "\n",
    "genai.configure(api_key=os.environ['GEMINI_API_KEY'])\n",
    "model = genai.GenerativeModel('gemini-1.5-flash')\n",
    "result = model.generate_content(\n",
    "    'List a few popular cookie recipes.',\n",
    "    generation_config=genai.GenerationConfig(\n",
    "        response_mime_type=\"application/json\",\n",
    "        response_schema=list[Recipe]\n",
    "    )\n",
    ")\n",
    "json_structure = json.loads(result.text)\n",
    "json_structure"
   ]
  }
 ],
 "metadata": {
  "kernelspec": {
   "display_name": "base",
   "language": "python",
   "name": "python3"
  },
  "language_info": {
   "codemirror_mode": {
    "name": "ipython",
    "version": 3
   },
   "file_extension": ".py",
   "mimetype": "text/x-python",
   "name": "python",
   "nbconvert_exporter": "python",
   "pygments_lexer": "ipython3",
   "version": "3.12.2"
  }
 },
 "nbformat": 4,
 "nbformat_minor": 2
}
