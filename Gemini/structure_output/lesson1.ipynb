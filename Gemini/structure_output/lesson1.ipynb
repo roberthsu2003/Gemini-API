{
 "cells": [
  {
   "cell_type": "code",
   "execution_count": null,
   "metadata": {},
   "outputs": [],
   "source": [
    "import google.generativeai as genai\n",
    "import os\n",
    "import json\n",
    "genai.configure(api_key=os.environ['GEMINI_API_KEY'])\n",
    "model = genai.GenerativeModel('gemini-2.0-flash-exp')\n",
    "prompt = \"\"\"List a few popular cookie recipes in JSON format.\n",
    "\n",
    "Use this JSON schema:\n",
    "\n",
    "Recipe = {'recipe_name':str, 'ingredients':list[str]}\n",
    "Return: list[Recipe]\"\"\"\n",
    "\n",
    "result = model.generate_content(prompt)\n",
    "json_str:str = result.text.replace('```json','') #去除最前面的一行\n",
    "json_str = json_str.replace('```','') #去除最後面的一行\n",
    "json_structure:list[dict] = json.loads(json_str) #轉換成資料結構\n",
    "json_structure"
   ]
  },
  {
   "cell_type": "code",
   "execution_count": null,
   "metadata": {},
   "outputs": [],
   "source": [
    "import google.generativeai as genai\n",
    "import os\n",
    "import json\n",
    "genai.configure(api_key=os.environ['GEMINI_API_KEY'])\n",
    "model = genai.GenerativeModel('gemini-2.0-flash-exp')\n",
    "prompt = \"\"\"最常見的5種中式料理食譜,請條列式的方法列出食材,並使用json的格式輸出\n",
    "\n",
    "Use this JSON schema:\n",
    "\n",
    "Recipe = {'recipe_name':str, 'ingredients':list[str]}\n",
    "Return: list[Recipe]\"\"\"\n",
    "\n",
    "result = model.generate_content(prompt)\n",
    "json_str:str = result.text.replace('```json','') #去除最前面的一行\n",
    "json_str = json_str.replace('```','') #去除最後面的一行\n",
    "json_structure:list[dict] = json.loads(json_str) #轉換成資料結構\n",
    "json_structure"
   ]
  },
  {
   "cell_type": "code",
   "execution_count": null,
   "metadata": {},
   "outputs": [],
   "source": [
    "import google.generativeai as genai\n",
    "import typing_extensions as typing\n",
    "import os\n",
    "import json\n",
    "\n",
    "class Recipe(typing.TypedDict):\n",
    "    recipe_name:str\n",
    "    ingredients:list[str]\n",
    "\n",
    "genai.configure(api_key=os.environ['GEMINI_API_KEY'])\n",
    "model = genai.GenerativeModel('gemini-1.5-flash')\n",
    "result = model.generate_content(\n",
    "    'List a few popular cookie recipes.',\n",
    "    generation_config=genai.GenerationConfig(\n",
    "        response_mime_type=\"application/json\",\n",
    "        response_schema=list[Recipe]\n",
    "    )\n",
    ")\n",
    "json_structure = json.loads(result.text)\n",
    "json_structure"
   ]
  },
  {
   "cell_type": "code",
   "execution_count": null,
   "metadata": {},
   "outputs": [],
   "source": [
    "import google.generativeai as genai\n",
    "import typing_extensions as typing\n",
    "import os\n",
    "import json\n",
    "\n",
    "class Recipe(typing.TypedDict):\n",
    "    recipe_name:str\n",
    "    ingredients:list[str]\n",
    "\n",
    "genai.configure(api_key=os.environ['GEMINI_API_KEY'])\n",
    "model = genai.GenerativeModel('gemini-1.5-flash')\n",
    "result = model.generate_content(\n",
    "    '最常見的5種中式料理食譜,請條列式的方法列出食材和食材的份量,並使用json的格式輸出,請使用繁體中文',\n",
    "    generation_config=genai.GenerationConfig(\n",
    "        response_mime_type=\"application/json\",\n",
    "        response_schema=list[Recipe]\n",
    "    )\n",
    ")\n",
    "json_structure = json.loads(result.text)\n",
    "json_structure"
   ]
  },
  {
   "cell_type": "code",
   "execution_count": 19,
   "metadata": {},
   "outputs": [
    {
     "name": "stdout",
     "output_type": "stream",
     "text": [
      "Keyboard\n"
     ]
    }
   ],
   "source": [
    "import google.generativeai as genai\n",
    "import enum\n",
    "import os\n",
    "\n",
    "\n",
    "\n",
    "class Choice(enum.Enum):\n",
    "    PERCUSSION = \"Percussion\"\n",
    "    STRING = \"String\"\n",
    "    WOODWIND = \"Woodwind\"\n",
    "    BRASS = \"Brass\"\n",
    "    KEYBOARD = \"Keyboard\"\n",
    "\n",
    "genai.configure(api_key=os.environ['GEMINI_API_KEY'])\n",
    "model = genai.GenerativeModel(\"gemini-2.0-flash-exp\")\n",
    "organ = genai.upload_file('organ.jpg')\n",
    "result = model.generate_content(\n",
    "    ['What kind of instrument is this:',organ],\n",
    "    generation_config=genai.GenerationConfig(\n",
    "        response_mime_type=\"text/x.enum\",\n",
    "        response_schema=Choice\n",
    "    )\n",
    ")\n",
    "print(result.text)\n"
   ]
  },
  {
   "cell_type": "code",
   "execution_count": 21,
   "metadata": {},
   "outputs": [
    {
     "name": "stdout",
     "output_type": "stream",
     "text": [
      "Keyboard\n"
     ]
    }
   ],
   "source": [
    "import google.generativeai as genai\n",
    "import enum\n",
    "import os\n",
    "\n",
    "genai.configure(api_key=os.environ['GEMINI_API_KEY'])\n",
    "model = genai.GenerativeModel(\"gemini-2.0-flash-exp\")\n",
    "organ = genai.upload_file('organ.jpg')\n",
    "result = model.generate_content(\n",
    "    ['What kind of instrument is this:',organ],\n",
    "    generation_config=genai.GenerationConfig(\n",
    "        response_mime_type=\"text/x.enum\",\n",
    "        response_schema={\n",
    "            'type': 'STRING',\n",
    "            'enum':[\"Percussion\", \"String\", \"Woodwind\", \"Brass\", \"Keyboard\"]\n",
    "        }\n",
    "    )\n",
    ")\n",
    "print(result.text)\n"
   ]
  },
  {
   "cell_type": "code",
   "execution_count": null,
   "metadata": {},
   "outputs": [],
   "source": [
    "import google.generativeai as genai\n",
    "from typing_extensions import TypedDict\n",
    "import enum\n",
    "\n",
    "class Grade(enum.Enum):\n",
    "    A_PLUS = \"a+\"\n",
    "    A = \"a\"\n",
    "    B = \"b\"\n",
    "    C = \"c\"\n",
    "    D = \"d\"\n",
    "    F = \"f\"\n",
    "\n",
    "class Recipe(TypedDict):\n",
    "    recipe_name:str\n",
    "    grade:Grade\n",
    "\n",
    "model = genai.GenerativeModel(\"gemini-2.0-flash-exp\")\n",
    "result = model.generate_content(\n",
    "    \"List about 10 cookie recipes, grade them based on popularity\",\n",
    "    generation_config=genai.GenerationConfig(\n",
    "        response_mime_type=\"application/json\",\n",
    "        response_schema=list[Recipe]\n",
    "    )\n",
    ")\n",
    "print(result.text)"
   ]
  }
 ],
 "metadata": {
  "kernelspec": {
   "display_name": "base",
   "language": "python",
   "name": "python3"
  },
  "language_info": {
   "codemirror_mode": {
    "name": "ipython",
    "version": 3
   },
   "file_extension": ".py",
   "mimetype": "text/x-python",
   "name": "python",
   "nbconvert_exporter": "python",
   "pygments_lexer": "ipython3",
   "version": "3.12.2"
  }
 },
 "nbformat": 4,
 "nbformat_minor": 2
}
