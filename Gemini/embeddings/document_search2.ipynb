{
 "cells": [
  {
   "cell_type": "code",
   "execution_count": 10,
   "metadata": {},
   "outputs": [],
   "source": [
    "from transformers import AutoTokenizer, AutoModel\n",
    "\n",
    "# 模型名稱\n",
    "model_name = \"intfloat/multilingual-e5-large\"\n",
    "\n",
    "# 載入 tokenizer 和模型\n",
    "tokenizer = AutoTokenizer.from_pretrained(model_name)\n",
    "model = AutoModel.from_pretrained(model_name)"
   ]
  },
  {
   "cell_type": "code",
   "execution_count": 7,
   "metadata": {},
   "outputs": [
    {
     "name": "stdout",
     "output_type": "stream",
     "text": [
      "嵌入向量的形狀: torch.Size([2, 8, 1024])\n"
     ]
    }
   ],
   "source": [
    "import torch\n",
    "# 輸入文本\n",
    "texts = [\"This is a test sentence.\", \"這是一個測試句子。\"]\n",
    "\n",
    "# 將文本編碼為模型的輸入\n",
    "inputs = tokenizer(texts, padding=True, truncation=True, return_tensors=\"pt\")\n",
    "\n",
    "# 使用模型生成輸出嵌入\n",
    "with torch.no_grad():\n",
    "    outputs = model(**inputs)\n",
    "\n",
    "# 提取嵌入結果\n",
    "embeddings = outputs.last_hidden_state  # 或 outputs.pooler_output (如果支持)\n",
    "\n",
    "print(\"嵌入向量的形狀:\", embeddings.shape)"
   ]
  },
  {
   "cell_type": "code",
   "execution_count": 9,
   "metadata": {},
   "outputs": [
    {
     "name": "stdout",
     "output_type": "stream",
     "text": [
      "相似度: 0.9223033\n"
     ]
    }
   ],
   "source": [
    "from sklearn.metrics.pairwise import cosine_similarity\n",
    "\n",
    "# 輸入兩個句子\n",
    "sentences = [\"蘆洲三民場\", \"我想要找蘆洲三民場?\"]\n",
    "\n",
    "# 編碼輸入\n",
    "inputs = tokenizer(sentences, padding=True, truncation=True, return_tensors=\"pt\")\n",
    "\n",
    "# 計算嵌入\n",
    "with torch.no_grad():\n",
    "    outputs = model(**inputs)\n",
    "\n",
    "# 提取句子嵌入（取平均）\n",
    "sentence_embeddings = outputs.last_hidden_state.mean(dim=1)\n",
    "\n",
    "# 計算餘弦相似度\n",
    "similarity = cosine_similarity(sentence_embeddings[0].unsqueeze(0), sentence_embeddings[1].unsqueeze(0))\n",
    "print(\"相似度:\", similarity[0][0])"
   ]
  }
 ],
 "metadata": {
  "kernelspec": {
   "display_name": "base",
   "language": "python",
   "name": "python3"
  },
  "language_info": {
   "codemirror_mode": {
    "name": "ipython",
    "version": 3
   },
   "file_extension": ".py",
   "mimetype": "text/x-python",
   "name": "python",
   "nbconvert_exporter": "python",
   "pygments_lexer": "ipython3",
   "version": "3.12.2"
  }
 },
 "nbformat": 4,
 "nbformat_minor": 2
}
