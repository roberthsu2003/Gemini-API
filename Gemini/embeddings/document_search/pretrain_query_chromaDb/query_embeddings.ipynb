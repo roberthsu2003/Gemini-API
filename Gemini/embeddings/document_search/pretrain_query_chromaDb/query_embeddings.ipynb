{
 "cells": [
  {
   "cell_type": "code",
   "execution_count": 10,
   "metadata": {},
   "outputs": [],
   "source": [
    "import pandas as pd\n",
    "from document_search import DocumentSearch\n",
    "import chromadb\n",
    "documentSearch = DocumentSearch()\n",
    "\n",
    "# 初始化ChromaDb,建立永久儲存\n",
    "client = chromadb.PersistentClient()\n",
    "collection = client.get_collection(name=\"charging_station\")"
   ]
  },
  {
   "cell_type": "code",
   "execution_count": 12,
   "metadata": {},
   "outputs": [],
   "source": [
    "# 從ChromaDb中取出資料\n",
    "results = collection.peek()\n",
    "documents = [result['document'] for result in results]\n",
    "metadatas = [result['metadata'] for result in results]\n",
    "embeddings = [result['embedding'] for result in results]\n",
    "\n",
    "# 創建DataFrame\n",
    "df = pd.DataFrame({\n",
    "    'Text': documents,\n",
    "    'Title': [metadata['title'] for metadata in metadatas],\n",
    "    'Embeddings': embeddings\n",
    "})"
   ]
  },
  {
   "cell_type": "code",
   "execution_count": 15,
   "metadata": {},
   "outputs": [
    {
     "name": "stdout",
     "output_type": "stream",
     "text": [
      "Query:請問永康二站的地址是在哪裡？\n",
      "best matching text(similarity:0.933)\n",
      "地址:臺北市大安區永康街13巷8號,經度:121.5301875,緯度:25.0325625,充電樁數量1槍\n"
     ]
    }
   ],
   "source": [
    "query = \"請問永康二站的地址是在哪裡？\"\n",
    "best_text, similarity = documentSearch.find_best_passage(query, df)\n",
    "print(f\"Query:{query}\")\n",
    "print(f'best matching text(similarity:{similarity:.3f})')\n",
    "print(best_text)"
   ]
  }
 ],
 "metadata": {
  "kernelspec": {
   "display_name": "base",
   "language": "python",
   "name": "python3"
  },
  "language_info": {
   "codemirror_mode": {
    "name": "ipython",
    "version": 3
   },
   "file_extension": ".py",
   "mimetype": "text/x-python",
   "name": "python",
   "nbconvert_exporter": "python",
   "pygments_lexer": "ipython3",
   "version": "3.12.2"
  }
 },
 "nbformat": 4,
 "nbformat_minor": 2
}
