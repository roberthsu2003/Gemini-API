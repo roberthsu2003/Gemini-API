{
 "cells": [
  {
   "cell_type": "code",
   "execution_count": 10,
   "metadata": {},
   "outputs": [],
   "source": [
    "import pandas as pd\n",
    "from document_search import DocumentSearch\n",
    "import chromadb\n",
    "documentSearch = DocumentSearch()\n",
    "\n",
    "# 初始化ChromaDb,建立永久儲存\n",
    "client = chromadb.PersistentClient()\n",
    "collection = client.get_collection(name=\"charging_station\")"
   ]
  },
  {
   "cell_type": "code",
   "execution_count": null,
   "metadata": {},
   "outputs": [
    {
     "name": "stdout",
     "output_type": "stream",
     "text": [
      "{'ids': ['0', '1', '2', '3', '4', '5', '6', '7', '8', '9', '10', '11', '12'], 'embeddings': array([[ 0.04159968,  0.02933241, -0.04804032, ..., -0.01362586,\n",
      "        -0.01048109,  0.00793526],\n",
      "       [ 0.03816258,  0.02420981, -0.02286334, ..., -0.01740563,\n",
      "        -0.01805617,  0.03003323],\n",
      "       [ 0.04305552,  0.01430719, -0.04995466, ..., -0.02462273,\n",
      "        -0.03092089,  0.01357699],\n",
      "       ...,\n",
      "       [ 0.02998859,  0.00749294, -0.04590765, ..., -0.01568998,\n",
      "        -0.03933982,  0.00495899],\n",
      "       [ 0.02324585,  0.01615802, -0.02563818, ...,  0.00294458,\n",
      "        -0.04010769,  0.00056976],\n",
      "       [ 0.03484925,  0.02066469, -0.04004882, ..., -0.01298467,\n",
      "        -0.02439927,  0.00058002]], shape=(13, 1024)), 'documents': ['地址:新北市蘆洲區三民路33號,經度:121.4753234,緯度:25.0832431,充電樁數量4槍', '地址:臺北市中正區南昌路一段54巷4弄2號,經度:121.5166875,緯度:25.0313125,充電樁數量1槍', '地址:臺北市中山區長安東路1段26號,經度:121.5258125,緯度:25.0486875,充電樁數量1槍', '地址:臺北市大安區復興南路196巷1號,經度:121.5429375,緯度:25.0399375,充電樁數量2槍', '地址:臺北市松山區八德路2段174巷11弄5、7號,經度:121.5389375,緯度:25.0454375,充電樁數量1槍', '地址:臺北市萬華區水源路213巷內,經度:121.5013125,緯度:25.0193125,充電樁數量6槍', '地址:臺北市松山區八德路3段106巷13號旁,經度:121.5538125,緯度:25.0475625,充電樁數量1槍', '地址:臺北市大安區和平東路1段53號,經度:121.5240625,緯度:25.0271875,充電樁數量1槍', '地址:台北市士林區中山北路6段424號,經度:121.5271875,緯度:25.1136875,充電樁數量1槍', '地址:臺北市大安區和平東路二段89號,經度:121.5393125,緯度:25.0256875,充電樁數量2槍', '地址:臺北市大安區復興南路二段193巷16號,經度:121.544465,緯度:25.0263957,充電樁數量1槍', '地址:臺北市大安區永康街13巷8號,經度:121.5301875,緯度:25.0325625,充電樁數量1槍', '地址:臺北市南港區忠孝東路六段62號,經度:121.5835625,緯度:25.0459375,充電樁數量2槍'], 'uris': None, 'data': None, 'metadatas': [{'title': '蘆洲三民場'}, {'title': '南昌場'}, {'title': '長安站'}, {'title': '復興SOGO三站'}, {'title': '中崙站'}, {'title': '青年站'}, {'title': '延吉站'}, {'title': '古亭站'}, {'title': '士東國小站'}, {'title': '瑞安站'}, {'title': '台北科技站'}, {'title': '永康二站'}, {'title': '忠孝玉成站'}], 'included': [<IncludeEnum.embeddings: 'embeddings'>, <IncludeEnum.documents: 'documents'>, <IncludeEnum.metadatas: 'metadatas'>]}\n"
     ]
    }
   ],
   "source": [
    "# 從ChromaDb中取出資料\n",
    "#results = collection.get()\n",
    "results = collection.peek(collection.count())\n",
    "print(results)\n",
    "documents = results['documents']\n",
    "metadatas = results['metadatas']\n",
    "embeddings = list(results['embeddings']) # embeddings是numpy array,shape是(13,1024), 轉成list,list有13個元素,每個元素是一個(1024,)\n",
    "\n",
    "\n",
    "#創建DataFrame\n",
    "df = pd.DataFrame({\n",
    "    'Text': documents,\n",
    "    'Title': [metadata['title'] for metadata in metadatas],\n",
    "    'Embeddings': embeddings\n",
    "})"
   ]
  },
  {
   "cell_type": "code",
   "execution_count": 26,
   "metadata": {},
   "outputs": [
    {
     "name": "stdout",
     "output_type": "stream",
     "text": [
      "Query:請問延吉站的資訊\n",
      "best matching text(similarity:0.902)\n",
      "地址:臺北市松山區八德路3段106巷13號旁,經度:121.5538125,緯度:25.0475625,充電樁數量1槍\n"
     ]
    }
   ],
   "source": [
    "query = \"請問延吉站的資訊\"\n",
    "best_text, similarity = documentSearch.find_best_passage(query, df)\n",
    "print(f\"Query:{query}\")\n",
    "print(f'best matching text(similarity:{similarity:.3f})')\n",
    "print(best_text)"
   ]
  }
 ],
 "metadata": {
  "kernelspec": {
   "display_name": "base",
   "language": "python",
   "name": "python3"
  },
  "language_info": {
   "codemirror_mode": {
    "name": "ipython",
    "version": 3
   },
   "file_extension": ".py",
   "mimetype": "text/x-python",
   "name": "python",
   "nbconvert_exporter": "python",
   "pygments_lexer": "ipython3",
   "version": "3.12.2"
  }
 },
 "nbformat": 4,
 "nbformat_minor": 2
}
