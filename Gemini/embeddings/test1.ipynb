{
 "cells": [
  {
   "cell_type": "code",
   "execution_count": null,
   "metadata": {},
   "outputs": [],
   "source": [
    "from transformers import AutoTokenizer, AutoModel\n",
    "import torch\n",
    "import pandas as pd\n",
    "import numpy as np\n",
    "\n",
    "#初始化模型和tokenizer\n",
    "tokenizer = AutoTokenizer.from_pretrained('intfloat/multilingual-e5-large')\n",
    "model = AutoModel.from_pretrained('intfloat/multilingual-e5-large')\n",
    "device = torch.device('cuda' if torch.cuda.is_available() else 'cpu')\n",
    "model.to(device)"
   ]
  },
  {
   "cell_type": "code",
   "execution_count": 38,
   "metadata": {},
   "outputs": [],
   "source": [
    "def get_embedding(text, is_query=False):\n",
    "    #增加前綴\n",
    "    if is_query:\n",
    "        text=f'query:{text}'\n",
    "    else:\n",
    "        text=f'passage:{text}'\n",
    "\n",
    "    #編碼文字內容\n",
    "    inputs = tokenizer(text,padding=True, truncation=True, max_length=512, return_tensors='pt')\n",
    "    inputs = {k: v.to(device) for k, v in inputs.items()}\n",
    "    \n",
    "\n",
    "    #獲取嵌入向量\n",
    "    with torch.no_grad():\n",
    "        outputs = model(**inputs)\n",
    "        embeddings = outputs.last_hidden_state[:, 0, :] # 使用 [CLS] token的输出\n",
    "        embeddings = torch.nn.functional.normalize(embeddings,p=2, dim=1)\n",
    "\n",
    "    return embeddings.cpu().numpy()[0]\n",
    "        \n",
    "\n",
    "def create_document_embeddings(df):\n",
    "    \"\"\"為document建立嵌入向量\"\"\"\n",
    "    embeddings = []\n",
    "    for _, row in df.iterrows(): #row是Series\n",
    "        text = f\"Title: {row['Title']}\\nText: {row['Text']}\"\n",
    "        embedding = get_embedding(text, is_query=False)\n",
    "        embeddings.append(embedding)\n",
    "    return embeddings\n",
    "\n",
    "def find_best_passage(query, df):\n",
    "    '''搜尋相關的內容'''\n",
    "    #獲取查詢的嵌入向量\n",
    "    query_embedding = get_embedding(query, is_query=True)\n",
    "\n",
    "    #計算相似度\n",
    "    similarities = np.dot(np.stack(df['Embeddings'].values),query_embedding) \n",
    "    \n",
    "    #傳品最相關的本文\n",
    "    best_idx = np.argmax(similarities)\n",
    "\n",
    "    return df.iloc[best_idx]['Text'], similarities[best_idx]\n"
   ]
  },
  {
   "cell_type": "code",
   "execution_count": 40,
   "metadata": {},
   "outputs": [
    {
     "name": "stdout",
     "output_type": "stream",
     "text": [
      "Query:有導航,娛樂和氣候\n",
      "best matching text(similarity:0.876)\n",
      "您的 Googlecar 擁有大型觸控螢幕顯示屏，可使用各種功能，包括導航、娛樂和氣候控制。\n"
     ]
    }
   ],
   "source": [
    "# 准备示例数据\n",
    "documents = [\n",
    "    {\n",
    "        \"Title\": \"操作氣候控制系統\",\n",
    "        \"Text\": \"您的 Googlecar 配備氣候控制系統，可讓您調節車內的溫度和氣流。若要操作氣候控制系統，請使用中央控制台上的按鈕和旋鈕。\"\n",
    "    },\n",
    "    {\n",
    "        \"Title\": \"觸控螢幕\",\n",
    "        \"Text\": \"您的 Googlecar 擁有大型觸控螢幕顯示屏，可使用各種功能，包括導航、娛樂和氣候控制。\"\n",
    "    }\n",
    "]\n",
    "#建立DataFrame\n",
    "df = pd.DataFrame(documents)\n",
    "df['Embeddings'] = create_document_embeddings(df)\n",
    "query = \"有導航,娛樂和氣候\"\n",
    "best_text, similarity = find_best_passage(query, df)\n",
    "print(f\"Query:{query}\")\n",
    "print(f'best matching text(similarity:{similarity:.3f})')\n",
    "print(best_text)\n",
    "\n"
   ]
  }
 ],
 "metadata": {
  "kernelspec": {
   "display_name": "base",
   "language": "python",
   "name": "python3"
  },
  "language_info": {
   "codemirror_mode": {
    "name": "ipython",
    "version": 3
   },
   "file_extension": ".py",
   "mimetype": "text/x-python",
   "name": "python",
   "nbconvert_exporter": "python",
   "pygments_lexer": "ipython3",
   "version": "3.12.2"
  }
 },
 "nbformat": 4,
 "nbformat_minor": 2
}
