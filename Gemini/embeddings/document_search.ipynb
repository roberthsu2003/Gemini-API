{
 "cells": [
  {
   "cell_type": "code",
   "execution_count": 2,
   "metadata": {},
   "outputs": [
    {
     "name": "stdout",
     "output_type": "stream",
     "text": [
      "models/embedding-001\n",
      "models/text-embedding-004\n"
     ]
    }
   ],
   "source": [
    "import os\n",
    "import google.generativeai as genai\n",
    "genai.configure(api_key=os.environ['GEMINI_API_KEY'])\n",
    "\n",
    "for m in genai.list_models():\n",
    "    if 'embedContent' in m.supported_generation_methods:\n",
    "        print(m.name)"
   ]
  },
  {
   "cell_type": "code",
   "execution_count": 3,
   "metadata": {},
   "outputs": [
    {
     "name": "stdout",
     "output_type": "stream",
     "text": [
      "{'embedding': [0.034113422, -0.055176623, -0.020209068, -0.0041249595, 0.058917794, 0.01412951, 0.004535358, 0.0014303708, 0.059766337, 0.08292115, 0.007162965, 0.0069041667, -0.05308343, -0.01090513, 0.03214021, -0.037164, 0.050372463, 0.019348344, -0.037328612, 0.026647933, 0.03078176, -0.011288503, -0.031485256, -0.060248997, -0.026219437, -0.009794238, 0.0066301385, -0.018465156, -0.026324723, 0.020442627, -0.06317685, 0.014559578, -0.052296046, 0.016451124, -9.71961e-05, -0.051706687, -0.0054406007, -0.05696762, 0.01114414, -0.009201795, -0.0021951075, -0.10997012, -0.0117121935, 0.021221716, 0.009171805, -0.029621972, 0.034534886, 0.039578073, 0.019021517, -0.062691696, 0.039473332, 0.052403256, 0.061814193, -0.034507953, -0.009557814, -0.004955104, 0.01783901, -0.021176832, 0.015043591, 0.015390573, -0.0063342857, 0.043696415, -0.028341988, 0.02843402, 0.014726859, -0.06585564, -0.044533547, 0.0055523184, 0.035775978, 0.031099156, 0.027357664, 0.028062243, 0.056972917, -0.05465685, -0.027864771, -0.15486297, -0.02793005, 0.043678444, 0.008391211, 0.020209849, 0.0028410745, -0.07201404, -0.05025868, -0.034896467, -0.030400587, 0.016623715, -0.05045584, -0.0255577, 0.005054033, 0.032266915, -0.018223327, -0.04913693, 0.07667526, -0.030661274, -0.012794688, 0.1071695, -0.056347493, -0.01677373, -0.0103361085, -0.05220995, -0.022049135, 0.0047873175, -0.039094433, 0.01567117, 0.041542534, 0.016112788, -0.022650084, 0.002988097, -0.06114755, 0.06630078, -0.057244215, -0.013767545, -0.0034668013, -0.0539946, 0.04230463, -0.02931482, 0.021347184, 0.045220844, 0.0072983666, 0.024733597, 0.020755325, 0.025620922, 0.021721184, 0.008178418, -0.06360319, 0.025854602, -0.037521813, 0.020877898, 0.03313197, 0.03028894, 0.0033810644, -0.048698656, -0.027295418, 0.056229696, 0.029634967, 0.029705163, 0.010602057, -0.022171361, 0.03195608, 0.047208548, -0.013620149, 0.038463745, 0.0052672126, -0.024868716, -0.007172572, 0.06966891, -0.09212479, 0.014151631, 0.005733778, -0.0060129096, -0.035946265, 0.03348549, -0.07426328, 0.03359577, 0.033740804, 0.039457306, -0.048899952, 0.06265119, 0.0028897398, 0.003984799, 0.0329678, -0.012809363, 0.05010809, 0.0093142865, -0.019499099, -0.048860367, -0.015204042, 0.008016001, 0.01566789, 0.039038636, 0.011732032, 0.03466906, -0.012262578, -0.052623957, 0.0066956305, -0.05849198, 0.0010115543, -0.0096210195, -0.005201466, -0.020959012, -0.02466722, -0.03861566, 0.04975482, 0.04865567, 0.004447966, -0.020404048, 0.10104349, -0.022594253, -0.06822701, 0.04478056, -0.03859347, -0.015194895, -0.005943515, -0.016267126, 0.0012126288, 0.05419815, 0.019782525, 0.029053815, 0.03417297, -0.003225268, 0.020003827, 0.07212549, 0.03588863, -0.0002985594, 0.004416864, 0.03698924, 0.10097586, 0.0048228535, -0.044057958, 0.00039435015, -0.04460163, -0.011658617, 0.033987682, 0.02250937, 0.034583278, -0.03440395, -0.0032746233, -0.0059272256, -0.007679346, -0.02577721, -0.022054257, 0.008234382, -0.027173005, -0.015607741, -0.022958817, 0.09841609, -0.0454726, 0.03162353, 0.030663213, -0.03987397, 0.0048750504, 0.05777013, 0.04547866, 0.00988157, 0.04494851, 0.012011644, 0.0031414998, 0.001620927, 0.07142094, 0.025111964, -0.049478553, 0.052195616, 0.04140117, 0.038003206, -0.058787853, -0.0071948697, -0.015402911, 0.048243158, 0.025205497, 0.051020835, -0.030305903, -0.03165689, -0.008994429, 0.039839923, -0.0430157, 0.008373322, -0.08901809, -0.045301918, -0.007420523, 0.0049243458, 0.060365982, -0.06462967, 0.008151015, -0.020417988, 0.00030823264, -0.03928886, 0.040172532, 0.031377304, -0.031728886, 0.034448728, -0.031234154, -0.048502147, 0.033941768, 0.03422515, -0.008299363, 0.033098523, -0.012317136, 0.014448827, 0.061873898, -0.059683096, 0.0012899803, 0.00746023, 0.026521664, -0.0724866, -0.058189534, 0.03005233, -0.015348002, -0.035913676, -0.034901086, -0.066179104, -0.05556242, 0.013046814, -0.0035763385, -0.008661504, -0.04688871, -0.0053266473, -0.02171025, 0.07217506, 0.03859721, -0.038364355, -0.0050394586, -0.07634857, -0.045539834, -0.07372116, 0.018378839, -0.03207104, -0.030269839, -0.044599626, 0.05132603, 0.047696415, 0.0014855172, -0.028435, -0.0016777765, 0.0072506634, 0.0844848, 0.042242683, -0.02930412, 0.02165559, 0.005683754, 0.062147245, 0.0028552744, 0.01590449, -0.016737064, -0.004087606, -0.037475586, 0.046751697, -0.05255618, -0.016293237, -0.014435562, 0.022127738, -0.005253533, 0.0190588, -0.01153766, 0.048461404, 0.028816463, 0.024607794, -0.04376276, 0.011608203, 0.0021703632, -0.045297313, -0.004816908, -0.0071430732, 0.011705692, -0.050064296, 0.029933248, -0.02080229, -0.07580785, -0.012268238, 0.07616305, 0.006857887, 0.018535187, 0.043729056, -0.032221675, -0.010121856, -0.019831156, -0.032731097, 0.0515312, 0.0024111872, 0.09096053, -0.03689633, 0.035708643, 0.036786962, 0.008324806, 0.001757773, 0.04144341, 0.042203397, 0.004593604, 0.021837639, 0.006627508, 0.0069022, -0.008452898, -0.032775443, 0.0061044367, -0.025006296, 0.012441073, 0.018081166, -0.062308643, -0.040046703, -0.019351328, 0.00072557223, 0.0022029332, -0.04199097, 0.023313774, 0.039377943, -0.0012839355, 0.0103785265, 0.002573743, 0.04384125, -0.0067742104, 0.045794934, 0.013882725, 0.032243915, 0.091929205, 0.037607223, 0.0060486146, 0.010843365, 0.001991803, -0.04838942, -0.0064126365, -0.030764619, -0.015602799, -0.04888587, -0.015245706, -0.00064773846, 0.01360885, 0.004033513, -0.0015530487, -0.008402032, -0.057285562, -0.027370622, 0.019342335, -0.03914548, 0.04900084, -0.052876357, -0.06024878, 0.009484414, 0.011271402, -0.001994486, -0.013369264, -0.0130786, 0.005090373, -0.0003995788, 0.045801576, -0.030488059, -0.07777238, 0.022998763, -0.007693638, -0.013473888, 0.007183012, 0.014312753, 0.01994947, 0.03403628, -0.0011623681, 0.022655934, -0.0049825236, -0.036455337, 0.0033899224, 0.020583674, -0.010457001, 0.027299067, 0.03460629, -0.011171918, -0.013660423, -0.027054664, -0.051442944, -0.07396909, -0.022817064, -0.0064836214, 0.03777409, -0.0677426, 0.016620716, -0.046481006, -0.030288065, -0.055035904, -0.015402414, -0.014477586, 0.0024700982, 0.024081908, -0.008900538, -0.0032105157, 0.026591286, -0.027869072, -0.01455275, -0.026460776, 0.068311274, -0.01962297, -0.028588908, -0.022712013, 0.0019694234, 0.007996597, -0.01320739, -0.07246265, -0.005246631, -0.035566848, 0.014131174, 0.0018361876, -0.08472873, 0.010380412, -0.038140625, 0.0066234684, -0.023485197, 0.051339693, 0.018931303, -0.0077242004, -0.019681484, -0.061547395, 0.036711216, 0.028462604, -0.022055028, 0.022947844, 0.03529193, 0.044653304, -0.029656371, -0.04243814, -0.02427193, 0.008206938, -0.015324316, 0.028326683, 0.070887506, 0.0349998, -0.04111004, -0.026912982, -0.011054018, 0.035632547, 0.057256706, -0.058149688, 0.02231301, -0.037273444, 0.00950276, -0.032509107, -0.007395907, 0.009455789, 0.005397236, -0.028935576, 0.054196645, -0.05186736, -0.010642795, 0.034427032, 0.04308133, 0.020671993, 0.06861083, 0.01830328, -0.08433641, 0.0023544622, -0.009237106, -0.041016597, 0.01291262, -0.0352203, 0.03299494, -0.006333336, -0.028377548, 0.054299653, -0.022590997, -0.03376276, -0.0061482224, 0.0014308209, 0.054026186, -0.030298073, -0.020893361, 0.04020406, -0.013849857, -0.0478423, 0.032006662, 0.037729375, -0.028789517, 0.0027584916, -0.0023380248, -0.05240387, 0.02170729, -0.027180914, 0.004551297, 0.02493268, -0.016037105, 0.009521465, 0.022595555, -0.033324063, -0.017912813, -0.026219225, 0.015336868, 0.018615946, 0.0014700937, 0.005194219, -0.005998306, -0.0021342067, 0.05593579, 0.00020284035, -0.013817418, 0.0005677768, 0.05248115, -0.0056857974, -0.024219804, -0.007482394, 0.04123051, 0.0055719293, 0.068411, -0.02563468, -0.03745689, -0.0021465535, -0.05163426, 0.048833355, 0.057269897, -0.0017718537, -0.012836741, 0.054180846, -0.03242787, -0.0032448475, 0.012544908, 0.0071952143, 0.020807253, 0.015043074, -0.08000575, 0.04709938, -0.009071926, 0.022494176, -0.007407807, -0.018199189, 0.019238548, -0.016820466, 0.026590088, 0.05919531, -0.015211089, -0.0510433, 0.050856046, -0.027980778, -0.017852055, 0.05260401, 0.0039136647, -0.010834248, 0.01584639, 0.011993318, 0.00852441, -0.097059116, 0.0048489347, -0.031514537, -0.049902532, -0.023312565, 0.0169847, 0.051852323, -0.01858693, -0.011750041, 0.020324364, 0.041236117, 0.04627045, 0.045885827, 0.035645086, 0.027820094, -0.05494418, -0.0018159925, 0.06008569, 0.056207854, 0.03509414, 0.074763365, 0.0004208977, -0.017919326, -0.049269877, 0.013118645, 0.038171757, 0.039853524, -0.023338124, -0.059176117, -0.040447816, -0.0145150805, -0.016418666, -0.012444612, -0.01580168, 0.01694388, -0.012097042, -0.104442894, -0.044068433, 0.028175201, 0.0032159043, 0.017225137, 0.02419725, 0.0003871912, 0.008296755, 0.0020322877, -0.06488944, -0.02853217, 0.036312364, -0.021784041, -0.028676901, 0.020023974, -0.015093378, -0.0053404663, -0.03540713, -0.03022747, -0.045241, -0.08903746, -0.052417908, 0.016018962, -0.05803908, 0.066331334, 0.014359937, 0.0024608157, 0.02044064, 0.049869247, 0.0139667895, 0.01106248, 0.023516618, 0.010368704, 0.039040446, -0.030965973, -0.016651275, 0.010691768, -0.008979694, 0.018564584, 0.032913856, 0.0032383192, -0.008841689, -0.008645397, 0.00016779326, -0.04452774, 0.007207218, -0.0086965095, 0.002356624, -0.0253297, -0.042708885, -0.03173582, 0.064279124, 0.030916398, -0.022305708, -0.01871124, -0.008136282, -0.01636213, 0.019092064, 0.010243903, -0.044051144, 0.018331837, -0.025844995, 0.035896596, 0.04925714, -0.053962626, -0.0849525, -0.009314449, -0.036446325, 0.0010881483, -0.04290476, 0.016017154, -0.011390376, 0.05649847, 0.0077353898, 0.015750611, 0.023586864, -0.0050651943, -0.053399336, 0.03008423, -0.021841934, -0.003586853, -0.025362542, 0.0315042, 0.039552346, -0.032164883, -0.03519625, -0.013936669, 0.006526044, 0.028186707, -0.018081088, 0.048061363, -0.04418975, -0.06463061, -0.010125075, -0.02926605, 0.022641543, 0.04015906, 0.022463536, -0.049245585, -0.010198768, -0.019940907, -0.003376235, -0.070108384, -0.03179991, -0.020567335, -0.015259155, 0.04870839, 0.030047687, -0.016861485, 0.020778328, -0.03464937, -0.0026895283, -0.005368552, -0.032978434, -0.004875402, -0.0055870223, -0.041837726, 0.016156392, 0.07281091, -0.043315165, 0.03330332]}\n"
     ]
    }
   ],
   "source": [
    "title = \"The next generation of AI for developers and Google Workspace\"\n",
    "sample_text = (\"Title: The next generation of AI for developers and Google Workspace\"\n",
    "    \"\\n\"\n",
    "    \"Full article:\\n\"\n",
    "    \"\\n\"\n",
    "    \"Gemini API & Google AI Studio: An approachable way to explore and prototype with generative AI applications\")\n",
    "\n",
    "model = 'models/embedding-001'\n",
    "embedding = genai.embed_content(model=model,\n",
    "                                content=sample_text,\n",
    "                                task_type=\"retrieval_document\",\n",
    "                                title=title)\n",
    "\n",
    "print(embedding)"
   ]
  },
  {
   "cell_type": "code",
   "execution_count": 5,
   "metadata": {},
   "outputs": [],
   "source": [
    "DOCUMENT1 = {\n",
    "    \"title\": \"Operating the Climate Control System\",\n",
    "    \"content\": \"Your Googlecar has a climate control system that allows you to adjust the temperature and airflow in the car. To operate the climate control system, use the buttons and knobs located on the center console.  Temperature: The temperature knob controls the temperature inside the car. Turn the knob clockwise to increase the temperature or counterclockwise to decrease the temperature. Airflow: The airflow knob controls the amount of airflow inside the car. Turn the knob clockwise to increase the airflow or counterclockwise to decrease the airflow. Fan speed: The fan speed knob controls the speed of the fan. Turn the knob clockwise to increase the fan speed or counterclockwise to decrease the fan speed. Mode: The mode button allows you to select the desired mode. The available modes are: Auto: The car will automatically adjust the temperature and airflow to maintain a comfortable level. Cool: The car will blow cool air into the car. Heat: The car will blow warm air into the car. Defrost: The car will blow warm air onto the windshield to defrost it.\"}\n",
    "DOCUMENT2 = {\n",
    "    \"title\": \"Touchscreen\",\n",
    "    \"content\": \"Your Googlecar has a large touchscreen display that provides access to a variety of features, including navigation, entertainment, and climate control. To use the touchscreen display, simply touch the desired icon.  For example, you can touch the \\\"Navigation\\\" icon to get directions to your destination or touch the \\\"Music\\\" icon to play your favorite songs.\"}\n",
    "DOCUMENT3 = {\n",
    "    \"title\": \"Shifting Gears\",\n",
    "    \"content\": \"Your Googlecar has an automatic transmission. To shift gears, simply move the shift lever to the desired position.  Park: This position is used when you are parked. The wheels are locked and the car cannot move. Reverse: This position is used to back up. Neutral: This position is used when you are stopped at a light or in traffic. The car is not in gear and will not move unless you press the gas pedal. Drive: This position is used to drive forward. Low: This position is used for driving in snow or other slippery conditions.\"}\n",
    "\n",
    "documents = [DOCUMENT1, DOCUMENT2, DOCUMENT3]"
   ]
  },
  {
   "cell_type": "code",
   "execution_count": 14,
   "metadata": {},
   "outputs": [
    {
     "data": {
      "text/html": [
       "<div>\n",
       "<style scoped>\n",
       "    .dataframe tbody tr th:only-of-type {\n",
       "        vertical-align: middle;\n",
       "    }\n",
       "\n",
       "    .dataframe tbody tr th {\n",
       "        vertical-align: top;\n",
       "    }\n",
       "\n",
       "    .dataframe thead th {\n",
       "        text-align: right;\n",
       "    }\n",
       "</style>\n",
       "<table border=\"1\" class=\"dataframe\">\n",
       "  <thead>\n",
       "    <tr style=\"text-align: right;\">\n",
       "      <th></th>\n",
       "      <th>Title</th>\n",
       "      <th>Text</th>\n",
       "    </tr>\n",
       "  </thead>\n",
       "  <tbody>\n",
       "    <tr>\n",
       "      <th>0</th>\n",
       "      <td>Operating the Climate Control System</td>\n",
       "      <td>Your Googlecar has a climate control system th...</td>\n",
       "    </tr>\n",
       "    <tr>\n",
       "      <th>1</th>\n",
       "      <td>Touchscreen</td>\n",
       "      <td>Your Googlecar has a large touchscreen display...</td>\n",
       "    </tr>\n",
       "    <tr>\n",
       "      <th>2</th>\n",
       "      <td>Shifting Gears</td>\n",
       "      <td>Your Googlecar has an automatic transmission. ...</td>\n",
       "    </tr>\n",
       "  </tbody>\n",
       "</table>\n",
       "</div>"
      ],
      "text/plain": [
       "                                  Title  \\\n",
       "0  Operating the Climate Control System   \n",
       "1                           Touchscreen   \n",
       "2                        Shifting Gears   \n",
       "\n",
       "                                                Text  \n",
       "0  Your Googlecar has a climate control system th...  \n",
       "1  Your Googlecar has a large touchscreen display...  \n",
       "2  Your Googlecar has an automatic transmission. ...  "
      ]
     },
     "execution_count": 14,
     "metadata": {},
     "output_type": "execute_result"
    }
   ],
   "source": [
    "import pandas as pd\n",
    "import numpy as np\n",
    "import textwrap\n",
    "\n",
    "df = pd.DataFrame(documents)\n",
    "df.columns = ['Title','Text']\n",
    "df"
   ]
  },
  {
   "cell_type": "code",
   "execution_count": 15,
   "metadata": {},
   "outputs": [
    {
     "data": {
      "text/html": [
       "<div>\n",
       "<style scoped>\n",
       "    .dataframe tbody tr th:only-of-type {\n",
       "        vertical-align: middle;\n",
       "    }\n",
       "\n",
       "    .dataframe tbody tr th {\n",
       "        vertical-align: top;\n",
       "    }\n",
       "\n",
       "    .dataframe thead th {\n",
       "        text-align: right;\n",
       "    }\n",
       "</style>\n",
       "<table border=\"1\" class=\"dataframe\">\n",
       "  <thead>\n",
       "    <tr style=\"text-align: right;\">\n",
       "      <th></th>\n",
       "      <th>Title</th>\n",
       "      <th>Text</th>\n",
       "      <th>Embeddings</th>\n",
       "    </tr>\n",
       "  </thead>\n",
       "  <tbody>\n",
       "    <tr>\n",
       "      <th>0</th>\n",
       "      <td>Operating the Climate Control System</td>\n",
       "      <td>Your Googlecar has a climate control system th...</td>\n",
       "      <td>[-0.03336111, -0.021217091, -0.04958193, -0.01...</td>\n",
       "    </tr>\n",
       "    <tr>\n",
       "      <th>1</th>\n",
       "      <td>Touchscreen</td>\n",
       "      <td>Your Googlecar has a large touchscreen display...</td>\n",
       "      <td>[0.009660737, -0.030662702, -0.01728142, -0.05...</td>\n",
       "    </tr>\n",
       "    <tr>\n",
       "      <th>2</th>\n",
       "      <td>Shifting Gears</td>\n",
       "      <td>Your Googlecar has an automatic transmission. ...</td>\n",
       "      <td>[-0.042707954, -0.007160867, -0.03242516, -0.0...</td>\n",
       "    </tr>\n",
       "  </tbody>\n",
       "</table>\n",
       "</div>"
      ],
      "text/plain": [
       "                                  Title  \\\n",
       "0  Operating the Climate Control System   \n",
       "1                           Touchscreen   \n",
       "2                        Shifting Gears   \n",
       "\n",
       "                                                Text  \\\n",
       "0  Your Googlecar has a climate control system th...   \n",
       "1  Your Googlecar has a large touchscreen display...   \n",
       "2  Your Googlecar has an automatic transmission. ...   \n",
       "\n",
       "                                          Embeddings  \n",
       "0  [-0.03336111, -0.021217091, -0.04958193, -0.01...  \n",
       "1  [0.009660737, -0.030662702, -0.01728142, -0.05...  \n",
       "2  [-0.042707954, -0.007160867, -0.03242516, -0.0...  "
      ]
     },
     "execution_count": 15,
     "metadata": {},
     "output_type": "execute_result"
    }
   ],
   "source": [
    "def embed_fn(title, text):\n",
    "    return genai.embed_content(model=model,\n",
    "                              content=text,\n",
    "                              task_type=\"retrieval_document\",\n",
    "                              title=title\n",
    "                              )[\"embedding\"]\n",
    "df['Embeddings'] = df.apply(lambda row:embed_fn(row['Title'], row['Text']),axis=1)\n",
    "df\n"
   ]
  },
  {
   "cell_type": "code",
   "execution_count": 16,
   "metadata": {},
   "outputs": [],
   "source": [
    "query = \"How do you shift gears in the Google car?\"\n",
    "model = 'models/embedding-001'\n",
    "\n",
    "request = genai.embed_content(model=model,\n",
    "                              content=query,\n",
    "                              task_type=\"retrieval_query\")"
   ]
  },
  {
   "cell_type": "code",
   "execution_count": 17,
   "metadata": {},
   "outputs": [],
   "source": [
    "\n",
    "def find_best_passage(query, dataframe):\n",
    "  \"\"\"\n",
    "  Compute the distances between the query and each document in the dataframe\n",
    "  using the dot product.\n",
    "  \"\"\"\n",
    "  query_embedding = genai.embed_content(model=model,\n",
    "                                        content=query,\n",
    "                                        task_type=\"retrieval_query\")\n",
    "  dot_products = np.dot(np.stack(dataframe['Embeddings']), query_embedding[\"embedding\"])\n",
    "  idx = np.argmax(dot_products)\n",
    "  return dataframe.iloc[idx]['Text'] # Return text from index with max value"
   ]
  },
  {
   "cell_type": "code",
   "execution_count": 18,
   "metadata": {},
   "outputs": [
    {
     "data": {
      "text/plain": [
       "'Your Googlecar has an automatic transmission. To shift gears, simply move the shift lever to the desired position.  Park: This position is used when you are parked. The wheels are locked and the car cannot move. Reverse: This position is used to back up. Neutral: This position is used when you are stopped at a light or in traffic. The car is not in gear and will not move unless you press the gas pedal. Drive: This position is used to drive forward. Low: This position is used for driving in snow or other slippery conditions.'"
      ]
     },
     "execution_count": 18,
     "metadata": {},
     "output_type": "execute_result"
    }
   ],
   "source": [
    "passage = find_best_passage(query, df)\n",
    "passage"
   ]
  },
  {
   "cell_type": "code",
   "execution_count": 19,
   "metadata": {},
   "outputs": [],
   "source": [
    "def make_prompt(query, relevant_passage):\n",
    "  escaped = relevant_passage.replace(\"'\", \"\").replace('\"', \"\").replace(\"\\n\", \" \")\n",
    "  prompt = textwrap.dedent(\"\"\"You are a helpful and informative bot that answers questions using text from the reference passage included below. \\\n",
    "  Be sure to respond in a complete sentence, being comprehensive, including all relevant background information. \\\n",
    "  However, you are talking to a non-technical audience, so be sure to break down complicated concepts and \\\n",
    "  strike a friendly and converstional tone. \\\n",
    "  If the passage is irrelevant to the answer, you may ignore it.\n",
    "  QUESTION: '{query}'\n",
    "  PASSAGE: '{relevant_passage}'\n",
    "\n",
    "    ANSWER:\n",
    "  \"\"\").format(query=query, relevant_passage=escaped)\n",
    "\n",
    "  return prompt"
   ]
  },
  {
   "cell_type": "code",
   "execution_count": 20,
   "metadata": {},
   "outputs": [
    {
     "name": "stdout",
     "output_type": "stream",
     "text": [
      "You are a helpful and informative bot that answers questions using text from the reference passage included below.   Be sure to respond in a complete sentence, being comprehensive, including all relevant background information.   However, you are talking to a non-technical audience, so be sure to break down complicated concepts and   strike a friendly and converstional tone.   If the passage is irrelevant to the answer, you may ignore it.\n",
      "  QUESTION: 'How do you shift gears in the Google car?'\n",
      "  PASSAGE: 'Your Googlecar has an automatic transmission. To shift gears, simply move the shift lever to the desired position.  Park: This position is used when you are parked. The wheels are locked and the car cannot move. Reverse: This position is used to back up. Neutral: This position is used when you are stopped at a light or in traffic. The car is not in gear and will not move unless you press the gas pedal. Drive: This position is used to drive forward. Low: This position is used for driving in snow or other slippery conditions.'\n",
      "\n",
      "    ANSWER:\n",
      "\n"
     ]
    }
   ],
   "source": [
    "prompt = make_prompt(query, passage)\n",
    "print(prompt)"
   ]
  },
  {
   "cell_type": "code",
   "execution_count": 21,
   "metadata": {},
   "outputs": [
    {
     "name": "stdout",
     "output_type": "stream",
     "text": [
      "models/gemini-1.0-pro-latest\n",
      "models/gemini-1.0-pro\n",
      "models/gemini-pro\n",
      "models/gemini-1.0-pro-001\n",
      "models/gemini-1.0-pro-vision-latest\n",
      "models/gemini-pro-vision\n",
      "models/gemini-1.5-pro-latest\n",
      "models/gemini-1.5-pro-001\n",
      "models/gemini-1.5-pro-002\n",
      "models/gemini-1.5-pro\n",
      "models/gemini-1.5-pro-exp-0801\n",
      "models/gemini-1.5-pro-exp-0827\n",
      "models/gemini-1.5-flash-latest\n",
      "models/gemini-1.5-flash-001\n",
      "models/gemini-1.5-flash-001-tuning\n",
      "models/gemini-1.5-flash\n",
      "models/gemini-1.5-flash-exp-0827\n",
      "models/gemini-1.5-flash-002\n",
      "models/gemini-1.5-flash-8b\n",
      "models/gemini-1.5-flash-8b-001\n",
      "models/gemini-1.5-flash-8b-latest\n",
      "models/gemini-1.5-flash-8b-exp-0827\n",
      "models/gemini-1.5-flash-8b-exp-0924\n",
      "models/gemini-2.0-flash-exp\n",
      "models/gemini-exp-1206\n",
      "models/gemini-exp-1121\n",
      "models/gemini-exp-1114\n",
      "models/gemini-2.0-flash-thinking-exp\n",
      "models/gemini-2.0-flash-thinking-exp-1219\n",
      "models/learnlm-1.5-pro-experimental\n"
     ]
    }
   ],
   "source": [
    "for m in genai.list_models():\n",
    "  if 'generateContent' in m.supported_generation_methods:\n",
    "    print(m.name)"
   ]
  },
  {
   "cell_type": "code",
   "execution_count": 22,
   "metadata": {},
   "outputs": [],
   "source": [
    "model = genai.GenerativeModel('gemini-1.5-pro-latest')\n",
    "answer = model.generate_content(prompt)"
   ]
  },
  {
   "cell_type": "code",
   "execution_count": 24,
   "metadata": {},
   "outputs": [
    {
     "data": {
      "text/markdown": [
       "The Google car has an automatic transmission, so you simply move the shift lever to the position you need:  \"Park\" locks the wheels when you're parked, \"Reverse\" is for backing up, \"Neutral\" is for when you're stopped but don't want the car in gear, \"Drive\" is for moving forward, and \"Low\" is helpful for snowy or slippery conditions.\n"
      ],
      "text/plain": [
       "<IPython.core.display.Markdown object>"
      ]
     },
     "execution_count": 24,
     "metadata": {},
     "output_type": "execute_result"
    }
   ],
   "source": [
    "from IPython.display import Markdown\n",
    "Markdown(answer.text)"
   ]
  }
 ],
 "metadata": {
  "kernelspec": {
   "display_name": "base",
   "language": "python",
   "name": "python3"
  },
  "language_info": {
   "codemirror_mode": {
    "name": "ipython",
    "version": 3
   },
   "file_extension": ".py",
   "mimetype": "text/x-python",
   "name": "python",
   "nbconvert_exporter": "python",
   "pygments_lexer": "ipython3",
   "version": "3.12.2"
  }
 },
 "nbformat": 4,
 "nbformat_minor": 2
}
