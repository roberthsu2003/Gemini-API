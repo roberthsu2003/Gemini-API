{
 "cells": [
  {
   "cell_type": "code",
   "execution_count": null,
   "metadata": {},
   "outputs": [],
   "source": [
    "import os\n",
    "import google.generativeai as genai\n",
    "\n",
    "genai.configure(api_key=os.environ['GEMINI_API_KEY'])\n",
    "model = genai.GenerativeModel(\n",
    "    model_name='gemini-2.0-flash-exp',\n",
    "    tools='code_execution'\n",
    "    )\n",
    "response = model.generate_content(\n",
    "    ('What is the sum of the first 50 prime numbers? ',\n",
    "    'Generate and run code for the calculation, and make sure you get all 50.')\n",
    ")\n",
    "\n",
    "print(response.text)\n"
   ]
  },
  {
   "cell_type": "code",
   "execution_count": null,
   "metadata": {},
   "outputs": [],
   "source": [
    "import os\n",
    "import google.generativeai as genai\n",
    "\n",
    "genai.configure(api_key=os.environ['GEMINI_API_KEY'])\n",
    "model = genai.GenerativeModel(\n",
    "    model_name='gemini-2.0-flash-exp'\n",
    ")\n",
    "response = model.generate_content(\n",
    "    ('What is the sum of the first 50 prime numbers? ',\n",
    "    'Generate and run code for the calculation, and make sure you get all 50.'),\n",
    "    tools='code_execution'\n",
    ")\n",
    "\n",
    "print(response.text)\n"
   ]
  },
  {
   "cell_type": "code",
   "execution_count": 5,
   "metadata": {},
   "outputs": [
    {
     "name": "stdout",
     "output_type": "stream",
     "text": [
      "Okay, I understand. You want me to calculate the sum of the first 50 prime numbers. Here's how I'll approach this:\n",
      "\n",
      "1. **Generate Prime Numbers:** I'll use a function to generate prime numbers one by one until I have 50 of them.\n",
      "2. **Sum the Primes:** I'll keep a running total of the generated prime numbers.\n",
      "3. **Return the Sum:** Once I have 50 prime numbers, I'll return the final sum.\n",
      "\n",
      "Here's the code to accomplish this:\n",
      "\n",
      "\n",
      "``` python\n",
      "def is_prime(n):\n",
      "    if n <= 1:\n",
      "        return False\n",
      "    if n <= 3:\n",
      "        return True\n",
      "    if n % 2 == 0 or n % 3 == 0:\n",
      "        return False\n",
      "    i = 5\n",
      "    while i * i <= n:\n",
      "        if n % i == 0 or n % (i + 2) == 0:\n",
      "            return False\n",
      "        i += 6\n",
      "    return True\n",
      "\n",
      "def sum_first_n_primes(n):\n",
      "    primes = []\n",
      "    num = 2\n",
      "    while len(primes) < n:\n",
      "        if is_prime(num):\n",
      "            primes.append(num)\n",
      "        num += 1\n",
      "    return sum(primes)\n",
      "\n",
      "sum_of_primes = sum_first_n_primes(50)\n",
      "print(f'{sum_of_primes=}')\n",
      "\n",
      "\n",
      "```\n",
      "```\n",
      "sum_of_primes=5117\n",
      "\n",
      "```\n",
      "The sum of the first 50 prime numbers is 5117.\n",
      "\n"
     ]
    }
   ],
   "source": [
    "import os\n",
    "import google.generativeai as genai\n",
    "\n",
    "genai.configure(api_key=os.environ['GEMINI_API_KEY'])\n",
    "model = genai.GenerativeModel(\n",
    "    model_name='gemini-2.0-flash-exp',\n",
    "    tools='code_execution'\n",
    "    )\n",
    "chat = model.start_chat()\n",
    "\n",
    "response = chat.send_message(\n",
    "    ('What is the sum of the first 50 prime numbers? ',\n",
    "    'Generate and run code for the calculation, and make sure you get all 50.')\n",
    ")\n",
    "\n",
    "print(response.text)\n"
   ]
  }
 ],
 "metadata": {
  "kernelspec": {
   "display_name": "base",
   "language": "python",
   "name": "python3"
  },
  "language_info": {
   "codemirror_mode": {
    "name": "ipython",
    "version": 3
   },
   "file_extension": ".py",
   "mimetype": "text/x-python",
   "name": "python",
   "nbconvert_exporter": "python",
   "pygments_lexer": "ipython3",
   "version": "3.12.2"
  }
 },
 "nbformat": 4,
 "nbformat_minor": 2
}
