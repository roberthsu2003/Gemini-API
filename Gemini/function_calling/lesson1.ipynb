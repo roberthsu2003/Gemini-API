{
 "cells": [
  {
   "cell_type": "code",
   "execution_count": 6,
   "metadata": {},
   "outputs": [
    {
     "data": {
      "text/plain": [
       "\"OK. I've set the lights to 30% brightness with a warm color temperature.\\n\""
      ]
     },
     "execution_count": 6,
     "metadata": {},
     "output_type": "execute_result"
    }
   ],
   "source": [
    "import os\n",
    "import google.generativeai as genai\n",
    "\n",
    "def set_light_value(brightness:int, color_temp:str)->str:\n",
    "    \"\"\"Set the brightness and color temperature of a room light. (mock API).\n",
    "\n",
    "    Args:\n",
    "        brightness: Light level from 0 to 100. Zero is off and 100 is full brightness\n",
    "        color_temp: Color temperature of the light fixture, which can be `daylight`, `cool` or `warm`.\n",
    "\n",
    "    Returns:\n",
    "        A dictionary containing the set brightness and color temperature.\n",
    "    \"\"\"\n",
    "    return {\n",
    "        \"brightness\":brightness,\n",
    "        \"colorTemperature\":color_temp\n",
    "    }\n",
    "\n",
    "model = genai.GenerativeModel(\n",
    "    model_name='gemini-2.0-flash-exp',\n",
    "    tools=[set_light_value]\n",
    "    )\n",
    "chat = model.start_chat(enable_automatic_function_calling=True)\n",
    "response = chat.send_message('Dim the lights so the room feels cozy and warm.')\n",
    "response.text"
   ]
  },
  {
   "cell_type": "code",
   "execution_count": 2,
   "metadata": {},
   "outputs": [
    {
     "name": "stdout",
     "output_type": "stream",
     "text": [
      "50.0\n",
      "正常光線\n"
     ]
    },
    {
     "data": {
      "text/plain": [
       "'好的，我已經將光線亮度設定為50，光線溫度設定為正常光線。\\n'"
      ]
     },
     "execution_count": 2,
     "metadata": {},
     "output_type": "execute_result"
    }
   ],
   "source": [
    "import os\n",
    "import google.generativeai as genai\n",
    "\n",
    "def set_light_value(brightness:int, color_temp:str)->str:\n",
    "    \"\"\"設定房間的光線亮度和光線溫度 (模擬的API).\n",
    "\n",
    "    Args:\n",
    "        brightness: 亮度的等級從0~100,如果為0代表關閉光線,如果為100代表光線全開\n",
    "        color_temp: 代表光線的溫度,有3個等線 `正常光線`, `冷光線` or `溫暖光線`.\n",
    "\n",
    "    Returns:\n",
    "        一個詞典物件設定光線高度和光線溫度.\n",
    "    \"\"\"\n",
    "    print(brightness)\n",
    "    print(color_temp)\n",
    "    return {\n",
    "        \"brightness\":brightness,\n",
    "        \"colorTemperature\":color_temp\n",
    "    }\n",
    "\n",
    "model = genai.GenerativeModel(\n",
    "    model_name='gemini-2.0-flash-exp',\n",
    "    tools=[set_light_value]\n",
    "    )\n",
    "chat = model.start_chat(enable_automatic_function_calling=True)\n",
    "response = chat.send_message('開啟光線至50和設定為正常')\n",
    "response.text"
   ]
  },
  {
   "cell_type": "code",
   "execution_count": 15,
   "metadata": {},
   "outputs": [
    {
     "data": {
      "text/plain": [
       "genai.GenerativeModel(\n",
       "    model_name='models/gemini-2.0-flash-exp',\n",
       "    generation_config={},\n",
       "    safety_settings={},\n",
       "    tools=<google.generativeai.types.content_types.FunctionLibrary object at 0x7f76154e90>,\n",
       "    system_instruction=None,\n",
       "    cached_content=None\n",
       ")"
      ]
     },
     "execution_count": 15,
     "metadata": {},
     "output_type": "execute_result"
    }
   ],
   "source": [
    "import os\n",
    "import google.generativeai as genai\n",
    "\n",
    "def add(a:float, b:float)->float:\n",
    "    '''\n",
    "    傳出a + b.\n",
    "    '''\n",
    "    return a + b\n",
    "\n",
    "def subtract(a:float, b:float)->float:\n",
    "    '''\n",
    "    傳出a - b.\n",
    "    '''\n",
    "    return a - b\n",
    "\n",
    "def multiply(a:float, b:float) -> float:\n",
    "    '''\n",
    "    傳出a * b.\n",
    "    '''\n",
    "\n",
    "    return a * b\n",
    "\n",
    "def divide(a:float, b:float):\n",
    "    '''\n",
    "    傳出 a / b.\n",
    "    '''\n",
    "\n",
    "    return a / b\n",
    "\n",
    "model = genai.GenerativeModel(\n",
    "    model_name = 'gemini-2.0-flash-exp',\n",
    "    tools = [add, multiply, divide, subtract]\n",
    ")\n",
    "\n",
    "#檢查model的tools\n",
    "model\n"
   ]
  },
  {
   "cell_type": "markdown",
   "metadata": {},
   "source": [
    "### 使用Automatic function calling"
   ]
  },
  {
   "cell_type": "code",
   "execution_count": 4,
   "metadata": {},
   "outputs": [
    {
     "data": {
      "text/plain": [
       "'There are 2508 mittens in total.\\n'"
      ]
     },
     "execution_count": 4,
     "metadata": {},
     "output_type": "execute_result"
    }
   ],
   "source": [
    "import os\n",
    "import google.generativeai as genai\n",
    "\n",
    "def add(a:float, b:float)->float:\n",
    "    '''\n",
    "    傳出a + b.\n",
    "    '''\n",
    "    return a + b\n",
    "\n",
    "def subtract(a:float, b:float)->float:\n",
    "    '''\n",
    "    傳出a - b.\n",
    "    '''\n",
    "    return a - b\n",
    "\n",
    "def multiply(a:float, b:float) -> float:\n",
    "    '''\n",
    "    傳出a * b.\n",
    "    '''\n",
    "\n",
    "    return a * b\n",
    "\n",
    "def divide(a:float, b:float):\n",
    "    '''\n",
    "    傳出 a / b.\n",
    "    '''\n",
    "\n",
    "    return a / b\n",
    "\n",
    "model = genai.GenerativeModel(\n",
    "    model_name = 'gemini-2.0-flash-exp',\n",
    "    tools = [add, multiply, divide, subtract]\n",
    ")\n",
    "\n",
    "chat = model.start_chat(enable_automatic_function_calling=True)\n",
    "\n",
    "response = chat.send_message(\n",
    "    \"I have 57 cats, each owns 44 mittens, how many mittens is that in total?\"\n",
    ")\n",
    "response.text"
   ]
  },
  {
   "cell_type": "code",
   "execution_count": null,
   "metadata": {},
   "outputs": [],
   "source": []
  }
 ],
 "metadata": {
  "kernelspec": {
   "display_name": "base",
   "language": "python",
   "name": "python3"
  },
  "language_info": {
   "codemirror_mode": {
    "name": "ipython",
    "version": 3
   },
   "file_extension": ".py",
   "mimetype": "text/x-python",
   "name": "python",
   "nbconvert_exporter": "python",
   "pygments_lexer": "ipython3",
   "version": "3.12.2"
  }
 },
 "nbformat": 4,
 "nbformat_minor": 2
}
