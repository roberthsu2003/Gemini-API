{
 "cells": [
  {
   "cell_type": "code",
   "execution_count": 6,
   "metadata": {},
   "outputs": [
    {
     "data": {
      "text/plain": [
       "\"OK. I've set the lights to 30% brightness with a warm color temperature.\\n\""
      ]
     },
     "execution_count": 6,
     "metadata": {},
     "output_type": "execute_result"
    }
   ],
   "source": [
    "import os\n",
    "import google.generativeai as genai\n",
    "\n",
    "def set_light_value(brightness:int, color_temp:str)->str:\n",
    "    \"\"\"Set the brightness and color temperature of a room light. (mock API).\n",
    "\n",
    "    Args:\n",
    "        brightness: Light level from 0 to 100. Zero is off and 100 is full brightness\n",
    "        color_temp: Color temperature of the light fixture, which can be `daylight`, `cool` or `warm`.\n",
    "\n",
    "    Returns:\n",
    "        A dictionary containing the set brightness and color temperature.\n",
    "    \"\"\"\n",
    "    return {\n",
    "        \"brightness\":brightness,\n",
    "        \"colorTemperature\":color_temp\n",
    "    }\n",
    "genai.configure(api_key=os.environ['GEMINI_API_KEY'])\n",
    "\n",
    "model = genai.GenerativeModel(\n",
    "    model_name='gemini-2.0-flash-exp',\n",
    "    tools=[set_light_value]\n",
    "    )\n",
    "chat = model.start_chat(enable_automatic_function_calling=True)\n",
    "response = chat.send_message('Dim the lights so the room feels cozy and warm.')\n",
    "response.text"
   ]
  },
  {
   "cell_type": "code",
   "execution_count": null,
   "metadata": {},
   "outputs": [
    {
     "name": "stdout",
     "output_type": "stream",
     "text": [
      "50.0\n",
      "正常光線\n"
     ]
    },
    {
     "data": {
      "text/plain": [
       "'好的，我已經將光線亮度設定為50，光線溫度設定為正常光線。\\n'"
      ]
     },
     "execution_count": 2,
     "metadata": {},
     "output_type": "execute_result"
    }
   ],
   "source": [
    "import os\n",
    "import google.generativeai as genai\n",
    "\n",
    "def set_light_value(brightness:int, color_temp:str)->str:\n",
    "    \"\"\"設定房間的光線亮度和光線溫度 (模擬的API).\n",
    "\n",
    "    Args:\n",
    "        brightness: 亮度的等級從0~100,如果為0代表關閉光線,如果為100代表光線全開\n",
    "        color_temp: 代表光線的溫度,有3個等線 `正常光線`, `冷光線` or `溫暖光線`.\n",
    "\n",
    "    Returns:\n",
    "        一個詞典物件設定光線高度和光線溫度.\n",
    "    \"\"\"\n",
    "    print(brightness)\n",
    "    print(color_temp)\n",
    "    return {\n",
    "        \"brightness\":brightness,\n",
    "        \"colorTemperature\":color_temp\n",
    "    }\n",
    "genai.configure(api_key=os.environ['GEMINI_API_KEY'])\n",
    "model = genai.GenerativeModel(\n",
    "    model_name='gemini-2.0-flash-exp',\n",
    "    tools=[set_light_value]\n",
    "    )\n",
    "chat = model.start_chat(enable_automatic_function_calling=True)\n",
    "response = chat.send_message('開啟光線至50和設定為正常')\n",
    "response.text"
   ]
  },
  {
   "cell_type": "code",
   "execution_count": 15,
   "metadata": {},
   "outputs": [
    {
     "data": {
      "text/plain": [
       "genai.GenerativeModel(\n",
       "    model_name='models/gemini-2.0-flash-exp',\n",
       "    generation_config={},\n",
       "    safety_settings={},\n",
       "    tools=<google.generativeai.types.content_types.FunctionLibrary object at 0x7f76154e90>,\n",
       "    system_instruction=None,\n",
       "    cached_content=None\n",
       ")"
      ]
     },
     "execution_count": 15,
     "metadata": {},
     "output_type": "execute_result"
    }
   ],
   "source": [
    "import os\n",
    "import google.generativeai as genai\n",
    "\n",
    "def add(a:float, b:float)->float:\n",
    "    '''\n",
    "    傳出a + b.\n",
    "    '''\n",
    "    return a + b\n",
    "\n",
    "def subtract(a:float, b:float)->float:\n",
    "    '''\n",
    "    傳出a - b.\n",
    "    '''\n",
    "    return a - b\n",
    "\n",
    "def multiply(a:float, b:float) -> float:\n",
    "    '''\n",
    "    傳出a * b.\n",
    "    '''\n",
    "\n",
    "    return a * b\n",
    "\n",
    "def divide(a:float, b:float):\n",
    "    '''\n",
    "    傳出 a / b.\n",
    "    '''\n",
    "\n",
    "    return a / b\n",
    "genai.configure(api_key=os.environ['GEMINI_API_KEY'])\n",
    "model = genai.GenerativeModel(\n",
    "    model_name = 'gemini-2.0-flash-exp',\n",
    "    tools = [add, multiply, divide, subtract]\n",
    ")\n",
    "\n",
    "#檢查model的tools\n",
    "model\n"
   ]
  },
  {
   "cell_type": "markdown",
   "metadata": {},
   "source": [
    "### 使用Automatic function calling"
   ]
  },
  {
   "cell_type": "code",
   "execution_count": null,
   "metadata": {},
   "outputs": [
    {
     "data": {
      "text/plain": [
       "'There are 2508 mittens in total.\\n'"
      ]
     },
     "execution_count": 4,
     "metadata": {},
     "output_type": "execute_result"
    }
   ],
   "source": [
    "import os\n",
    "import google.generativeai as genai\n",
    "\n",
    "def add(a:float, b:float)->float:\n",
    "    '''\n",
    "    傳出a + b.\n",
    "    '''\n",
    "    return a + b\n",
    "\n",
    "def subtract(a:float, b:float)->float:\n",
    "    '''\n",
    "    傳出a - b.\n",
    "    '''\n",
    "    return a - b\n",
    "\n",
    "def multiply(a:float, b:float) -> float:\n",
    "    '''\n",
    "    傳出a * b.\n",
    "    '''\n",
    "\n",
    "    return a * b\n",
    "\n",
    "def divide(a:float, b:float):\n",
    "    '''\n",
    "    傳出 a / b.\n",
    "    '''\n",
    "\n",
    "    return a / b\n",
    "    \n",
    "genai.configure(api_key=os.environ['GEMINI_API_KEY'])\n",
    "model = genai.GenerativeModel(\n",
    "    model_name = 'gemini-2.0-flash-exp',\n",
    "    tools = [add, multiply, divide, subtract]\n",
    ")\n",
    "\n",
    "chat = model.start_chat(enable_automatic_function_calling=True)\n",
    "\n",
    "response = chat.send_message(\n",
    "    \"I have 57 cats, each owns 44 mittens, how many mittens is that in total?\"\n",
    ")\n",
    "response.text"
   ]
  },
  {
   "cell_type": "markdown",
   "metadata": {},
   "source": [
    "### ChatSession.history"
   ]
  },
  {
   "cell_type": "code",
   "execution_count": null,
   "metadata": {},
   "outputs": [
    {
     "name": "stdout",
     "output_type": "stream",
     "text": [
      "user -> [{'text': 'I have 57 cats, each owns 44 mittens, how many mittens is that in total?'}]\n",
      "--------------------------------------------------------------------------------\n",
      "model -> [{'function_call': {'name': 'multiply', 'args': {'a': 57.0, 'b': 44.0}}}]\n",
      "--------------------------------------------------------------------------------\n",
      "user -> [{'function_response': {'name': 'multiply', 'response': {'result': 2508.0}}}]\n",
      "--------------------------------------------------------------------------------\n",
      "model -> [{'text': 'There are 2508 mittens in total.\\n'}]\n",
      "--------------------------------------------------------------------------------\n"
     ]
    }
   ],
   "source": [
    "import os\n",
    "import google.generativeai as genai\n",
    "\n",
    "def add(a:float, b:float)->float:\n",
    "    '''\n",
    "    傳出a + b.\n",
    "    '''\n",
    "    return a + b\n",
    "\n",
    "def subtract(a:float, b:float)->float:\n",
    "    '''\n",
    "    傳出a - b.\n",
    "    '''\n",
    "    return a - b\n",
    "\n",
    "def multiply(a:float, b:float) -> float:\n",
    "    '''\n",
    "    傳出a * b.\n",
    "    '''\n",
    "\n",
    "    return a * b\n",
    "\n",
    "def divide(a:float, b:float):\n",
    "    '''\n",
    "    傳出 a / b.\n",
    "    '''\n",
    "\n",
    "    return a / b\n",
    "\n",
    "genai.configure(api_key=os.environ['GEMINI_API_KEY'])\n",
    "model = genai.GenerativeModel(\n",
    "    model_name = 'gemini-2.0-flash-exp',\n",
    "    tools = [add, multiply, divide, subtract]\n",
    ")\n",
    "\n",
    "chat = model.start_chat(enable_automatic_function_calling=True)\n",
    "\n",
    "response = chat.send_message(\n",
    "    \"I have 57 cats, each owns 44 mittens, how many mittens is that in total?\"\n",
    ")\n",
    "response.text\n",
    "\n",
    "for content in chat.history:\n",
    "    print(content.role, '->', [type(part).to_dict(part) for part in content.parts])\n",
    "    print(\"-\" * 80)"
   ]
  },
  {
   "cell_type": "markdown",
   "metadata": {},
   "source": [
    "### 管理function的呼叫\n"
   ]
  },
  {
   "cell_type": "code",
   "execution_count": null,
   "metadata": {},
   "outputs": [],
   "source": [
    "import os\n",
    "import google.generativeai as genai\n",
    "\n",
    "def find_movies(description:str, location:str = \"\") -> list[str]:\n",
    "    \"\"\"find movie titles currently playing in theaters based on any description, genre, title words, etc.\n",
    "\n",
    "    Args:\n",
    "        description: Any kind of description including category or genre, title words, attributes, etc.\n",
    "        location: The city and state, e.g. San Francisco, CA or a zip code e.g. 95616\n",
    "    \"\"\"\n",
    "\n",
    "    return [\"Barbie\", \"Oppenheimer\"]\n",
    "\n",
    "def find_theaters(location: str, movie: str = \"\"):\n",
    "    \"\"\"Find theaters based on location and optionally movie title which are is currently playing in theaters.\n",
    "\n",
    "    Args:\n",
    "        location: The city and state, e.g. San Francisco, CA or a zip code e.g. 95616\n",
    "        movie: Any movie title\n",
    "    \"\"\"\n",
    "    return [\"Googleplex 16\", \"Android Theatre\"]\n",
    "\n",
    "def get_showtimes(location: str, movie: str, theater: str, date: str):\n",
    "    \"\"\"\n",
    "    Find the start times for movies playing in a specific theater.\n",
    "\n",
    "    Args:\n",
    "      location: The city and state, e.g. San Francisco, CA or a zip code e.g. 95616\n",
    "      movie: Any movie title\n",
    "      thearer: Name of the theater\n",
    "      date: Date for requested showtime\n",
    "    \"\"\"\n",
    "    return [\"10:00\", \"11:00\"]\n",
    "\n",
    "functions = {\n",
    "    \"find_movies\": find_movies,\n",
    "    \"find_theaters\": find_theaters,\n",
    "    \"get_showtimes\": get_showtimes,\n",
    "}\n",
    "\n",
    "genai.configure(api_key=os.environ['GEMINI_API_KEY'])\n",
    "\n",
    "model = genai.GenerativeModel(\n",
    "    model_name = 'gemini-2.0-flash-exp',\n",
    "    tools = functions.values()\n",
    ")\n",
    "\n",
    "response = model.generate_content(\n",
    "    \"Which theaters in Mountain View show the Barbie movie?\"\n",
    ")\n",
    "##不可以使用response.text,因為沒有自動呼叫\n",
    "response.candidates[0].content.parts"
   ]
  },
  {
   "cell_type": "code",
   "execution_count": 18,
   "metadata": {},
   "outputs": [
    {
     "name": "stdout",
     "output_type": "stream",
     "text": [
      "['Googleplex 16', 'Android Theatre']\n"
     ]
    }
   ],
   "source": [
    "import os\n",
    "import google.generativeai as genai\n",
    "\n",
    "def find_movies(description:str, location:str = \"\") -> list[str]:\n",
    "    \"\"\"find movie titles currently playing in theaters based on any description, genre, title words, etc.\n",
    "\n",
    "    Args:\n",
    "        description: Any kind of description including category or genre, title words, attributes, etc.\n",
    "        location: The city and state, e.g. San Francisco, CA or a zip code e.g. 95616\n",
    "    \"\"\"\n",
    "\n",
    "    return [\"Barbie\", \"Oppenheimer\"]\n",
    "\n",
    "def find_theaters(location: str, movie: str = \"\"):\n",
    "    \"\"\"Find theaters based on location and optionally movie title which are is currently playing in theaters.\n",
    "\n",
    "    Args:\n",
    "        location: The city and state, e.g. San Francisco, CA or a zip code e.g. 95616\n",
    "        movie: Any movie title\n",
    "    \"\"\"\n",
    "    return [\"Googleplex 16\", \"Android Theatre\"]\n",
    "\n",
    "def get_showtimes(location: str, movie: str, theater: str, date: str):\n",
    "    \"\"\"\n",
    "    Find the start times for movies playing in a specific theater.\n",
    "\n",
    "    Args:\n",
    "      location: The city and state, e.g. San Francisco, CA or a zip code e.g. 95616\n",
    "      movie: Any movie title\n",
    "      thearer: Name of the theater\n",
    "      date: Date for requested showtime\n",
    "    \"\"\"\n",
    "    return [\"10:00\", \"11:00\"]\n",
    "\n",
    "functions = {\n",
    "    \"find_movies\": find_movies,\n",
    "    \"find_theaters\": find_theaters,\n",
    "    \"get_showtimes\": get_showtimes,\n",
    "}\n",
    "\n",
    "genai.configure(api_key=os.environ['GEMINI_API_KEY'])\n",
    "\n",
    "model = genai.GenerativeModel(\n",
    "    model_name = 'gemini-2.0-flash-exp',\n",
    "    tools = functions.values()\n",
    ")\n",
    "\n",
    "response = model.generate_content(\n",
    "    \"Which theaters in Mountain View show the Barbie movie?\"\n",
    ")\n",
    "##不可以使用response.text,因為沒有自動呼叫\n",
    "part = response.candidates[0].content.parts[0]\n",
    "\n",
    "def call_function(function_call, functions):\n",
    "    function_name = function_call.name\n",
    "    function_args = function_call.args\n",
    "    return functions[function_name](**function_args)\n",
    "\n",
    "if part.function_call:\n",
    "    result = call_function(part.function_call, functions)\n",
    "\n",
    "print(result)"
   ]
  }
 ],
 "metadata": {
  "kernelspec": {
   "display_name": "base",
   "language": "python",
   "name": "python3"
  },
  "language_info": {
   "codemirror_mode": {
    "name": "ipython",
    "version": 3
   },
   "file_extension": ".py",
   "mimetype": "text/x-python",
   "name": "python",
   "nbconvert_exporter": "python",
   "pygments_lexer": "ipython3",
   "version": "3.12.2"
  }
 },
 "nbformat": 4,
 "nbformat_minor": 2
}
