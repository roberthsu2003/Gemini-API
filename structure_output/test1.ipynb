{
 "cells": [
  {
   "cell_type": "code",
   "execution_count": 1,
   "metadata": {},
   "outputs": [
    {
     "name": "stdout",
     "output_type": "stream",
     "text": [
      "```html\n",
      "<a aria-lable=\"下載文字檔\" class=\"btn\" href=\"/xrt/fltxt/0/day\" title=\"下載文字檔 (TXT)\">下載文字檔</a>\n",
      "```\n",
      "\n"
     ]
    }
   ],
   "source": [
    "import requests\n",
    "from bs4 import BeautifulSoup\n",
    "import google.generativeai as genai\n",
    "import os\n",
    "genai.configure(api_key=os.environ['GEMINI_API_KEY'])\n",
    "# response = requests.get('https://www.merit-times.com.tw/NewsPage.aspx?unid=903451')\n",
    "response = requests.get('https://rate.bot.com.tw/xrt?Lang=zh-TW')\n",
    "soup = BeautifulSoup(response.text,\"html.parser\")\n",
    "body_content = soup.body\n",
    "body_content_str = str(body_content)\n",
    "model = genai.GenerativeModel(\n",
    "    \"gemini-2.0-flash-exp\",\n",
    "    system_instruction='''\n",
    "    你的任務是取出`下載文字檔`這個文字的超連結      \n",
    "    '''\n",
    ")\n",
    "\n",
    "response = model.generate_content(body_content_str)\n",
    "print(response.text)"
   ]
  }
 ],
 "metadata": {
  "kernelspec": {
   "display_name": "base",
   "language": "python",
   "name": "python3"
  },
  "language_info": {
   "codemirror_mode": {
    "name": "ipython",
    "version": 3
   },
   "file_extension": ".py",
   "mimetype": "text/x-python",
   "name": "python",
   "nbconvert_exporter": "python",
   "pygments_lexer": "ipython3",
   "version": "3.12.2"
  }
 },
 "nbformat": 4,
 "nbformat_minor": 2
}
