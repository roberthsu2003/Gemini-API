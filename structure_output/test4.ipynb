{
 "cells": [
  {
   "cell_type": "code",
   "execution_count": 27,
   "metadata": {},
   "outputs": [
    {
     "name": "stdout",
     "output_type": "stream",
     "text": [
      "幣別,幣別代碼,現金匯率(本行買入),現金匯率(本行賣出),即期匯率(本行買入),即期匯率(本行賣出)\n",
      "美金,USD,32.28,32.95,32.605,32.755\n",
      "港幣,HKD,4.04,4.244,4.161,4.231\n",
      "英鎊,GBP,39.46,41.58,40.355,40.985\n",
      "澳幣,AUD,20.03,20.81,20.245,20.59\n",
      "加拿大幣,CAD,22.19,23.1,22.52,22.85\n",
      "新加坡幣,SGD,23.6,24.51,24.07,24.29\n",
      "瑞士法郎,CHF,35.25,36.45,35.86,36.25\n",
      "日圓,JPY,0.2011,0.2139,0.2079,0.2129\n",
      "南非幣,ZAR,null,null,1.705,1.795\n",
      "瑞典幣,SEK,null,null,2.91,3.03\n",
      "紐元,NZD,18.01,18.86,18.34,18.64\n",
      "泰幣,THB,0.8356,1.0256,0.946,0.992\n",
      "菲國比索,PHP,0.4936,0.6256,null,null\n",
      "印尼幣,IDR,0.00168,0.00238,null,null\n",
      "歐元,EUR,33.27,34.61,33.785,34.385\n",
      "韓元,KRW,0.02087,0.02477,null,null\n",
      "越南盾,VND,0.00106,0.00147,null,null\n",
      "馬來幣,MYR,6.414,7.939,null,null\n",
      "人民幣,CNY,4.396,4.558,4.463,4.523\n",
      "\n"
     ]
    }
   ],
   "source": [
    "#輸出csv字串\n",
    "import requests\n",
    "from bs4 import BeautifulSoup\n",
    "import google.generativeai as genai\n",
    "import os\n",
    "genai.configure(api_key=os.environ['GEMINI_API_KEY'])\n",
    "# response = requests.get('https://www.merit-times.com.tw/NewsPage.aspx?unid=903451')\n",
    "response = requests.get('https://rate.bot.com.tw/xrt?Lang=zh-TW')\n",
    "soup = BeautifulSoup(response.text,\"html.parser\")\n",
    "body_content = soup.body\n",
    "for script_or_style in body_content(['script','style']):\n",
    "    script_or_style.extract()\n",
    "\n",
    "table_content = body_content.find(title='牌告匯率')\n",
    "table_lines = table_content.get_text(separator='\\n')\n",
    "cleaned_content = \"\\n\".join(\n",
    "    [line.strip() for line in table_lines.splitlines() if line.strip()]\n",
    "    )\n",
    "\n",
    "\n",
    "model = genai.GenerativeModel(\n",
    "    \"gemini-2.0-flash-exp\",\n",
    "    system_instruction='''\n",
    "    1. 你的任務是取出指定的內容,並輸出成csv的格式\n",
    "    2. 只要輸出csv格式的字串,不要有多餘的文字\n",
    "\n",
    "    請依照下面的指示:    \n",
    "    ### 如果找到下面的樣本:\n",
    "    ```\n",
    "    澳幣 (AUD)\n",
    "    澳幣 (AUD)\n",
    "    20.15\n",
    "    20.93\n",
    "    20.365\n",
    "    20.71\n",
    "    ```\n",
    "\n",
    "    ### 輸出的csv格式:\n",
    "    1. 第1欄:有欄位名稱\n",
    "    2. 欄位名稱\n",
    "    - 幣別:str國幣的名稱\n",
    "    - 幣別代碼:str國家的代碼\n",
    "    - `現金匯率(本行買入)`:float,無法轉換請用null\n",
    "    - `現金匯率(本行賣出)`:float,無法轉換請用null\n",
    "    - `即期匯率(本行買入)`:float,無法轉換請用null\n",
    "    - `即期匯率(本行賣出)`:float,無法轉換請用null\n",
    "\n",
    "    ### 輸出的樣本\n",
    "    ```\n",
    "    幣別,幣別代碼,現金匯率(本行買入),現金匯率(本行賣出),即期匯率(本行買入),即期匯率(本行賣出)\n",
    "    澳幣,AUD,20.15,20.93,20.365,20.71\n",
    "    ```  \n",
    "    '''\n",
    ")\n",
    "\n",
    "response = model.generate_content(cleaned_content)\n",
    "result_text = response.text\n",
    "print(result_text)\n",
    "\n",
    "\n"
   ]
  },
  {
   "cell_type": "code",
   "execution_count": 72,
   "metadata": {},
   "outputs": [],
   "source": [
    "model = genai.GenerativeModel(\n",
    "    \"gemini-1.5-pro\",\n",
    "    system_instruction='''\n",
    "    請將輸入的csv格式的字串,儲存為`現在日期.csv`\n",
    "    ''',\n",
    "    tools='code_execution'\n",
    ")\n",
    "\n",
    "response = model.generate_content(result_text)\n"
   ]
  },
  {
   "cell_type": "code",
   "execution_count": 75,
   "metadata": {},
   "outputs": [
    {
     "name": "stdout",
     "output_type": "stream",
     "text": [
      "parts {\n",
      "  text: \"\"\n",
      "}\n",
      "parts {\n",
      "  executable_code {\n",
      "    language: PYTHON\n",
      "    code: \"\\nimport csv\\nfrom datetime import date\\n\\ncsv_string = \\\"\\\"\\\"幣別,幣別代碼,現金匯率(本行買入),現金匯率(本行賣出),即期匯率(本行買入),即期匯率(本行賣出)\\n美金,USD,32.28,32.95,32.605,32.755\\n港幣,HKD,4.04,4.244,4.161,4.231\\n英鎊,GBP,39.46,41.58,40.355,40.985\\n澳幣,AUD,20.03,20.81,20.245,20.59\\n加拿大幣,CAD,22.19,23.1,22.52,22.85\\n新加坡幣,SGD,23.6,24.51,24.07,24.29\\n瑞士法郎,CHF,35.25,36.45,35.86,36.25\\n日圓,JPY,0.2011,0.2139,0.2079,0.2129\\n南非幣,ZAR,null,null,1.705,1.795\\n瑞典幣,SEK,null,null,2.91,3.03\\n紐元,NZD,18.01,18.86,18.34,18.64\\n泰幣,THB,0.8356,1.0256,0.946,0.992\\n菲國比索,PHP,0.4936,0.6256,null,null\\n印尼幣,IDR,0.00168,0.00238,null,null\\n歐元,EUR,33.27,34.61,33.785,34.385\\n韓元,KRW,0.02087,0.02477,null,null\\n越南盾,VND,0.00106,0.00147,null,null\\n馬來幣,MYR,6.414,7.939,null,null\\n人民幣,CNY,4.396,4.558,4.463,4.523\\\"\\\"\\\"\\n\\ntoday = date.today().strftime(\\\"%Y-%m-%d\\\")\\nfilename = f\\\"{today}.csv\\\"\\n\\nwith open(filename, \\'w\\', newline=\\'\\', encoding=\\'utf-8\\') as csvfile:\\n    writer = csv.writer(csvfile)\\n    for row in csv.reader(csv_string.splitlines()):\\n        writer.writerow(row)\\n\\nprint(f\\\"CSV file \\'{filename}\\' has been created.\\\")\\n\\n\"\n",
      "  }\n",
      "}\n",
      "parts {\n",
      "  code_execution_result {\n",
      "    outcome: OUTCOME_OK\n",
      "    output: \"CSV file \\'2025-01-28.csv\\' has been created.\\n\"\n",
      "  }\n",
      "}\n",
      "parts {\n",
      "  inline_data {\n",
      "    mime_type: \"text/csv\"\n",
      "    data: \"\\345\\271\\243\\345\\210\\245,\\345\\271\\243\\345\\210\\245\\344\\273\\243\\347\\242\\274,\\347\\217\\276\\351\\207\\221\\345\\214\\257\\347\\216\\207(\\346\\234\\254\\350\\241\\214\\350\\262\\267\\345\\205\\245),\\347\\217\\276\\351\\207\\221\\345\\214\\257\\347\\216\\207(\\346\\234\\254\\350\\241\\214\\350\\263\\243\\345\\207\\272),\\345\\215\\263\\346\\234\\237\\345\\214\\257\\347\\216\\207(\\346\\234\\254\\350\\241\\214\\350\\262\\267\\345\\205\\245),\\345\\215\\263\\346\\234\\237\\345\\214\\257\\347\\216\\207(\\346\\234\\254\\350\\241\\214\\350\\263\\243\\345\\207\\272)\\r\\n\\347\\276\\216\\351\\207\\221,USD,32.28,32.95,32.605,32.755\\r\\n\\346\\270\\257\\345\\271\\243,HKD,4.04,4.244,4.161,4.231\\r\\n\\350\\213\\261\\351\\216\\212,GBP,39.46,41.58,40.355,40.985\\r\\n\\346\\276\\263\\345\\271\\243,AUD,20.03,20.81,20.245,20.59\\r\\n\\345\\212\\240\\346\\213\\277\\345\\244\\247\\345\\271\\243,CAD,22.19,23.1,22.52,22.85\\r\\n\\346\\226\\260\\345\\212\\240\\345\\235\\241\\345\\271\\243,SGD,23.6,24.51,24.07,24.29\\r\\n\\347\\221\\236\\345\\243\\253\\346\\263\\225\\351\\203\\216,CHF,35.25,36.45,35.86,36.25\\r\\n\\346\\227\\245\\345\\234\\223,JPY,0.2011,0.2139,0.2079,0.2129\\r\\n\\345\\215\\227\\351\\235\\236\\345\\271\\243,ZAR,null,null,1.705,1.795\\r\\n\\347\\221\\236\\345\\205\\270\\345\\271\\243,SEK,null,null,2.91,3.03\\r\\n\\347\\264\\220\\345\\205\\203,NZD,18.01,18.86,18.34,18.64\\r\\n\\346\\263\\260\\345\\271\\243,THB,0.8356,1.0256,0.946,0.992\\r\\n\\350\\217\\262\\345\\234\\213\\346\\257\\224\\347\\264\\242,PHP,0.4936,0.6256,null,null\\r\\n\\345\\215\\260\\345\\260\\274\\345\\271\\243,IDR,0.00168,0.00238,null,null\\r\\n\\346\\255\\220\\345\\205\\203,EUR,33.27,34.61,33.785,34.385\\r\\n\\351\\237\\223\\345\\205\\203,KRW,0.02087,0.02477,null,null\\r\\n\\350\\266\\212\\345\\215\\227\\347\\233\\276,VND,0.00106,0.00147,null,null\\r\\n\\351\\246\\254\\344\\276\\206\\345\\271\\243,MYR,6.414,7.939,null,null\\r\\n\\344\\272\\272\\346\\260\\221\\345\\271\\243,CNY,4.396,4.558,4.463,4.523\\r\\n\"\n",
      "  }\n",
      "}\n",
      "parts {\n",
      "  text: \"OK. I\\'ve saved the provided CSV data to a file named `2025-01-28.csv` (or today\\'s date if run on a different day).  The file is encoded using UTF-8 to support the provided currency symbols.  Is there anything else I can help you with?\\n\"\n",
      "}\n",
      "role: \"model\"\n",
      "\n"
     ]
    }
   ],
   "source": [
    "generated_text = response.candidates[0].content \n",
    "print(generated_text)"
   ]
  }
 ],
 "metadata": {
  "kernelspec": {
   "display_name": "base",
   "language": "python",
   "name": "python3"
  },
  "language_info": {
   "codemirror_mode": {
    "name": "ipython",
    "version": 3
   },
   "file_extension": ".py",
   "mimetype": "text/x-python",
   "name": "python",
   "nbconvert_exporter": "python",
   "pygments_lexer": "ipython3",
   "version": "3.12.2"
  }
 },
 "nbformat": 4,
 "nbformat_minor": 2
}
