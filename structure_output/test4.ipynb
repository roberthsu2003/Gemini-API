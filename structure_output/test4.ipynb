{
 "cells": [
  {
   "cell_type": "code",
   "execution_count": 18,
   "metadata": {},
   "outputs": [],
   "source": [
    "#輸出csv字串,並且儲存為檔案\n",
    "import requests\n",
    "from bs4 import BeautifulSoup\n",
    "import google.generativeai as genai\n",
    "import os\n",
    "from datetime import datetime\n",
    "genai.configure(api_key=os.environ['GEMINI_API_KEY'])\n",
    "# response = requests.get('https://www.merit-times.com.tw/NewsPage.aspx?unid=903451')\n",
    "response = requests.get('https://rate.bot.com.tw/xrt?Lang=zh-TW')\n",
    "soup = BeautifulSoup(response.text,\"html.parser\")\n",
    "body_content = soup.body\n",
    "for script_or_style in body_content(['script','style']):\n",
    "    script_or_style.extract()\n",
    "\n",
    "table_content = body_content.find(title='牌告匯率')\n",
    "table_lines = table_content.get_text(separator='\\n')\n",
    "cleaned_content = \"\\n\".join(\n",
    "    [line.strip() for line in table_lines.splitlines() if line.strip()]\n",
    "    )\n",
    "\n",
    "\n",
    "model = genai.GenerativeModel(\n",
    "    \"gemini-2.0-flash-exp\",\n",
    "    system_instruction='''\n",
    "    1. 你的任務是取出指定的內容,並輸出成csv的格式\n",
    "    2. 只要輸出csv格式的字串,不要有多餘的文字\n",
    "\n",
    "    請依照下面的指示:    \n",
    "    ### 如果找到下面的樣本:\n",
    "    ```\n",
    "    澳幣 (AUD)\n",
    "    澳幣 (AUD)\n",
    "    20.15\n",
    "    20.93\n",
    "    20.365\n",
    "    20.71\n",
    "    ```\n",
    "\n",
    "    ### 輸出的csv格式:\n",
    "    1. 第1欄:有欄位名稱\n",
    "    2. 欄位名稱\n",
    "    - 幣別:str國幣的名稱\n",
    "    - 幣別代碼:str國家的代碼\n",
    "    - `現金匯率(本行買入)`:float,無法轉換請用null\n",
    "    - `現金匯率(本行賣出)`:float,無法轉換請用null\n",
    "    - `即期匯率(本行買入)`:float,無法轉換請用null\n",
    "    - `即期匯率(本行賣出)`:float,無法轉換請用null\n",
    "\n",
    "    ### 輸出的樣本\n",
    "    ```\n",
    "    幣別,幣別代碼,現金匯率(本行買入),現金匯率(本行賣出),即期匯率(本行買入),即期匯率(本行賣出)\n",
    "    澳幣,AUD,20.15,20.93,20.365,20.71\n",
    "    ```  \n",
    "    '''\n",
    ")\n",
    "\n",
    "response = model.generate_content(cleaned_content)\n",
    "result_text = response.text\n",
    "\n",
    "def text_to_csv(csv_text:str):\n",
    "    '''\n",
    "    將傳入的csv格式字串,儲存為以現在日期為檔案名稱的csv檔\n",
    "    '''\n",
    "    current = datetime.now()\n",
    "    filename = current.strftime(\"\")\n",
    "    filename = current.strftime(\"%Y_%m_%d\") + \".csv\"\n",
    "    with open(filename, 'w', encoding='utf-8') as file:\n",
    "        file.write(csv_text)\n",
    "\n",
    "text_to_csv(result_text)\n",
    "\n",
    "\n",
    "\n"
   ]
  },
  {
   "cell_type": "code",
   "execution_count": 10,
   "metadata": {},
   "outputs": [],
   "source": [
    "model = genai.GenerativeModel(\n",
    "    \"gemini-1.5-pro\",\n",
    "    system_instruction='''\n",
    "    請將輸入的csv格式的字串,儲存為`現在日期.csv`\n",
    "    ''',\n",
    "    tools='code_execution'\n",
    ")\n",
    "\n",
    "response = model.generate_content(result_text)\n"
   ]
  },
  {
   "cell_type": "code",
   "execution_count": 16,
   "metadata": {},
   "outputs": [
    {
     "ename": "AttributeError",
     "evalue": "Unknown field for Content: split",
     "output_type": "error",
     "traceback": [
      "\u001b[0;31m---------------------------------------------------------------------------\u001b[0m",
      "\u001b[0;31mAttributeError\u001b[0m                            Traceback (most recent call last)",
      "Cell \u001b[0;32mIn[16], line 2\u001b[0m\n\u001b[1;32m      1\u001b[0m generated_text \u001b[38;5;241m=\u001b[39m response\u001b[38;5;241m.\u001b[39mcandidates[\u001b[38;5;241m0\u001b[39m]\u001b[38;5;241m.\u001b[39mcontent\n\u001b[0;32m----> 2\u001b[0m code \u001b[38;5;241m=\u001b[39m \u001b[43mgenerated_text\u001b[49m\u001b[38;5;241;43m.\u001b[39;49m\u001b[43msplit\u001b[49m(\u001b[38;5;124m'\u001b[39m\u001b[38;5;124m```\u001b[39m\u001b[38;5;124m'\u001b[39m)[\u001b[38;5;241m1\u001b[39m]\n\u001b[1;32m      3\u001b[0m \u001b[38;5;28mprint\u001b[39m(code)\n",
      "File \u001b[0;32m/opt/conda/lib/python3.12/site-packages/proto/message.py:877\u001b[0m, in \u001b[0;36mMessage.__getattr__\u001b[0;34m(self, key)\u001b[0m\n\u001b[1;32m    875\u001b[0m (key, pb_type) \u001b[38;5;241m=\u001b[39m \u001b[38;5;28mself\u001b[39m\u001b[38;5;241m.\u001b[39m_get_pb_type_from_key(key)\n\u001b[1;32m    876\u001b[0m \u001b[38;5;28;01mif\u001b[39;00m pb_type \u001b[38;5;129;01mis\u001b[39;00m \u001b[38;5;28;01mNone\u001b[39;00m:\n\u001b[0;32m--> 877\u001b[0m     \u001b[38;5;28;01mraise\u001b[39;00m \u001b[38;5;167;01mAttributeError\u001b[39;00m(\n\u001b[1;32m    878\u001b[0m         \u001b[38;5;124m\"\u001b[39m\u001b[38;5;124mUnknown field for \u001b[39m\u001b[38;5;132;01m{}\u001b[39;00m\u001b[38;5;124m: \u001b[39m\u001b[38;5;132;01m{}\u001b[39;00m\u001b[38;5;124m\"\u001b[39m\u001b[38;5;241m.\u001b[39mformat(\u001b[38;5;28mself\u001b[39m\u001b[38;5;241m.\u001b[39m\u001b[38;5;18m__class__\u001b[39m\u001b[38;5;241m.\u001b[39m\u001b[38;5;18m__name__\u001b[39m, key)\n\u001b[1;32m    879\u001b[0m     )\n\u001b[1;32m    880\u001b[0m pb_value \u001b[38;5;241m=\u001b[39m \u001b[38;5;28mgetattr\u001b[39m(\u001b[38;5;28mself\u001b[39m\u001b[38;5;241m.\u001b[39m_pb, key)\n\u001b[1;32m    881\u001b[0m marshal \u001b[38;5;241m=\u001b[39m \u001b[38;5;28mself\u001b[39m\u001b[38;5;241m.\u001b[39m_meta\u001b[38;5;241m.\u001b[39mmarshal\n",
      "\u001b[0;31mAttributeError\u001b[0m: Unknown field for Content: split"
     ]
    }
   ],
   "source": [
    "generated_text = response.candidates[0].content"
   ]
  }
 ],
 "metadata": {
  "kernelspec": {
   "display_name": "base",
   "language": "python",
   "name": "python3"
  },
  "language_info": {
   "codemirror_mode": {
    "name": "ipython",
    "version": 3
   },
   "file_extension": ".py",
   "mimetype": "text/x-python",
   "name": "python",
   "nbconvert_exporter": "python",
   "pygments_lexer": "ipython3",
   "version": "3.12.2"
  }
 },
 "nbformat": 4,
 "nbformat_minor": 2
}
