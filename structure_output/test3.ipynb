{
 "cells": [
  {
   "cell_type": "code",
   "execution_count": 6,
   "metadata": {},
   "outputs": [
    {
     "name": "stdout",
     "output_type": "stream",
     "text": [
      "從定義上來說，指紋皮膚組織由表皮、真皮、皮下組織分層連接而成。\n",
      "\n",
      "**廣義狹義 凸顯獨特**\n",
      "\n",
      "指紋之狹義解釋，係指手指末端、指腹的皮膚紋線。但廣義來說，皮膚上凹凸紋線不僅是在手指末端而已，還包含了手之指節紋、手掌紋及足紋（腳趾及腳掌紋）等，均屬指紋鑑定之標的範圍。因這些紋線特徵分布，每個人都不相同，故形成個人獨特的生物特徵。\n",
      "\n",
      "由於指紋具下列5大特性，因此成為個人身分鑑別之重要依據：\n",
      "\n",
      "**5大特性 鑑別身分**\n",
      "\n",
      "*   **人各不同**\n",
      "    依據過去相關實證、研究與實務經驗，世界上沒有找到過有兩個指紋完全相同的人，即便是DNA相同之同卵雙胞胎，比對他們的指紋紋線特徵，仍會有不同之處，可區分人別。\n",
      "*   **終生不變**\n",
      "    指紋在胎兒發育3至4個月即已形成，隨個人的發育而成長，指紋僅係紋線間距離長短、紋線粗細、指紋面積、皺褶之差別，直到死亡後組織腐敗分解前，其指紋之紋線特徵排列及基本型態均不會改變。\n",
      "*   **觸物留痕**\n",
      "    因指紋每條凸紋上都布滿汗孔，會留有分泌出來的汗液，也會沾有皮膚其他分泌物質（如皮脂），當手指接觸到物品時，就如蓋印章一般，即在該物品的表面上，印下手指上的指紋紋路特徵。\n",
      "*   **損而復生**\n",
      "    人類皮膚具有再生能力，若輕微的創傷，不傷及真皮層，經過一段時間後即能恢復原狀，不會改變指紋的形狀與特徵，如季節性脫皮等現象。若創傷深入真皮層，破壞皮膚細胞組織之排列結構，就會形成疤痕。\n",
      "*   **短期不滅**\n",
      "    由於手指有汗水、皮脂等分泌物，造成接觸物面時遺留指紋，其中水分及揮發性物質，會隨遺留時間增加而散失，但仍保留其他成分，故短時間內不易消失。\n",
      "\n"
     ]
    }
   ],
   "source": [
    "import requests\n",
    "from bs4 import BeautifulSoup\n",
    "import google.generativeai as genai\n",
    "import os\n",
    "genai.configure(api_key=os.environ['GEMINI_API_KEY'])\n",
    "# response = requests.get('https://www.merit-times.com.tw/NewsPage.aspx?unid=903451')\n",
    "response = requests.get('https://www.merit-times.com.tw/NewsPage.aspx?unid=903292')\n",
    "soup = BeautifulSoup(response.text,\"html.parser\")\n",
    "body_content = soup.body\n",
    "body_content_str = str(body_content)\n",
    "soup1 = BeautifulSoup(body_content_str,'html.parser')\n",
    "for script_or_style in soup(['script','style']):\n",
    "    script_or_style.extract()\n",
    "\n",
    "cleaned_content = soup.get_text(separator=\"\\n\")\n",
    "cleaned_content = \"\\n\".join(\n",
    "    line.strip() for line in cleaned_content.splitlines() if line.strip()\n",
    ")\n",
    "#print(cleaned_content)\n",
    "#print(len([cleaned_content[i : i + 6000] for i in range(0, len(cleaned_content), 6000)]))\n",
    "\n",
    "model = genai.GenerativeModel(\n",
    "    \"gemini-2.0-flash-exp\",\n",
    "    system_instruction='''\n",
    "    你的任務是取出文字的內容:\n",
    "    規則:\n",
    "    1. 當看到`文／作者名稱`,作者名稱可以是任何名稱,下面的文字就是我要的文字\n",
    "    2. 當看到`前一篇文章`的文字時,上面就是我要的內容\n",
    "    3. 請整理文字內容,成為適合閱讀的文字(不修改裏面的內容)\n",
    "    '''\n",
    ")\n",
    "\n",
    "response = model.generate_content(cleaned_content)\n",
    "print(response.text)\n",
    "\n",
    "\n"
   ]
  }
 ],
 "metadata": {
  "kernelspec": {
   "display_name": "base",
   "language": "python",
   "name": "python3"
  },
  "language_info": {
   "codemirror_mode": {
    "name": "ipython",
    "version": 3
   },
   "file_extension": ".py",
   "mimetype": "text/x-python",
   "name": "python",
   "nbconvert_exporter": "python",
   "pygments_lexer": "ipython3",
   "version": "3.12.2"
  }
 },
 "nbformat": 4,
 "nbformat_minor": 2
}
