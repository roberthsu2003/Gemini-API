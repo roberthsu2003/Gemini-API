{
 "cells": [
  {
   "cell_type": "code",
   "execution_count": null,
   "metadata": {},
   "outputs": [],
   "source": [
    "import httpx\n",
    "import base64\n",
    "import google.generativeai as genai\n",
    "import os\n",
    "\n",
    "genai.configure(api_key=os.environ['GEMINI_API_KEY'])\n",
    "model = genai.GenerativeModel(\n",
    "    model_name=\"gemini-2.0-flash-exp\"\n",
    ")\n",
    "doc_url = \"https://discovery.ucl.ac.uk/id/eprint/10089234/1/343019_3_art_0_py4t4l_convrt.pdf\"\n",
    "\n",
    "doc_data = base64.standard_b64encode(httpx.get(doc_url).content).decode(\"utf-8\")\n"
   ]
  },
  {
   "cell_type": "code",
   "execution_count": null,
   "metadata": {},
   "outputs": [],
   "source": [
    "from IPython.display import display,Markdown,Latex\n",
    "prompt = \"總結這文件\"\n",
    "\n",
    "response = model.generate_content(\n",
    "    contents=[{\n",
    "        'mime_type':'application/pdf',\n",
    "        'data': doc_data\n",
    "    },prompt]\n",
    ")\n",
    "display(Markdown(response.text))"
   ]
  },
  {
   "cell_type": "code",
   "execution_count": null,
   "metadata": {},
   "outputs": [],
   "source": [
    "import httpx\n",
    "import base64\n",
    "import google.generativeai as genai\n",
    "import os\n",
    "from IPython.display import display,Markdown,Latex\n",
    "\n",
    "genai.configure(api_key=os.environ['GEMINI_API_KEY'])\n",
    "model = genai.GenerativeModel(\n",
    "    model_name=\"gemini-2.0-flash-exp\"\n",
    ")\n",
    "\n",
    "doc_path = '說明書.pdf'\n",
    "with open(doc_path, \"rb\") as doc_file:\n",
    "    doc_data = base64.standard_b64encode(doc_file.read()).decode(\"utf-8\")\n",
    "\n",
    "prompt = \"如何定期保養?\"\n",
    "\n",
    "response = model.generate_content([\n",
    "    {\n",
    "        'mime_type':'application/pdf',\n",
    "        'data':doc_data\n",
    "    },\n",
    "    prompt\n",
    "])\n",
    "\n",
    "display(Markdown(response.text))\n"
   ]
  },
  {
   "cell_type": "code",
   "execution_count": null,
   "metadata": {},
   "outputs": [],
   "source": [
    "import httpx\n",
    "import base64\n",
    "import google.generativeai as genai\n",
    "import os\n",
    "from IPython.display import display,Markdown,Latex\n",
    "\n",
    "genai.configure(api_key=os.environ['GEMINI_API_KEY'])\n",
    "model = genai.GenerativeModel(\n",
    "    model_name=\"gemini-2.0-flash-exp\"\n",
    ")\n",
    "\n",
    "doc_path = '說明書.pdf'\n",
    "with open(doc_path, \"rb\") as doc_file:\n",
    "    doc_data = base64.standard_b64encode(doc_file.read()).decode(\"utf-8\")\n",
    "\n",
    "prompt = \"如何定期保養?\"\n",
    "\n",
    "response = model.generate_content([\n",
    "    {\n",
    "        'mime_type':'application/pdf',\n",
    "        'data':doc_data\n",
    "    },\n",
    "    prompt\n",
    "])\n",
    "\n",
    "display(Markdown(response.text))\n"
   ]
  },
  {
   "cell_type": "code",
   "execution_count": null,
   "metadata": {},
   "outputs": [],
   "source": [
    "import httpx\n",
    "import base64\n",
    "import google.generativeai as genai\n",
    "import os\n",
    "from IPython.display import display,Markdown,Latex\n",
    "\n",
    "genai.configure(api_key=os.environ['GEMINI_API_KEY'])\n",
    "model = genai.GenerativeModel(\n",
    "    model_name=\"gemini-2.0-flash-exp\"\n",
    ")\n",
    "sample_pdf = genai.upload_file('說明書.pdf')\n",
    "response = model.generate_content(\n",
    "    ['給我這個pdf檔的說明',sample_pdf]\n",
    ")\n",
    "print(response.text)"
   ]
  },
  {
   "cell_type": "code",
   "execution_count": null,
   "metadata": {},
   "outputs": [],
   "source": [
    "import httpx\n",
    "import base64\n",
    "import google.generativeai as genai\n",
    "from google.generativeai import caching\n",
    "import os\n",
    "from IPython.display import display,Markdown,Latex\n",
    "\n",
    "genai.configure(api_key=os.environ['GEMINI_API_KEY'])\n",
    "\n",
    "document = genai.upload_file('說明書.pdf', mime_type='application/pdf')\n",
    "cache = caching.CachedContent.create(\n",
    "    model = \"gemini-1.5-flash-002\",\n",
    "    system_instruction = '你是一個專業的分析達人',\n",
    "    contents=[document]\n",
    ")\n",
    "\n",
    "model = genai.GenerativeModel.from_cached_content(cache)\n",
    "\n"
   ]
  },
  {
   "cell_type": "code",
   "execution_count": null,
   "metadata": {},
   "outputs": [],
   "source": [
    "response = model.generate_content(\"請分析這個文件\")\n",
    "print(response.usage_metadata)\n",
    "print(response.text)"
   ]
  }
 ],
 "metadata": {
  "kernelspec": {
   "display_name": "base",
   "language": "python",
   "name": "python3"
  },
  "language_info": {
   "codemirror_mode": {
    "name": "ipython",
    "version": 3
   },
   "file_extension": ".py",
   "mimetype": "text/x-python",
   "name": "python",
   "nbconvert_exporter": "python",
   "pygments_lexer": "ipython3",
   "version": "3.12.2"
  }
 },
 "nbformat": 4,
 "nbformat_minor": 2
}
