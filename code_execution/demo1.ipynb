{
 "cells": [
  {
   "cell_type": "code",
   "execution_count": null,
   "metadata": {},
   "outputs": [
    {
     "name": "stdout",
     "output_type": "stream",
     "text": [
      "好的，我會根據您提供的資料，列出台幣可以換算的幣別，並排除無法計算的幣別。\n",
      "\n",
      "首先，我需要檢視資料，找出所有有現金匯率(本行買入)和現金匯率(本行賣出)的幣別，這些是台幣可以進行換算的幣別。\n",
      "\n",
      "檢視資料後，以下幣別具有現金匯率(本行買入)和現金匯率(本行賣出)的資料：\n",
      "\n",
      "*   美金 (USD)\n",
      "*   港幣 (HKD)\n",
      "*   英鎊 (GBP)\n",
      "*   澳幣 (AUD)\n",
      "*   加拿大幣 (CAD)\n",
      "*   新加坡幣 (SGD)\n",
      "*   瑞士法郎 (CHF)\n",
      "*   日圓 (JPY)\n",
      "*   紐元 (NZD)\n",
      "*    泰幣 (THB)\n",
      "*    歐元 (EUR)\n",
      "*    人民幣 (CNY)\n",
      "\n",
      "因此，台幣可以換算的幣別有：美金、港幣、英鎊、澳幣、加拿大幣、新加坡幣、瑞士法郎、日圓、紐元、泰幣、歐元、人民幣。\n",
      "\n"
     ]
    }
   ],
   "source": [
    "import google.generativeai as genai\n",
    "import os\n",
    "\n",
    "with open('2025_01_29.csv',encoding='utf-8') as file:\n",
    "    csv_content = file.read()\n",
    "    \n",
    "genai.configure(api_key=os.environ['GEMINI_API_KEY'])\n",
    "model = genai.GenerativeModel(\n",
    "    model_name=\"gemini-2.0-flash-exp\",\n",
    "    system_instruction='''\n",
    "    ## 請依據以下的csv格式的文字回答問題\n",
    "    ## 這個表格是銀行的台幣和各幣值的轉換匯率\n",
    "    ## 如果沒有資料,請輸出`沒有相關幣的資料`\n",
    "    ## 規則:\n",
    "        1.如果使用者輸入的是台幣要換取美金,換算公式為:\n",
    "        `台幣/現金匯率本行賣出的美金價格=`\n",
    "        2.如果使用者輸入的是美金換取台幣,換算公式為:\n",
    "        `現金匯率本行買入美金*美金的金額=`\n",
    "        3.如果不是換成台幣,請先將金額換成台幣後,再轉換為使用者要求的幣值   \n",
    "    \n",
    "    ''' + csv_content,\n",
    "    \n",
    "    \n",
    ")\n",
    "\n",
    "response = model.generate_content('以現有的資料,台幣可以換算的幣值有那一些?,請排除無法計算的幣別')\n",
    "print(response.text)"
   ]
  }
 ],
 "metadata": {
  "kernelspec": {
   "display_name": "base",
   "language": "python",
   "name": "python3"
  },
  "language_info": {
   "codemirror_mode": {
    "name": "ipython",
    "version": 3
   },
   "file_extension": ".py",
   "mimetype": "text/x-python",
   "name": "python",
   "nbconvert_exporter": "python",
   "pygments_lexer": "ipython3",
   "version": "3.12.2"
  }
 },
 "nbformat": 4,
 "nbformat_minor": 2
}
