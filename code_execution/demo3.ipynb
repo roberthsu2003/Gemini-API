{
 "cells": [
  {
   "cell_type": "code",
   "execution_count": 7,
   "metadata": {},
   "outputs": [
    {
     "data": {
      "text/plain": [
       "list"
      ]
     },
     "execution_count": 7,
     "metadata": {},
     "output_type": "execute_result"
    }
   ],
   "source": [
    "import google.generativeai as genai\n",
    "import os\n",
    "import json\n",
    "\n",
    "with open('2025_01_29.csv',encoding='utf-8') as file:\n",
    "    csv_content = file.read()\n",
    "    \n",
    "genai.configure(api_key=os.environ['GEMINI_API_KEY'])\n",
    "model = genai.GenerativeModel(\n",
    "    model_name=\"gemini-2.0-flash-exp\",\n",
    "    system_instruction='''\n",
    "    ## 請依據以下的csv格式的文字回答問題\n",
    "    ## 這個表格是銀行的台幣和各幣值的轉換匯率\n",
    "    ## 如果沒有資料,請輸出`沒有相關幣的資料`\n",
    "    ## 規則:\n",
    "        1.如果使用者輸入的是台幣要換取美金,換算公式為:\n",
    "        `台幣/現金匯率本行賣出的美金價格=`\n",
    "        2.如果使用者輸入的是美金換取台幣,換算公式為:\n",
    "        `現金匯率本行買入美金*美金的金額=`\n",
    "        3.如果不是換成台幣,請先將金額換成台幣後,再轉換為使用者要求的幣值   \n",
    "    \n",
    "    ''' + csv_content,\n",
    "    generation_config={\n",
    "        \"response_mime_type\":\"application/json\",\n",
    "        \"response_schema\":list[str]\n",
    "    }\n",
    "    \n",
    "    \n",
    ")\n",
    "\n",
    "response = model.generate_content('''                                  \n",
    "1. 以現有的資料,台幣可以換算的幣值有那一些?\n",
    "2. 請排除無法計算的幣別\n",
    "3. 請加入台幣                     \n",
    "''')\n",
    "type(json.loads(response.text))"
   ]
  }
 ],
 "metadata": {
  "kernelspec": {
   "display_name": "base",
   "language": "python",
   "name": "python3"
  },
  "language_info": {
   "codemirror_mode": {
    "name": "ipython",
    "version": 3
   },
   "file_extension": ".py",
   "mimetype": "text/x-python",
   "name": "python",
   "nbconvert_exporter": "python",
   "pygments_lexer": "ipython3",
   "version": "3.12.2"
  }
 },
 "nbformat": 4,
 "nbformat_minor": 2
}
