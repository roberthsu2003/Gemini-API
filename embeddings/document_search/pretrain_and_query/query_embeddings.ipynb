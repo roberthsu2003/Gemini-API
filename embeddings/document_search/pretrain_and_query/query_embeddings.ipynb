{
 "cells": [
  {
   "cell_type": "code",
   "execution_count": 10,
   "metadata": {},
   "outputs": [],
   "source": [
    "import pandas as pd\n",
    "from document_search import DocumentSearch\n",
    "documentSearch = DocumentSearch()"
   ]
  },
  {
   "cell_type": "code",
   "execution_count": 12,
   "metadata": {},
   "outputs": [],
   "source": [
    "#載入embeddings.pkl\n",
    "df = pd.read_pickle('embeddings.pkl')"
   ]
  },
  {
   "cell_type": "code",
   "execution_count": 15,
   "metadata": {},
   "outputs": [
    {
     "name": "stdout",
     "output_type": "stream",
     "text": [
      "Query:請問永康二站的地址是在哪裡？\n",
      "best matching text(similarity:0.933)\n",
      "地址:臺北市大安區永康街13巷8號,經度:121.5301875,緯度:25.0325625,充電樁數量1槍\n"
     ]
    }
   ],
   "source": [
    "query = \"請問永康二站的地址是在哪裡？\"\n",
    "best_text, similarity = documentSearch.find_best_passage(query, df)\n",
    "print(f\"Query:{query}\")\n",
    "print(f'best matching text(similarity:{similarity:.3f})')\n",
    "print(best_text)"
   ]
  }
 ],
 "metadata": {
  "kernelspec": {
   "display_name": "base",
   "language": "python",
   "name": "python3"
  },
  "language_info": {
   "codemirror_mode": {
    "name": "ipython",
    "version": 3
   },
   "file_extension": ".py",
   "mimetype": "text/x-python",
   "name": "python",
   "nbconvert_exporter": "python",
   "pygments_lexer": "ipython3",
   "version": "3.12.2"
  }
 },
 "nbformat": 4,
 "nbformat_minor": 2
}
