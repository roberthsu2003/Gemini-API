{
 "cells": [
  {
   "cell_type": "code",
   "execution_count": 2,
   "metadata": {},
   "outputs": [],
   "source": [
    "import pathlib\n",
    "import textwrap\n",
    "import os\n",
    "\n",
    "import google.generativeai as genai\n",
    "from IPython.display import display\n",
    "from IPython.display import Markdown\n",
    "from google.api_core import retry\n",
    "\n",
    "def to_markdown(text):\n",
    "    text = text.replace('•','  *')\n",
    "    return Markdown(textwrap.indent(text, '> ', predicate= lambda _:True))"
   ]
  },
  {
   "cell_type": "markdown",
   "metadata": {},
   "source": [
    "### 使用描述的解決方式"
   ]
  },
  {
   "cell_type": "code",
   "execution_count": 21,
   "metadata": {},
   "outputs": [],
   "source": [
    "genai.configure(api_key=os.environ[\"GEMINI_API_KEY\"])\n",
    "new_story = False\n",
    "if new_story:\n",
    "    model = genai.GenerativeModel(model_name='gemini-2.0-flash-exp')\n",
    "    response = model.generate_content('''寫一個關於一個帶著魔法背包的女孩、她的家人以及\n",
    "    至少一個其他字元。\n",
    "    確保每個人都有名字。別忘了描述背包裡的東西，以及每個人和每件東西的位置開始並結束。''',\n",
    "    request_options={'retry':retry.Retry()})\n",
    "    story = response.text\n",
    "    print(response.candidates[0].citation_metadata)\n",
    "else:\n",
    "    story = '''在風景優美的威洛溪小鎮，坐落在起伏的丘陵和低語的楊柳之中，住著一位名叫安雅的小女孩。當她走出簡陋小屋吱吱作響的木門時，她的心因興奮和期待而跳動不已。今天是她上學的第一天，她迫不及待地想要炫耀她最珍貴的財產——一個神奇的背包。 \\n\\n這個背包是她祖母傳給她的，可不是普通的書包。它柔軟的翠綠布料閃爍著空靈的光芒，皮帶上隱藏著只有安雅知道的秘密。寬敞的內在空間裡是一個充滿魔法的世界，充滿了奇蹟，將點燃她的想像力並永遠改變她的生活。她告別。 “記住，親愛的，”媽媽輕聲說道，“明智地使用你的魔法，做好事。”她的父親補充說：「永遠追求知識，讓背包成為你值得信賴的伙伴。」\\n\\n安雅邁著輕快的步伐，向鎮上唯一的校舍走去。在路上，她遇到了她最好的朋友塞繆爾，一個充滿好奇心和冒險精神的男孩，總是帶著頑皮的笑容。 「嘿，安雅，」他喊道。 「我可以看看你的背包嗎？」\\n\\n安雅猶豫了一會兒，然後拉開背包拉鍊，露出裡面的東西。當塞繆爾向裡面望去時，他驚訝地睜大了眼睛。在那裡，在鉛筆和筆記本中間，放著一把閃閃發光的劍、一本古老的咒語書、一個總是指向北方的小羅盤，還有一把可以打開任何鎖的神奇鑰匙。驚嘆於背包的奇妙，並承諾以確保其秘密的安全。當他們走近校舍時，安雅注意到一群年紀較大的孩子擠在一起，臉上充滿恐懼。好奇心佔了上風，她小心翼翼地走近。她問。 「森林裡有怪物，」他結結巴巴地說。 「它一直在恐嚇小鎮，攻擊動物甚至人類。」\\n\\n安雅的心沉了下去。威洛溪鎮很小，很平靜，一想到有怪物出現，她就不寒而慄。她知道她必須做點什麼來保護她的家人和朋友。她眼中閃爍著堅定的光芒，轉向驚恐的同伴。 「別擔心，」她聲音平靜地說。 「我會處理的。」\\n\\n在塞繆爾的緊隨下，安雅冒險進入了森林陰暗的深處。當她經過時，樹木似乎在低聲訴說著秘密，灌木叢中看不見的生物沙沙作響。當他們走進森林深處時，空氣變得沉重，腳下的地面顫抖起來。牙齒，閃著紅光的眼睛以及可以輕易壓碎人類的爪子。那怪物發出一聲咆哮，雷鳴般的聲音震動了森林。 \\n\\n恐懼湧上安雅的心頭，但她拒絕讓恐懼吞噬自己。她拔出劍，向怪物衝去。刀刃在陽光下閃閃發光，當它擊中野獸的皮膚時，一道耀眼的光芒爆發出來，將一切都籠罩在光芒之中。堆破碎的水晶。安雅用背包的魔力打敗了這個怪物，證明了即使是最小的物體也能擁有最強大的力量。 \\n\\n當她和塞繆爾回到小鎮時，他們受到了英雄般的歡迎。威洛溪的人們歡欣鼓舞，魔法背包女孩安雅的傳說也代代流傳。就這樣，安雅繼續著她的冒險，利用背包的奇蹟，一步步神奇地讓世界變得更美好。'''\n"
   ]
  },
  {
   "cell_type": "code",
   "execution_count": 22,
   "metadata": {},
   "outputs": [
    {
     "data": {
      "text/markdown": [
       "> 在風景優美的威洛溪小鎮，坐落在起伏的丘陵和低語的楊柳之中，住著一位名叫安雅的小女孩。當她走出簡陋小屋吱吱作響的木門時，她的心因興奮和期待而跳動不已。今天是她上學的第一天，她迫不及待地想要炫耀她最珍貴的財產——一個神奇的背包。 \n",
       "> \n",
       "> 這個背包是她祖母傳給她的，可不是普通的書包。它柔軟的翠綠布料閃爍著空靈的光芒，皮帶上隱藏著只有安雅知道的秘密。寬敞的內在空間裡是一個充滿魔法的世界，充滿了奇蹟，將點燃她的想像力並永遠改變她的生活。她告別。 “記住，親愛的，”媽媽輕聲說道，“明智地使用你的魔法，做好事。”她的父親補充說：「永遠追求知識，讓背包成為你值得信賴的伙伴。」\n",
       "> \n",
       "> 安雅邁著輕快的步伐，向鎮上唯一的校舍走去。在路上，她遇到了她最好的朋友塞繆爾，一個充滿好奇心和冒險精神的男孩，總是帶著頑皮的笑容。 「嘿，安雅，」他喊道。 「我可以看看你的背包嗎？」\n",
       "> \n",
       "> 安雅猶豫了一會兒，然後拉開背包拉鍊，露出裡面的東西。當塞繆爾向裡面望去時，他驚訝地睜大了眼睛。在那裡，在鉛筆和筆記本中間，放著一把閃閃發光的劍、一本古老的咒語書、一個總是指向北方的小羅盤，還有一把可以打開任何鎖的神奇鑰匙。驚嘆於背包的奇妙，並承諾以確保其秘密的安全。當他們走近校舍時，安雅注意到一群年紀較大的孩子擠在一起，臉上充滿恐懼。好奇心佔了上風，她小心翼翼地走近。她問。 「森林裡有怪物，」他結結巴巴地說。 「它一直在恐嚇小鎮，攻擊動物甚至人類。」\n",
       "> \n",
       "> 安雅的心沉了下去。威洛溪鎮很小，很平靜，一想到有怪物出現，她就不寒而慄。她知道她必須做點什麼來保護她的家人和朋友。她眼中閃爍著堅定的光芒，轉向驚恐的同伴。 「別擔心，」她聲音平靜地說。 「我會處理的。」\n",
       "> \n",
       "> 在塞繆爾的緊隨下，安雅冒險進入了森林陰暗的深處。當她經過時，樹木似乎在低聲訴說著秘密，灌木叢中看不見的生物沙沙作響。當他們走進森林深處時，空氣變得沉重，腳下的地面顫抖起來。牙齒，閃著紅光的眼睛以及可以輕易壓碎人類的爪子。那怪物發出一聲咆哮，雷鳴般的聲音震動了森林。 \n",
       "> \n",
       "> 恐懼湧上安雅的心頭，但她拒絕讓恐懼吞噬自己。她拔出劍，向怪物衝去。刀刃在陽光下閃閃發光，當它擊中野獸的皮膚時，一道耀眼的光芒爆發出來，將一切都籠罩在光芒之中。堆破碎的水晶。安雅用背包的魔力打敗了這個怪物，證明了即使是最小的物體也能擁有最強大的力量。 \n",
       "> \n",
       "> 當她和塞繆爾回到小鎮時，他們受到了英雄般的歡迎。威洛溪的人們歡欣鼓舞，魔法背包女孩安雅的傳說也代代流傳。就這樣，安雅繼續著她的冒險，利用背包的奇蹟，一步步神奇地讓世界變得更美好。"
      ],
      "text/plain": [
       "<IPython.core.display.Markdown object>"
      ]
     },
     "execution_count": 22,
     "metadata": {},
     "output_type": "execute_result"
    }
   ],
   "source": [
    "to_markdown(story)"
   ]
  },
  {
   "cell_type": "code",
   "execution_count": 10,
   "metadata": {},
   "outputs": [],
   "source": [
    "### 使用自然語言\n",
    "\n",
    "model = genai.GenerativeModel(model_name='gemini-2.0-flash-exp')\n",
    "response = model.generate_content(\n",
    "    textwrap.dedent(\"\"\"\\\n",
    "    請使用以下模式傳回描述該故事中的人物、地點、事物和關係的JSON,以下是JSON的格式：\n",
    "\n",
    "    {\"people\": list[PERSON], \"places\":list[PLACE], \"things\":list[THING], \"relationships\": list[RELATIONSHIP]}\n",
    "\n",
    "    PERSON = {\"name\": str, \"description\": str, \"start_place_name\": str, \"end_place_name\": str}\n",
    "    PLACE = {\"name\": str, \"description\": str}\n",
    "    THING = {\"name\": str, \"description\": str, \"start_place_name\": str, \"end_place_name\": str}\n",
    "    RELATIONSHIP = {\"person_1_name\": str, \"person_2_name\": str, \"relationship\": str}\n",
    "\n",
    "    All fields are required.\n",
    "    請使用繁體中文回覆\n",
    "\n",
    "    Important: Only return a single piece of valid JSON text.\n",
    "\n",
    "    Here is the story:\n",
    "    \"\"\") + story,\n",
    "    generation_config={'response_mime_type':'application/json'}\n",
    "    )"
   ]
  },
  {
   "cell_type": "code",
   "execution_count": null,
   "metadata": {},
   "outputs": [],
   "source": [
    "print(response.text)"
   ]
  },
  {
   "cell_type": "code",
   "execution_count": null,
   "metadata": {},
   "outputs": [],
   "source": [
    "import json\n",
    "print(json.dumps(json.loads(response.text), indent=4))"
   ]
  },
  {
   "cell_type": "markdown",
   "metadata": {},
   "source": [
    "### 使用function call\n"
   ]
  },
  {
   "cell_type": "code",
   "execution_count": 23,
   "metadata": {},
   "outputs": [],
   "source": [
    "person = genai.protos.Schema(\n",
    "    type = genai.protos.Type.OBJECT,\n",
    "    properties = {\n",
    "        'name':  genai.protos.Schema(type=genai.protos.Type.STRING),\n",
    "        'description':  genai.protos.Schema(type=genai.protos.Type.STRING),\n",
    "        'start_place_name': genai.protos.Schema(type=genai.protos.Type.STRING),\n",
    "        'end_place_name': genai.protos.Schema(type=genai.protos.Type.STRING)\n",
    "    },\n",
    "    required=['name', 'description', 'start_place_name', 'end_place_name']\n",
    ")\n",
    "\n",
    "people = genai.protos.Schema(\n",
    "    type=genai.protos.Type.ARRAY,\n",
    "    items=person\n",
    ")\n",
    "\n",
    "place = genai.protos.Schema(\n",
    "    type = genai.protos.Type.OBJECT,\n",
    "    properties = {\n",
    "        'name':  genai.protos.Schema(type=genai.protos.Type.STRING),\n",
    "        'description':  genai.protos.Schema(type=genai.protos.Type.STRING),\n",
    "    }\n",
    ")\n",
    "\n",
    "places = genai.protos.Schema(\n",
    "    type=genai.protos.Type.ARRAY,\n",
    "    items=place\n",
    ")\n",
    "\n",
    "thing = genai.protos.Schema(\n",
    "  type = genai.protos.Type.OBJECT,\n",
    "  properties = {\n",
    "      'name':  genai.protos.Schema(type=genai.protos.Type.STRING),\n",
    "      'description':  genai.protos.Schema(type=genai.protos.Type.STRING),\n",
    "  }\n",
    ")\n",
    "\n",
    "things = genai.protos.Schema(\n",
    "    type=genai.protos.Type.ARRAY,\n",
    "    items=thing\n",
    ")\n",
    "\n",
    "relationship = genai.protos.Schema(\n",
    "    type = genai.protos.Type.OBJECT,\n",
    "    properties = {\n",
    "        'person_1_name':  genai.protos.Schema(type=genai.protos.Type.STRING),\n",
    "        'person_2_name':  genai.protos.Schema(type=genai.protos.Type.STRING),\n",
    "        'relationship':  genai.protos.Schema(type=genai.protos.Type.STRING),\n",
    "    }\n",
    ")\n",
    "\n",
    "relationships = genai.protos.Schema(\n",
    "    type=genai.protos.Type.ARRAY,\n",
    "    items=relationship\n",
    ")"
   ]
  },
  {
   "cell_type": "code",
   "execution_count": 24,
   "metadata": {},
   "outputs": [],
   "source": [
    "add_to_database = genai.protos.FunctionDeclaration(\n",
    "    name=\"add_to_database\",\n",
    "    description=textwrap.dedent(\"\"\"\\\n",
    "        Adds entities to the database.\n",
    "        \"\"\"),\n",
    "    parameters=genai.protos.Schema(\n",
    "        type=genai.protos.Type.OBJECT,\n",
    "        properties = {\n",
    "            'people': people,\n",
    "            'places': places,\n",
    "            'things': things,\n",
    "            'relationships': relationships\n",
    "        }\n",
    "    )\n",
    ")"
   ]
  },
  {
   "cell_type": "code",
   "execution_count": 25,
   "metadata": {},
   "outputs": [],
   "source": [
    "genai.configure(api_key=os.environ[\"GEMINI_API_KEY\"])\n",
    "model = genai.GenerativeModel(\n",
    "    model_name='gemini-2.0-flash-exp',\n",
    "    tools = [add_to_database])\n"
   ]
  },
  {
   "cell_type": "code",
   "execution_count": 31,
   "metadata": {},
   "outputs": [],
   "source": [
    "result = model.generate_content(f\"\"\"\n",
    "Please add the people, places, things, and relationships from this story to the database:,請使用繁體中文回答\n",
    "\n",
    "{story}\n",
    "\"\"\",\n",
    "# Force a function call\n",
    "tool_config={'function_calling_config':'ANY'})"
   ]
  },
  {
   "cell_type": "code",
   "execution_count": 32,
   "metadata": {},
   "outputs": [
    {
     "data": {
      "text/plain": [
       "False"
      ]
     },
     "execution_count": 32,
     "metadata": {},
     "output_type": "execute_result"
    }
   ],
   "source": [
    "'text' in result.candidates[0].content.parts[0]"
   ]
  },
  {
   "cell_type": "code",
   "execution_count": 33,
   "metadata": {},
   "outputs": [
    {
     "data": {
      "text/plain": [
       "True"
      ]
     },
     "execution_count": 33,
     "metadata": {},
     "output_type": "execute_result"
    }
   ],
   "source": [
    "'function_call' in result.candidates[0].content.parts[0]"
   ]
  },
  {
   "cell_type": "code",
   "execution_count": 34,
   "metadata": {},
   "outputs": [
    {
     "name": "stdout",
     "output_type": "stream",
     "text": [
      "<class 'google.ai.generativelanguage_v1beta.types.content.FunctionCall'>\n"
     ]
    }
   ],
   "source": [
    "fc = result.candidates[0].content.parts[0].function_call\n",
    "print(type(fc))"
   ]
  },
  {
   "cell_type": "code",
   "execution_count": 35,
   "metadata": {},
   "outputs": [
    {
     "name": "stdout",
     "output_type": "stream",
     "text": [
      "{\n",
      "    \"name\": \"add_to_database\",\n",
      "    \"args\": {\n",
      "        \"people\": [\n",
      "            {\n",
      "                \"description\": \"\\u4e00\\u4f4d\\u540d\\u53eb\\u5b89\\u96c5\\u7684\\u5c0f\\u5973\\u5b69\",\n",
      "                \"start_place_name\": \"\\u7c21\\u964b\\u5c0f\\u5c4b\",\n",
      "                \"end_place_name\": \"\\u6821\\u820d\",\n",
      "                \"name\": \"\\u5b89\\u96c5\"\n",
      "            },\n",
      "            {\n",
      "                \"description\": \"\\u5145\\u6eff\\u597d\\u5947\\u5fc3\\u548c\\u5192\\u96aa\\u7cbe\\u795e\\u7684\\u7537\\u5b69\",\n",
      "                \"start_place_name\": \"\\u5a01\\u6d1b\\u6eaa\\u5c0f\\u93ae\",\n",
      "                \"end_place_name\": \"\\u6821\\u820d\",\n",
      "                \"name\": \"\\u585e\\u7e46\\u723e\"\n",
      "            },\n",
      "            {\n",
      "                \"description\": \"\\u5b89\\u96c5\\u7684\\u6bcd\\u89aa\",\n",
      "                \"start_place_name\": \"\\u7c21\\u964b\\u5c0f\\u5c4b\",\n",
      "                \"end_place_name\": \"\\u7c21\\u964b\\u5c0f\\u5c4b\",\n",
      "                \"name\": \"\\u5b89\\u96c5\\u7684\\u6bcd\\u89aa\"\n",
      "            },\n",
      "            {\n",
      "                \"description\": \"\\u5b89\\u96c5\\u7684\\u7236\\u89aa\",\n",
      "                \"start_place_name\": \"\\u7c21\\u964b\\u5c0f\\u5c4b\",\n",
      "                \"end_place_name\": \"\\u7c21\\u964b\\u5c0f\\u5c4b\",\n",
      "                \"name\": \"\\u5b89\\u96c5\\u7684\\u7236\\u89aa\"\n",
      "            }\n",
      "        ],\n",
      "        \"things\": [\n",
      "            {\n",
      "                \"description\": \"\\u67d4\\u8edf\\u7684\\u7fe0\\u7da0\\u5e03\\u6599\\u9583\\u720d\\u8457\\u7a7a\\u9748\\u7684\\u5149\\u8292\\uff0c\\u76ae\\u5e36\\u4e0a\\u96b1\\u85cf\\u8457\\u53ea\\u6709\\u5b89\\u96c5\\u77e5\\u9053\\u7684\\u79d8\\u5bc6\",\n",
      "                \"name\": \"\\u795e\\u5947\\u7684\\u80cc\\u5305\"\n",
      "            },\n",
      "            {\n",
      "                \"description\": \"\\u4e00\\u628a\\u9583\\u9583\\u767c\\u5149\\u7684\\u528d\",\n",
      "                \"name\": \"\\u528d\"\n",
      "            },\n",
      "            {\n",
      "                \"description\": \"\\u4e00\\u672c\\u53e4\\u8001\\u7684\\u5492\\u8a9e\\u66f8\",\n",
      "                \"name\": \"\\u5492\\u8a9e\\u66f8\"\n",
      "            },\n",
      "            {\n",
      "                \"description\": \"\\u4e00\\u500b\\u7e3d\\u662f\\u6307\\u5411\\u5317\\u65b9\\u7684\\u5c0f\\u7f85\\u76e4\",\n",
      "                \"name\": \"\\u5c0f\\u7f85\\u76e4\"\n",
      "            },\n",
      "            {\n",
      "                \"description\": \"\\u4e00\\u628a\\u53ef\\u4ee5\\u6253\\u958b\\u4efb\\u4f55\\u9396\\u7684\\u795e\\u5947\\u9470\\u5319\",\n",
      "                \"name\": \"\\u795e\\u5947\\u9470\\u5319\"\n",
      "            },\n",
      "            {\n",
      "                \"description\": \"\\u4e00\\u76f4\\u5728\\u6050\\u5687\\u5c0f\\u93ae\\uff0c\\u653b\\u64ca\\u52d5\\u7269\\u751a\\u81f3\\u4eba\\u985e\",\n",
      "                \"name\": \"\\u602a\\u7269\"\n",
      "            }\n",
      "        ],\n",
      "        \"places\": [\n",
      "            {\n",
      "                \"description\": \"\\u98a8\\u666f\\u512a\\u7f8e\\u7684\\u5c0f\\u93ae\",\n",
      "                \"name\": \"\\u5a01\\u6d1b\\u6eaa\\u5c0f\\u93ae\"\n",
      "            },\n",
      "            {\n",
      "                \"description\": \"\\u5b89\\u96c5\\u7684\\u5bb6\",\n",
      "                \"name\": \"\\u7c21\\u964b\\u5c0f\\u5c4b\"\n",
      "            },\n",
      "            {\n",
      "                \"description\": \"\\u93ae\\u4e0a\\u552f\\u4e00\\u7684\\u6821\\u820d\",\n",
      "                \"name\": \"\\u6821\\u820d\"\n",
      "            },\n",
      "            {\n",
      "                \"description\": \"\\u9670\\u6697\\u7684\\u6df1\\u8655\",\n",
      "                \"name\": \"\\u68ee\\u6797\"\n",
      "            }\n",
      "        ]\n",
      "    }\n",
      "}\n"
     ]
    }
   ],
   "source": [
    "print(json.dumps(type(fc).to_dict(fc), indent=4))"
   ]
  }
 ],
 "metadata": {
  "kernelspec": {
   "display_name": "base",
   "language": "python",
   "name": "python3"
  },
  "language_info": {
   "codemirror_mode": {
    "name": "ipython",
    "version": 3
   },
   "file_extension": ".py",
   "mimetype": "text/x-python",
   "name": "python",
   "nbconvert_exporter": "python",
   "pygments_lexer": "ipython3",
   "version": "3.12.2"
  }
 },
 "nbformat": 4,
 "nbformat_minor": 2
}
