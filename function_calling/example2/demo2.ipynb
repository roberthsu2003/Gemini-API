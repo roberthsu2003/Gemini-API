{
 "cells": [
  {
   "cell_type": "code",
   "execution_count": 42,
   "metadata": {},
   "outputs": [],
   "source": [
    "#定義function calling\n",
    "import google.generativeai as genai\n",
    "import os\n",
    "from IPython.display import display,Markdown\n",
    "import requests\n",
    "\n",
    "def get_exchange_rate(currency_from:str,currency_to:str,date:str='latest'):\n",
    "    '''\n",
    "    1. 取得目前查詢貨幣的匯率  \n",
    "    2. 如果沒有指定日期,請設定currency_date=latest\n",
    "\n",
    "\tArgs:  \n",
    "        currency_date:如果沒有指定日期,請設定currency_date=latest,日期,格式必需是YYYY-MM-DD  \n",
    "        currency_from:要被轉換的貨幣名稱,必需附合`ISO 4217`  \n",
    "        currency_from:要轉換成為的貨敝名稱,必需附合`ISO 4217`\n",
    "\n",
    "\tReturns:  \n",
    "        傳出一指定的dictionary,各個key的說明如下  \n",
    "        date:查詢的日期  \n",
    "        from_currency:當作基準貨幣名稱  \n",
    "        to_currency:當作要轉換成為的貨幣名稱  \n",
    "        rate:匯率\n",
    "    '''\n",
    "    if not date:\n",
    "        date = 'latest' \n",
    "    url = f'https://api.frankfurter.app/{date}?base={currency_from}&symbols={currency_to}'\n",
    "    response = requests.get(url)\n",
    "    rate = response.json()['rates'][currency_to]\n",
    "    return{\n",
    "        \"date\":date,\n",
    "        \"from_currency\":currency_from,\n",
    "        \"to_currency\":currency_to,\n",
    "        \"rate\":rate\n",
    "    }"
   ]
  },
  {
   "cell_type": "code",
   "execution_count": 41,
   "metadata": {},
   "outputs": [
    {
     "name": "stdout",
     "output_type": "stream",
     "text": [
      "name: \"get_exchange_rate\"\n",
      "args {\n",
      "  fields {\n",
      "    key: \"date\"\n",
      "    value {\n",
      "      string_value: \"2024-12-04\"\n",
      "    }\n",
      "  }\n",
      "  fields {\n",
      "    key: \"currency_to\"\n",
      "    value {\n",
      "      string_value: \"AUD\"\n",
      "    }\n",
      "  }\n",
      "  fields {\n",
      "    key: \"currency_from\"\n",
      "    value {\n",
      "      string_value: \"EUR\"\n",
      "    }\n",
      "  }\n",
      "}\n",
      "\n",
      "目前系統有問題\n"
     ]
    }
   ],
   "source": [
    "#手動呼叫function,手動產生response\n",
    "#為什麼要如此做呢?因為如果執行function有raise exception,我們可以手動處理\n",
    "#可以加強程式的可靠度\n",
    "\n",
    "import google.generativeai as genai\n",
    "import os\n",
    "from IPython.display import display,Markdown \n",
    "\n",
    "genai.configure(api_key=os.environ['GEMINI_API_KEY'])\n",
    "model = genai.GenerativeModel(\n",
    "    model_name='gemini-2.0-flash-exp',\n",
    "    tools=[get_exchange_rate],\n",
    "    system_instruction='''\n",
    "    如果沒有指定日期,請設定date='latest'\n",
    "    '''\n",
    ")\n",
    "\n",
    "chat = model.start_chat() #手動呼叫\n",
    "response = chat.send_message('2024-12-04,200歐幣對換澳幣是多少錢?')\n",
    "try:\n",
    "    if answer := response.text: #如果有text,代表prompt的文字有問題,檢查response,只有text,沒有function_call,如果正常呼叫時會沒有text,會raise錯誤\n",
    "        print(answer)\n",
    "        print(response)      \n",
    "except:\n",
    "    for part in response.parts: #手動取出所有的引數值和function名稱\n",
    "            if fn := part.function_call:\n",
    "                print(fn)\n",
    "                args = {key:val for key,val in fn.args.items()}\n",
    "                try:\n",
    "                    return_values = get_exchange_rate(**args)#手動呼叫function,如果有出錯會raise錯誤\n",
    "                    print(return_values)\n",
    "                except:\n",
    "                    print(\"目前系統有問題\")\n",
    "\n",
    "                \n"
   ]
  },
  {
   "cell_type": "code",
   "execution_count": 31,
   "metadata": {},
   "outputs": [
    {
     "name": "stdout",
     "output_type": "stream",
     "text": [
      "200歐元在2024-12-04的匯率為1歐元兌1.6384澳元，因此200歐元可兌換327.68澳元。\n",
      "\n"
     ]
    }
   ],
   "source": [
    "#手動產生response\n",
    "response_parts = genai.protos.Part(function_response=genai.protos.FunctionResponse(name='get_exchange_rate', response={'result':return_values}))\n",
    "response = chat.send_message(response_parts)\n",
    "print(response.text)"
   ]
  }
 ],
 "metadata": {
  "kernelspec": {
   "display_name": "base",
   "language": "python",
   "name": "python3"
  },
  "language_info": {
   "codemirror_mode": {
    "name": "ipython",
    "version": 3
   },
   "file_extension": ".py",
   "mimetype": "text/x-python",
   "name": "python",
   "nbconvert_exporter": "python",
   "pygments_lexer": "ipython3",
   "version": "3.12.2"
  }
 },
 "nbformat": 4,
 "nbformat_minor": 2
}
