{
 "cells": [
  {
   "cell_type": "code",
   "execution_count": 26,
   "metadata": {},
   "outputs": [
    {
     "data": {
      "text/markdown": [
       "目前歐元兌美元的匯率會不斷變動，建議您參考以下幾個可靠的資訊來源查詢：\n",
       "\n",
       "* **Google 搜尋:** 直接在 Google 搜尋 \"歐元 美元 匯率\"，Google 會顯示即時匯率資訊，並附有圖表。\n",
       "* **專業財經網站:** 例如 Bloomberg、Reuters、Yahoo Finance 等，這些網站提供更詳細的匯率資訊，包括歷史數據和圖表。\n",
       "* **銀行網站或手機 App:** 您可以查詢您常用的銀行網站或手機 App，它們通常會提供最新的匯率資訊。\n",
       "* **外匯交易平台:** 如果您有外匯交易需求，可以在交易平台上查詢即時匯率。\n",
       "\n",
       "**注意事項：**\n",
       "\n",
       "*   **匯率隨時都在變動：** 匯率是動態變化的，建議查詢時以最新資訊為準。\n",
       "*   **不同來源的匯率可能略有差異：** 因為來源不同，例如銀行的買入價和賣出價會不同，以及不同資訊平台的數據更新頻率不同，匯率可能會有些微差異。\n",
       "*   **交易匯率與牌告匯率不同：** 如果您要進行外匯交易，實際的交易匯率會與牌告匯率不同，通常銀行或外匯平台會收取一些手續費。\n",
       "\n",
       "**總之，要查詢歐元兌美元的即時匯率，建議使用上述提到的可靠來源，並注意匯率的動態變化。**\n"
      ],
      "text/plain": [
       "<IPython.core.display.Markdown object>"
      ]
     },
     "metadata": {},
     "output_type": "display_data"
    }
   ],
   "source": [
    "#直接查詢(無法查詢)\n",
    "import google.generativeai as genai\n",
    "import os\n",
    "from IPython.display import display,Markdown \n",
    "\n",
    "genai.configure(api_key=os.environ['GEMINI_API_KEY'])\n",
    "model = genai.GenerativeModel(\n",
    "    model_name='gemini-2.0-flash-exp'\n",
    ")\n",
    "response = model.generate_content(\n",
    "   \"今日歐元和美金的匯率?\" \n",
    ")\n",
    "display(Markdown(response.text))"
   ]
  },
  {
   "cell_type": "code",
   "execution_count": 27,
   "metadata": {},
   "outputs": [
    {
     "name": "stdout",
     "output_type": "stream",
     "text": [
      "{'amount': 1.0,\n",
      " 'base': 'EUR',\n",
      " 'date': '2025-01-31',\n",
      " 'rates': {'AUD': 1.6702,\n",
      "           'BGN': 1.9558,\n",
      "           'BRL': 6.0677,\n",
      "           'CAD': 1.5035,\n",
      "           'CHF': 0.9449,\n",
      "           'CNY': 7.5363,\n",
      "           'CZK': 25.166,\n",
      "           'DKK': 7.4618,\n",
      "           'GBP': 0.83608,\n",
      "           'HKD': 8.099,\n",
      "           'HUF': 407.95,\n",
      "           'IDR': 16941,\n",
      "           'ILS': 3.7199,\n",
      "           'INR': 89.99,\n",
      "           'ISK': 146.7,\n",
      "           'JPY': 160.99,\n",
      "           'KRW': 1506.62,\n",
      "           'MXN': 21.477,\n",
      "           'MYR': 4.6301,\n",
      "           'NOK': 11.7373,\n",
      "           'NZD': 1.8391,\n",
      "           'PHP': 60.682,\n",
      "           'PLN': 4.213,\n",
      "           'RON': 4.9767,\n",
      "           'SEK': 11.474,\n",
      "           'SGD': 1.4091,\n",
      "           'THB': 34.915,\n",
      "           'TRY': 37.266,\n",
      "           'USD': 1.0393,\n",
      "           'ZAR': 19.3588}}\n"
     ]
    }
   ],
   "source": [
    "#使用外部api\n",
    "#api的使用說明:https://frankfurter.dev/\n",
    "import requests\n",
    "from pprint import pprint\n",
    "url = \"https://api.frankfurter.app/latest\" #目前最新的\n",
    "#url = \"https://api.frankfurter.app/2024-03-01\" #指定日期\n",
    "#url = \"https://api.frankfurter.app/1999-01-04?base=USD&symbols=EUR\" #指定日期,base和symbols\n",
    "response = requests.get(url)\n",
    "pprint(response.json())"
   ]
  },
  {
   "cell_type": "code",
   "execution_count": 28,
   "metadata": {},
   "outputs": [
    {
     "name": "stdout",
     "output_type": "stream",
     "text": [
      "{'amount': 1.0, 'base': 'USD', 'date': '1999-01-04', 'rates': {'EUR': 0.84825}}\n"
     ]
    },
    {
     "data": {
      "text/plain": [
       "0.84825"
      ]
     },
     "execution_count": 28,
     "metadata": {},
     "output_type": "execute_result"
    }
   ],
   "source": [
    "#使用外部api\n",
    "#api的使用說明:https://frankfurter.dev/\n",
    "import requests\n",
    "from pprint import pprint\n",
    "#url = \"https://api.frankfurter.app/latest\" #目前最新的\n",
    "#url = \"https://api.frankfurter.app/2024-03-01\" #指定日期\n",
    "symbol = 'EUR'\n",
    "url = f\"https://api.frankfurter.app/1999-01-04?base=USD&symbols={symbol}\" #指定日期,base和symbols\n",
    "response = requests.get(url)\n",
    "pprint(response.json())\n",
    "response.json()['rates'][symbol]"
   ]
  },
  {
   "cell_type": "code",
   "execution_count": 60,
   "metadata": {},
   "outputs": [],
   "source": [
    "#定義function calling\n",
    "\n",
    "def get_exchange_rate(currency_from:str,currency_to:str,date:str='latest'):\n",
    "    '''\n",
    "    1. 取得目前查詢貨幣的匯率  \n",
    "    2. 如果沒有指定日期,請設定currency_date=latest\n",
    "\n",
    "\tArgs:  \n",
    "        currency_date:如果沒有指定日期,請設定currency_date=latest,日期,格式必需是YYYY-MM-DD  \n",
    "        currency_from:要被轉換的貨幣名稱,必需附合`ISO 4217`  \n",
    "        currency_from:要轉換成為的貨敝名稱,必需附合`ISO 4217`\n",
    "\n",
    "\tReturns:  \n",
    "        傳出一指定的dictionary,各個key的說明如下  \n",
    "        date:查詢的日期  \n",
    "        from_currency:當作基準貨幣名稱  \n",
    "        to_currency:當作要轉換成為的貨幣名稱  \n",
    "        rate:匯率\n",
    "    '''\n",
    "    if not date:\n",
    "        date = 'latest' \n",
    "    url = f'https://api.frankfurter.app/{date}?base={currency_from}&symbols={currency_to}'\n",
    "    response = requests.get(url)\n",
    "    rate = response.json()['rates'][currency_to]\n",
    "    return{\n",
    "        \"date\":date,\n",
    "        \"from_currency\":currency_from,\n",
    "        \"to_currency\":currency_to,\n",
    "        \"rate\":rate\n",
    "    }"
   ]
  },
  {
   "cell_type": "code",
   "execution_count": 61,
   "metadata": {},
   "outputs": [
    {
     "data": {
      "text/plain": [
       "{'date': 'latest', 'from_currency': 'USD', 'to_currency': 'AUD', 'rate': 1.607}"
      ]
     },
     "execution_count": 61,
     "metadata": {},
     "output_type": "execute_result"
    }
   ],
   "source": [
    "#手動測試function\n",
    "get_exchange_rate('USD',\"AUD\")"
   ]
  },
  {
   "cell_type": "code",
   "execution_count": 67,
   "metadata": {},
   "outputs": [
    {
     "name": "stdout",
     "output_type": "stream",
     "text": [
      "今日 100 美元可兌換 160.7 澳元。\n",
      "\n",
      "response:\n",
      "GenerateContentResponse(\n",
      "    done=True,\n",
      "    iterator=None,\n",
      "    result=protos.GenerateContentResponse({\n",
      "      \"candidates\": [\n",
      "        {\n",
      "          \"content\": {\n",
      "            \"parts\": [\n",
      "              {\n",
      "                \"text\": \"\\u4eca\\u65e5 100 \\u7f8e\\u5143\\u53ef\\u514c\\u63db 160.7 \\u6fb3\\u5143\\u3002\\n\"\n",
      "              }\n",
      "            ],\n",
      "            \"role\": \"model\"\n",
      "          },\n",
      "          \"finish_reason\": \"STOP\",\n",
      "          \"safety_ratings\": [\n",
      "            {\n",
      "              \"category\": \"HARM_CATEGORY_HATE_SPEECH\",\n",
      "              \"probability\": \"NEGLIGIBLE\"\n",
      "            },\n",
      "            {\n",
      "              \"category\": \"HARM_CATEGORY_DANGEROUS_CONTENT\",\n",
      "              \"probability\": \"NEGLIGIBLE\"\n",
      "            },\n",
      "            {\n",
      "              \"category\": \"HARM_CATEGORY_HARASSMENT\",\n",
      "              \"probability\": \"NEGLIGIBLE\"\n",
      "            },\n",
      "            {\n",
      "              \"category\": \"HARM_CATEGORY_SEXUALLY_EXPLICIT\",\n",
      "              \"probability\": \"NEGLIGIBLE\"\n",
      "            }\n",
      "          ],\n",
      "          \"avg_logprobs\": -0.10510177839370001\n",
      "        }\n",
      "      ],\n",
      "      \"usage_metadata\": {\n",
      "        \"prompt_token_count\": 355,\n",
      "        \"candidates_token_count\": 21,\n",
      "        \"total_token_count\": 376\n",
      "      }\n",
      "    }),\n",
      ")\n"
     ]
    }
   ],
   "source": [
    "#由model chat來呼叫\n",
    "import google.generativeai as genai\n",
    "import os\n",
    "from IPython.display import display,Markdown \n",
    "\n",
    "genai.configure(api_key=os.environ['GEMINI_API_KEY'])\n",
    "model = genai.GenerativeModel(\n",
    "    model_name='gemini-2.0-flash-exp',\n",
    "    tools=[get_exchange_rate],\n",
    "    system_instruction='''\n",
    "    如果沒有指定日期,請設定date='latest'\n",
    "    '''\n",
    ")\n",
    "\n",
    "chat = model.start_chat(enable_automatic_function_calling=True)\n",
    "response = chat.send_message('今日100美金對換澳幣是多少錢?')\n",
    "print(response.text)\n",
    "print(chat.last)\n"
   ]
  }
 ],
 "metadata": {
  "kernelspec": {
   "display_name": "base",
   "language": "python",
   "name": "python3"
  },
  "language_info": {
   "codemirror_mode": {
    "name": "ipython",
    "version": 3
   },
   "file_extension": ".py",
   "mimetype": "text/x-python",
   "name": "python",
   "nbconvert_exporter": "python",
   "pygments_lexer": "ipython3",
   "version": "3.12.2"
  }
 },
 "nbformat": 4,
 "nbformat_minor": 2
}
