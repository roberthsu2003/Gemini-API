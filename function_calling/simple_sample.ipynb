{
 "cells": [
  {
   "cell_type": "markdown",
   "metadata": {},
   "source": [
    "## function calling的講解\n",
    "\n",
    "函式呼叫使您更容易從生成模型中獲取結構化資料輸出。然後，您可以使用這些輸出來呼叫其他 API 並將相關回應資料傳回給模型。換句話說，函數呼叫可以幫助您將產生模型連接到外部系統，以便產生的內容包含最新、最準確的資訊。\n",
    "\n",
    "您可以為 Gemini 模型提供功能描述。這些是您使用應用語言編寫的函數（也就是說，它們不是 Google Cloud Functions）。模型可能會要求您呼叫函數並傳回結果以幫助模型處理您的查詢。"
   ]
  },
  {
   "cell_type": "markdown",
   "metadata": {},
   "source": [
    "### 光線控制的API\n",
    "想像你有一個基本控制光線的應用程式(api)和您允許使用者使用輸入的文字控制光線的明亮度和溫度.可以使用函數呼叫功能了解使用者改變亮度的要求和轉換它們進入到api.\n",
    "| Parameter | Type | Required | Description |\n",
    "|:--|:--|:--|:--|\n",
    "| brightness | number | yes | Light level from 0 to 100. Zero is off and 100 is full brightness. |\n",
    "| colorTemperature | string | yes | Color temperature of the light fixture which can be daylight, cool or warm. |"
   ]
  },
  {
   "cell_type": "code",
   "execution_count": null,
   "metadata": {},
   "outputs": [],
   "source": [
    "{\n",
    "  \"brightness\": \"50\",\n",
    "  \"colorTemperature\": \"daylight\"\n",
    "}"
   ]
  },
  {
   "cell_type": "markdown",
   "metadata": {},
   "source": [
    "### 定義一個自訂的函式\n",
    "建立一個符合API需求的函式,這個function一定是被定義在我們應用程式內,function內的程式可以呼叫外部的API.模型不會直接呼叫我們的函式,所以只是註冊一個function.這個function要有很明確的描素\n",
    "\n",
    "**英文**\n",
    "- 自訂function的參數和傳出值要描素清楚\n",
    "- 建立模型時的tools引數值\n",
    "- enable_automatic_function_calling=True,此設定會由model決定是否執行function\n",
    "\n"
   ]
  },
  {
   "cell_type": "code",
   "execution_count": 2,
   "metadata": {},
   "outputs": [
    {
     "data": {
      "text/plain": [
       "\"OK. I've set the lights to 30% brightness and a warm color temperature.\\n\""
      ]
     },
     "execution_count": 2,
     "metadata": {},
     "output_type": "execute_result"
    }
   ],
   "source": [
    "import os\n",
    "import google.generativeai as genai\n",
    "\n",
    "def set_light_value(brightness:int, color_temp:str)->str:\n",
    "    \"\"\"Set the brightness and color temperature of a room light. (mock API).\n",
    "\n",
    "    Args:\n",
    "        brightness: Light level from 0 to 100. Zero is off and 100 is full brightness\n",
    "        color_temp: Color temperature of the light fixture, which can be `daylight`, `cool` or `warm`.\n",
    "\n",
    "    Returns:\n",
    "        A dictionary containing the set brightness and color temperature.\n",
    "    \"\"\"\n",
    "    return {\n",
    "        \"brightness\":brightness,\n",
    "        \"colorTemperature\":color_temp\n",
    "    }\n",
    "genai.configure(api_key=os.environ['GEMINI_API_KEY'])\n",
    "\n",
    "model = genai.GenerativeModel(\n",
    "    model_name='gemini-2.0-flash-exp',\n",
    "    tools=[set_light_value]\n",
    "    )\n",
    "chat = model.start_chat(enable_automatic_function_calling=True)\n",
    "response = chat.send_message('Dim the lights so the room feels cozy and warm.')\n",
    "response.text"
   ]
  },
  {
   "cell_type": "markdown",
   "metadata": {},
   "source": [
    "**中文版**"
   ]
  },
  {
   "cell_type": "code",
   "execution_count": 2,
   "metadata": {},
   "outputs": [
    {
     "name": "stdout",
     "output_type": "stream",
     "text": [
      "50.0\n",
      "正常光線\n"
     ]
    },
    {
     "data": {
      "text/plain": [
       "'好的，我已經將光線亮度設定為50，光線溫度設定為正常光線。\\n'"
      ]
     },
     "execution_count": 2,
     "metadata": {},
     "output_type": "execute_result"
    }
   ],
   "source": [
    "import os\n",
    "import google.generativeai as genai\n",
    "\n",
    "def set_light_value(brightness:int, color_temp:str)->str:\n",
    "    \"\"\"設定房間的光線亮度和光線溫度 (模擬的API).\n",
    "\n",
    "    Parameters:\n",
    "        brightness: 亮度的等級從0~100,如果為0代表關閉光線,如果為100代表光線全開\n",
    "        color_temp: 代表光線的溫度,有3個等線 `正常光線`, `冷光線` or `溫暖光線`.\n",
    "\n",
    "    Returns:\n",
    "        一個詞典物件設定光線高度和光線溫度.\n",
    "    \"\"\"\n",
    "    print(brightness)\n",
    "    print(color_temp)\n",
    "    return {\n",
    "        \"brightness\":brightness,\n",
    "        \"colorTemperature\":color_temp\n",
    "    }\n",
    "\n",
    "model = genai.GenerativeModel(\n",
    "    model_name='gemini-2.0-flash-exp',\n",
    "    tools=[set_light_value]\n",
    "    )\n",
    "chat = model.start_chat(enable_automatic_function_calling=True)\n",
    "response = chat.send_message('開啟光線至50和設定為正常')\n",
    "response.text"
   ]
  }
 ],
 "metadata": {
  "kernelspec": {
   "display_name": "base",
   "language": "python",
   "name": "python3"
  },
  "language_info": {
   "codemirror_mode": {
    "name": "ipython",
    "version": 3
   },
   "file_extension": ".py",
   "mimetype": "text/x-python",
   "name": "python",
   "nbconvert_exporter": "python",
   "pygments_lexer": "ipython3",
   "version": "3.12.2"
  }
 },
 "nbformat": 4,
 "nbformat_minor": 2
}
