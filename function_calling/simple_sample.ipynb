{
 "cells": [
  {
   "cell_type": "markdown",
   "metadata": {},
   "source": [
    "## function calling的講解\n",
    "\n",
    "函式呼叫使您更容易從生成模型中獲取結構化資料輸出。然後，您可以使用這些輸出來呼叫其他 API 並將相關回應資料傳回給模型。換句話說，函數呼叫可以幫助您將產生模型連接到外部系統，以便產生的內容包含最新、最準確的資訊。\n",
    "\n",
    "您可以為 Gemini 模型提供功能描述。這些是您使用應用語言編寫的函數（也就是說，它們不是 Google Cloud Functions）。模型可能會要求您呼叫函數並傳回結果以幫助模型處理您的查詢。"
   ]
  },
  {
   "cell_type": "markdown",
   "metadata": {},
   "source": [
    "### 光線控制的API\n",
    "想像你有一個基本控制光線的應用程式(api)和您允許使用者使用輸入的文字控制光線的明亮度和溫度.可以使用函數呼叫功能了解使用者改變亮度的要求和轉換它們進入到api.\n",
    "| Parameter | Type | Required | Description |\n",
    "|:--|:--|:--|:--|\n",
    "| brightness | number | yes | Light level from 0 to 100. Zero is off and 100 is full brightness. |\n",
    "| colorTemperature | string | yes | Color temperature of the light fixture which can be daylight, cool or warm. |"
   ]
  },
  {
   "cell_type": "code",
   "execution_count": null,
   "metadata": {},
   "outputs": [],
   "source": [
    "{\n",
    "  \"brightness\": \"50\",\n",
    "  \"colorTemperature\": \"daylight\"\n",
    "}"
   ]
  },
  {
   "cell_type": "markdown",
   "metadata": {},
   "source": [
    "### 定義一個自訂的函式\n",
    "建立一個符合API需求的函式,這個function一定是被定義在我們應用程式內,function內的程式可以呼叫外部的API.模型不會直接呼叫我們的函式,所以只是註冊一個function.這個function要有很明確的描素\n",
    "\n",
    "**英文**\n",
    "- 自訂function的參數和傳出值要描素清楚\n",
    "- 建立模型時的tools引數值\n",
    "- enable_automatic_function_calling=True,此設定會由model決定是否執行function\n",
    "\n"
   ]
  },
  {
   "cell_type": "markdown",
   "metadata": {},
   "source": [
    "## 下面的範例:\n",
    "- 使用start_chat(),會自動執行function\n",
    "- return的值會成為模型的參考,模型再依據return value值,修飾response.text內的文字"
   ]
  },
  {
   "cell_type": "code",
   "execution_count": 2,
   "metadata": {},
   "outputs": [
    {
     "data": {
      "text/plain": [
       "\"OK. I've set the lights to 30% brightness and a warm color temperature.\\n\""
      ]
     },
     "execution_count": 2,
     "metadata": {},
     "output_type": "execute_result"
    }
   ],
   "source": [
    "import os\n",
    "import google.generativeai as genai\n",
    "\n",
    "def set_light_value(brightness:int, color_temp:str)->str:\n",
    "    \"\"\"Set the brightness and color temperature of a room light. (mock API).\n",
    "\n",
    "    Args:\n",
    "        brightness: Light level from 0 to 100. Zero is off and 100 is full brightness\n",
    "        color_temp: Color temperature of the light fixture, which can be `daylight`, `cool` or `warm`.\n",
    "\n",
    "    Returns:\n",
    "        A dictionary containing the set brightness and color temperature.\n",
    "    \"\"\"\n",
    "    return {\n",
    "        \"brightness\":brightness,\n",
    "        \"colorTemperature\":color_temp\n",
    "    }\n",
    "genai.configure(api_key=os.environ['GEMINI_API_KEY'])\n",
    "\n",
    "model = genai.GenerativeModel(\n",
    "    model_name='gemini-2.0-flash-exp',\n",
    "    tools=[set_light_value]\n",
    "    )\n",
    "chat = model.start_chat(enable_automatic_function_calling=True)\n",
    "response = chat.send_message('Dim the lights so the room feels cozy and warm.')\n",
    "response.text"
   ]
  },
  {
   "cell_type": "markdown",
   "metadata": {},
   "source": [
    "**中文版**"
   ]
  },
  {
   "cell_type": "code",
   "execution_count": 12,
   "metadata": {},
   "outputs": [
    {
     "name": "stdout",
     "output_type": "stream",
     "text": [
      "60.0\n",
      "溫暖溫度\n"
     ]
    },
    {
     "data": {
      "text/plain": [
       "'好的，我已將光線亮度設定為 60，光線溫度設定為溫暖溫度。\\n'"
      ]
     },
     "execution_count": 12,
     "metadata": {},
     "output_type": "execute_result"
    }
   ],
   "source": [
    "import os\n",
    "import google.generativeai as genai\n",
    "\n",
    "def set_light_value(brightness:int, color_temp:str)->str:\n",
    "    \"\"\"設定房間的光線亮度和光線溫度 (模擬的API).\n",
    "\n",
    "    Parameters:\n",
    "        brightness: 亮度的等級從0~100,如果為0代表關閉光線,如果為100代表光線全開\n",
    "        color_temp: 代表光線的溫度,有3個等級 `正常溫度`, `冷溫度` or `溫暖溫度`.\n",
    "\n",
    "    Returns:\n",
    "        詞典物件設定光線亮度和光線溫度.\n",
    "    \"\"\"\n",
    "    print(brightness)\n",
    "    print(color_temp)\n",
    "    return {\n",
    "        \"brightness\":brightness,\n",
    "        \"colorTemperature\":color_temp\n",
    "    }\n",
    "\n",
    "model = genai.GenerativeModel(\n",
    "    model_name='gemini-2.0-flash-exp',\n",
    "    system_instruction='''\n",
    "    1. 如果提出的問題不明確,您無法了解,請再次詢問使用者,並請給予幾個提示範例\n",
    "    2. 如果提供的問題不是呼叫`set_light_value`函式,告訴使用者提供開燈的問題。\n",
    "    ''',\n",
    "    tools=[set_light_value]\n",
    "    )\n",
    "#使用start_chat(),enable_automatic_function_calling=True一定要設才會自動執行\n",
    "chat = model.start_chat(enable_automatic_function_calling=True)\n",
    "response = chat.send_message('請光線調整為60,溫暖的光線')\n",
    "response.text "
   ]
  },
  {
   "cell_type": "markdown",
   "metadata": {},
   "source": [
    "## 下面的範例:\n",
    "- 使用generate_content(),不會自動執行function\n",
    "- 要自已取得function name和args引數值,手動執行function"
   ]
  },
  {
   "cell_type": "code",
   "execution_count": null,
   "metadata": {},
   "outputs": [
    {
     "name": "stdout",
     "output_type": "stream",
     "text": [
      "response:\n",
      "GenerateContentResponse(\n",
      "    done=True,\n",
      "    iterator=None,\n",
      "    result=protos.GenerateContentResponse({\n",
      "      \"candidates\": [\n",
      "        {\n",
      "          \"content\": {\n",
      "            \"parts\": [\n",
      "              {\n",
      "                \"function_call\": {\n",
      "                  \"name\": \"set_light_value\",\n",
      "                  \"args\": {\n",
      "                    \"brightness\": 60.0,\n",
      "                    \"color_temp\": \"\\u6eab\\u6696\\u6eab\\u5ea6\"\n",
      "                  }\n",
      "                }\n",
      "              }\n",
      "            ],\n",
      "            \"role\": \"model\"\n",
      "          },\n",
      "          \"finish_reason\": \"STOP\",\n",
      "          \"safety_ratings\": [\n",
      "            {\n",
      "              \"category\": \"HARM_CATEGORY_HATE_SPEECH\",\n",
      "              \"probability\": \"NEGLIGIBLE\"\n",
      "            },\n",
      "            {\n",
      "              \"category\": \"HARM_CATEGORY_DANGEROUS_CONTENT\",\n",
      "              \"probability\": \"NEGLIGIBLE\"\n",
      "            },\n",
      "            {\n",
      "              \"category\": \"HARM_CATEGORY_HARASSMENT\",\n",
      "              \"probability\": \"NEGLIGIBLE\"\n",
      "            },\n",
      "            {\n",
      "              \"category\": \"HARM_CATEGORY_SEXUALLY_EXPLICIT\",\n",
      "              \"probability\": \"NEGLIGIBLE\"\n",
      "            }\n",
      "          ],\n",
      "          \"avg_logprobs\": -0.004736482165753841\n",
      "        }\n",
      "      ],\n",
      "      \"usage_metadata\": {\n",
      "        \"prompt_token_count\": 222,\n",
      "        \"candidates_token_count\": 12,\n",
      "        \"total_token_count\": 234\n",
      "      }\n",
      "    }),\n",
      ")\n",
      "60.0\n",
      "溫暖溫度\n"
     ]
    }
   ],
   "source": [
    "import os\n",
    "import google.generativeai as genai\n",
    "\n",
    "def set_light_value(brightness:int, color_temp:str)->str:\n",
    "    \"\"\"設定房間的光線亮度和光線溫度 (模擬的API).\n",
    "\n",
    "    Parameters:\n",
    "        brightness: 亮度的等級從0~100,如果為0代表關閉光線,如果為100代表光線全開\n",
    "        color_temp: 代表光線的溫度,有3個等級 `正常溫度`, `冷溫度` or `溫暖溫度`.\n",
    "\n",
    "    Returns:\n",
    "        詞典物件設定光線亮度和光線溫度.\n",
    "    \"\"\"\n",
    "    return {\n",
    "        \"brightness\":brightness,\n",
    "        \"colorTemperature\":color_temp\n",
    "    }\n",
    "\n",
    "model = genai.GenerativeModel(\n",
    "    model_name='gemini-2.0-flash-exp',\n",
    "    system_instruction='''\n",
    "    1. 如果提出的問題不明確,您無法了解,請再次詢問使用者,並請給予幾個提示範例\n",
    "    2. 如果提供的問題不是呼叫`set_light_value`函式,告訴使用者提供開燈的問題。\n",
    "    ''',\n",
    "    tools=[set_light_value]\n",
    "    )\n",
    "response = model.generate_content(\"請光線調整為60,溫暖的光線\")\n",
    "print(response)\n",
    "print(response.candidates[0].content.parts[0].function_call.args['brightness'])\n",
    "print(response.candidates[0].content.parts[0].function_call.args['color_temp'])"
   ]
  }
 ],
 "metadata": {
  "kernelspec": {
   "display_name": "base",
   "language": "python",
   "name": "python3"
  },
  "language_info": {
   "codemirror_mode": {
    "name": "ipython",
    "version": 3
   },
   "file_extension": ".py",
   "mimetype": "text/x-python",
   "name": "python",
   "nbconvert_exporter": "python",
   "pygments_lexer": "ipython3",
   "version": "3.12.2"
  }
 },
 "nbformat": 4,
 "nbformat_minor": 2
}
