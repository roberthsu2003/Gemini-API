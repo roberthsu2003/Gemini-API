{
 "cells": [
  {
   "cell_type": "markdown",
   "metadata": {},
   "source": [
    "### 多個function\n",
    "- 檢查model的內容\n"
   ]
  },
  {
   "cell_type": "code",
   "execution_count": 1,
   "metadata": {},
   "outputs": [
    {
     "data": {
      "text/plain": [
       "genai.GenerativeModel(\n",
       "    model_name='models/gemini-2.0-flash-exp',\n",
       "    generation_config={},\n",
       "    safety_settings={},\n",
       "    tools=<google.generativeai.types.content_types.FunctionLibrary object at 0x7f896c7560>,\n",
       "    system_instruction=None,\n",
       "    cached_content=None\n",
       ")"
      ]
     },
     "execution_count": 1,
     "metadata": {},
     "output_type": "execute_result"
    }
   ],
   "source": [
    "import os\n",
    "import google.generativeai as genai\n",
    "\n",
    "def add(a:float, b:float)->float:\n",
    "    '''\n",
    "    傳出a + b.\n",
    "    '''\n",
    "    return a + b\n",
    "\n",
    "def subtract(a:float, b:float)->float:\n",
    "    '''\n",
    "    傳出a - b.\n",
    "    '''\n",
    "    return a - b\n",
    "\n",
    "def multiply(a:float, b:float) -> float:\n",
    "    '''\n",
    "    傳出a * b.\n",
    "    '''\n",
    "\n",
    "    return a * b\n",
    "\n",
    "def divide(a:float, b:float):\n",
    "    '''\n",
    "    傳出 a / b.\n",
    "    '''\n",
    "\n",
    "    return a / b\n",
    "genai.configure(api_key=os.environ['GEMINI_API_KEY'])\n",
    "model = genai.GenerativeModel(\n",
    "    model_name = 'gemini-2.0-flash-exp',\n",
    "    tools = [add, multiply, divide, subtract]\n",
    ")\n",
    "\n",
    "#檢查model的tools\n",
    "model\n"
   ]
  },
  {
   "cell_type": "markdown",
   "metadata": {},
   "source": [
    "### 使用Automatic function calling"
   ]
  },
  {
   "cell_type": "code",
   "execution_count": 2,
   "metadata": {},
   "outputs": [
    {
     "data": {
      "text/plain": [
       "'There are 2508 mittens in total.\\n'"
      ]
     },
     "execution_count": 2,
     "metadata": {},
     "output_type": "execute_result"
    }
   ],
   "source": [
    "import os\n",
    "import google.generativeai as genai\n",
    "\n",
    "def add(a:float, b:float)->float:\n",
    "    '''\n",
    "    傳出a + b.\n",
    "    '''\n",
    "    return a + b\n",
    "\n",
    "def subtract(a:float, b:float)->float:\n",
    "    '''\n",
    "    傳出a - b.\n",
    "    '''\n",
    "    return a - b\n",
    "\n",
    "def multiply(a:float, b:float) -> float:\n",
    "    '''\n",
    "    傳出a * b.\n",
    "    '''\n",
    "\n",
    "    return a * b\n",
    "\n",
    "def divide(a:float, b:float):\n",
    "    '''\n",
    "    傳出 a / b.\n",
    "    '''\n",
    "\n",
    "    return a / b\n",
    "    \n",
    "genai.configure(api_key=os.environ['GEMINI_API_KEY'])\n",
    "model = genai.GenerativeModel(\n",
    "    model_name = 'gemini-2.0-flash-exp',\n",
    "    tools = [add, multiply, divide, subtract]\n",
    ")\n",
    "\n",
    "chat = model.start_chat(enable_automatic_function_calling=True)\n",
    "\n",
    "response = chat.send_message(\n",
    "    \"I have 57 cats, each owns 44 mittens, how many mittens is that in total?\"\n",
    ")\n",
    "response.text"
   ]
  }
 ],
 "metadata": {
  "kernelspec": {
   "display_name": "base",
   "language": "python",
   "name": "python3"
  },
  "language_info": {
   "codemirror_mode": {
    "name": "ipython",
    "version": 3
   },
   "file_extension": ".py",
   "mimetype": "text/x-python",
   "name": "python",
   "nbconvert_exporter": "python",
   "pygments_lexer": "ipython3",
   "version": "3.12.2"
  }
 },
 "nbformat": 4,
 "nbformat_minor": 2
}
