{
 "cells": [
  {
   "cell_type": "markdown",
   "metadata": {},
   "source": [
    "### ChatSession.history\n",
    "### 透過 ChatSession.history,記錄每一個聊天階段所保留的值\n",
    "- ChatSession.history屬性儲存依時間順序的user記錄和model的記錄\n",
    "- 每一輪的對話儲存於ganai.protos.Content實體內,此實體內的資訊有:\n",
    "\t- Role:代表是user或者是model\n",
    "\t- Parts:genai.protos.Part\n",
    "\t\t- Text:代表純文字訊息\n",
    "\t\t- Function Call(genai.protos.FunctionCall):一個model的請求,有包含要執行的function和參數\n",
    "\t\t- Function Response(genai.protos.FunctionResponse):執行funciton完成後,使用者傳出的結果"
   ]
  },
  {
   "cell_type": "code",
   "execution_count": 1,
   "metadata": {},
   "outputs": [
    {
     "name": "stdout",
     "output_type": "stream",
     "text": [
      "user -> [{'text': 'I have 57 cats, each owns 44 mittens, how many mittens is that in total?'}]\n",
      "--------------------------------------------------------------------------------\n",
      "model -> [{'function_call': {'name': 'multiply', 'args': {'a': 57.0, 'b': 44.0}}}]\n",
      "--------------------------------------------------------------------------------\n",
      "user -> [{'function_response': {'name': 'multiply', 'response': {'result': 2508.0}}}]\n",
      "--------------------------------------------------------------------------------\n",
      "model -> [{'text': 'There are 2508 mittens in total.\\n'}]\n",
      "--------------------------------------------------------------------------------\n"
     ]
    }
   ],
   "source": [
    "import os\n",
    "import google.generativeai as genai\n",
    "\n",
    "def add(a:float, b:float)->float:\n",
    "    '''\n",
    "    傳出a + b.\n",
    "    '''\n",
    "    return a + b\n",
    "\n",
    "def subtract(a:float, b:float)->float:\n",
    "    '''\n",
    "    傳出a - b.\n",
    "    '''\n",
    "    return a - b\n",
    "\n",
    "def multiply(a:float, b:float) -> float:\n",
    "    '''\n",
    "    傳出a * b.\n",
    "    '''\n",
    "\n",
    "    return a * b\n",
    "\n",
    "def divide(a:float, b:float):\n",
    "    '''\n",
    "    傳出 a / b.\n",
    "    '''\n",
    "\n",
    "    return a / b\n",
    "\n",
    "genai.configure(api_key=os.environ['GEMINI_API_KEY'])\n",
    "model = genai.GenerativeModel(\n",
    "    model_name = 'gemini-2.0-flash-exp',\n",
    "    tools = [add, multiply, divide, subtract]\n",
    ")\n",
    "\n",
    "chat = model.start_chat(enable_automatic_function_calling=True)\n",
    "\n",
    "response = chat.send_message(\n",
    "    \"I have 57 cats, each owns 44 mittens, how many mittens is that in total?\"\n",
    ")\n",
    "response.text\n",
    "\n",
    "for content in chat.history:\n",
    "    print(content.role, '->', [type(part).to_dict(part) for part in content.parts])\n",
    "    print(\"-\" * 80)"
   ]
  },
  {
   "cell_type": "markdown",
   "metadata": {},
   "source": [
    "![](./images/pic1.png)"
   ]
  },
  {
   "cell_type": "markdown",
   "metadata": {},
   "source": [
    "> user -> text -> 提問 \n",
    "\n",
    "> model -> function_calling -> 得到funciton名稱和引數值\n",
    "\n",
    "> user -> function_response -> 呼叫該function() (自動呼叫)\n",
    "\n",
    "> model -> text -> 收到function傳回來的值整合至model的輸出"
   ]
  }
 ],
 "metadata": {
  "kernelspec": {
   "display_name": "base",
   "language": "python",
   "name": "python3"
  },
  "language_info": {
   "codemirror_mode": {
    "name": "ipython",
    "version": 3
   },
   "file_extension": ".py",
   "mimetype": "text/x-python",
   "name": "python",
   "nbconvert_exporter": "python",
   "pygments_lexer": "ipython3",
   "version": "3.12.2"
  }
 },
 "nbformat": 4,
 "nbformat_minor": 2
}
