{
 "cells": [
  {
   "cell_type": "code",
   "execution_count": 2,
   "metadata": {},
   "outputs": [
    {
     "data": {
      "text/markdown": [
       "人工智慧 (AI) 旨在讓機器模仿人類的智慧行為，例如學習、解決問題、理解語言和辨識模式。它的運作核心是讓電腦從數據中學習，而不是透過明確的程式指令來完成特定任務。\n",
       "\n",
       "以下是 AI 如何運作的核心原理，可以想像成一個學習的過程：\n",
       "\n",
       "### 1. 數據 (Data)：AI 的「食物」\n",
       "\n",
       "*   **什麼是數據？** AI 系統需要大量的數據來學習。這些數據可以是文字、圖片、聲音、影片、數字表格等。\n",
       "*   **為什麼重要？** 就像人類學習需要經驗一樣，AI 需要數據來發現模式、趨勢和關聯。數據的數量、品質和多樣性直接影響 AI 模型的學習效果和最終表現。\n",
       "*   **例子：** 如果要讓 AI 辨識圖片中的貓，就需要輸入成千上萬張標註了「這是貓」和「這不是貓」的圖片。\n",
       "\n",
       "### 2. 模型與演算法 (Model & Algorithms)：AI 的「大腦」或「規則」\n",
       "\n",
       "*   **什麼是模型？** 模型是 AI 學習到的模式和規則的數學表示。它是一個容器，裡面裝著經過訓練後的參數，這些參數使得模型能夠從輸入數據預測或識別輸出。\n",
       "*   **什麼是演算法？** 演算法是一套明確的指令或步驟，指導模型如何從數據中學習。它是構建和訓練模型的藍圖。\n",
       "*   **常見的學習類型：**\n",
       "    *   **監督式學習 (Supervised Learning)：** 給模型輸入數據和對應的「正確答案」（標籤），讓模型學習兩者之間的映射關係。\n",
       "        *   **例子：** 輸入貓的圖片（數據）和「貓」這個標籤（答案），讓模型學習辨識。\n",
       "    *   **非監督式學習 (Unsupervised Learning)：** 給模型輸入未標籤的數據，讓模型自己去發現數據中隱藏的結構、模式或分組。\n",
       "        *   **例子：** 給模型一堆客戶的購買記錄，讓它自己找出有相似購買行為的客戶群。\n",
       "    *   **強化學習 (Reinforcement Learning)：** 模型在一個環境中透過「試錯」來學習。當它做出正確的行為時會獲得「獎勵」，錯誤時則會受到「懲罰」。模型目標是最大化累積獎勵。\n",
       "        *   **例子：** 訓練一個玩遊戲的 AI，當它得分時給予獎勵，被擊敗時給予懲罰，讓它學會最佳的遊戲策略。\n",
       "    *   **深度學習 (Deep Learning)：** 是機器學習的一個子集，它使用多層次的「人工神經網絡」來處理數據。深度學習特別擅長從非結構化數據（如圖像、語音）中學習複雜的模式，並在許多 AI 任務上取得了突破性的進展。\n",
       "\n",
       "### 3. 訓練階段 (Training Phase)：AI 的「學習」過程\n",
       "\n",
       "*   **怎麼訓練？** 在訓練階段，大量的數據會被輸入到模型中。模型會根據其演算法，不斷調整內部的參數，以期更好地理解數據中的模式，並減少預測錯誤。\n",
       "*   **損失函數 (Loss Function)：** 這是衡量模型預測與真實答案之間差距的指標。訓練的目標就是最小化這個損失值。\n",
       "*   **優化器 (Optimizer)：** 是一種演算法，它會根據損失函數的結果，自動調整模型的參數（就像調整旋鈕一樣），使模型在下次預測時表現更好。\n",
       "*   **疊代 (Iteration)：** 這個數據輸入、計算損失、調整參數的過程會重複進行成千上萬甚至數百萬次，直到模型的性能達到可接受的水平。\n",
       "\n",
       "### 4. 預測/推論階段 (Prediction/Inference Phase)：AI 的「應用」\n",
       "\n",
       "*   **如何應用？** 當模型經過充分訓練後，它就「學會了」如何執行特定任務。這時，你可以給它輸入新的、它從未見過的數據。\n",
       "*   **輸出結果：** 模型會根據其在訓練階段學到的模式和參數，對新的數據做出預測、分類或生成回應。\n",
       "*   **例子：** 給訓練好的貓狗辨識模型一張從未見過的圖片，它會判斷出這是貓還是狗；問一個智能助理問題，它會根據訓練的語料庫生成答案。\n",
       "\n",
       "### 5. 評估與改進 (Evaluation & Improvement)：AI 的「反思」\n",
       "\n",
       "*   **如何評估？** 訓練完成後，會使用獨立的測試數據來評估模型的性能（如準確性、精確度、召回率等）。\n",
       "*   **為什麼改進？** 如果模型表現不佳，可能需要：\n",
       "    *   收集更多或更高質量的數據。\n",
       "    *   調整模型的架構或演算法。\n",
       "    *   更改訓練參數。\n",
       "    *   重新訓練。\n",
       "*   這是一個持續的循環過程，旨在使 AI 系統越來越智能、越來越精準。\n",
       "\n",
       "### 總結\n",
       "\n",
       "AI 的運作是一個持續的循環過程，從**獲取大量數據**開始，透過**選擇和設計合適的模型與演算法**，經過**反覆的訓練**來從數據中學習模式，最終能夠對**新的數據進行預測或決策**，並不斷透過**評估和改進**來提升其性能。這個過程的關鍵在於數據、演算法和強大的計算能力。"
      ],
      "text/plain": [
       "<IPython.core.display.Markdown object>"
      ]
     },
     "metadata": {},
     "output_type": "display_data"
    }
   ],
   "source": [
    "from google import genai\n",
    "import os\n",
    "from IPython.display import display, Markdown, Latex\n",
    "\n",
    "client = genai.Client(api_key=os.environ['GEMINI_API_KEY'])\n",
    "\n",
    "response = client.models.generate_content(\n",
    "    model=\"gemini-2.5-flash\",\n",
    "    contents=\"AI是如何工作的(請使用繁體中文回答)?\"\n",
    ")\n",
    "\n",
    "display(Markdown(response.text))"
   ]
  },
  {
   "cell_type": "code",
   "execution_count": null,
   "metadata": {},
   "outputs": [
    {
     "data": {
      "text/markdown": [
       "您好，我沒有名字。我是一個大型語言模型，由 Google 訓練。"
      ],
      "text/plain": [
       "<IPython.core.display.Markdown object>"
      ]
     },
     "metadata": {},
     "output_type": "display_data"
    }
   ],
   "source": [
    "from google import genai\n",
    "from IPython.display import display, Markdown\n",
    "\n",
    "client = genai.Client()\n",
    "\n",
    "response = client.models.generate_content(\n",
    "    model=\"gemini-2.5-flash\",\n",
    "    contents=\"請問你的姓名(請使用繁體中文回答)?\"\n",
    ")\n",
    "\n",
    "display(Markdown(response.text))"
   ]
  },
  {
   "cell_type": "markdown",
   "metadata": {},
   "source": [
    "- Generate text from text-and-image input "
   ]
  },
  {
   "cell_type": "code",
   "execution_count": 4,
   "metadata": {},
   "outputs": [
    {
     "data": {
      "text/markdown": [
       "根據您提供的圖片，這是一隻 **棕熊 (Brown Bear)**，也常被稱為 **灰熊 (Grizzly Bear)**。\n",
       "\n",
       "以下是關於棕熊的一些資訊：\n",
       "\n",
       "1.  **名稱與分類：**\n",
       "    *   **學名：** *Ursus arctos*\n",
       "    *   **中文名：** 棕熊。在北美洲內陸地區的亞種常被稱為「灰熊」(Grizzly Bear)，因為牠們的毛尖常呈銀灰色，看起來像「灰」色的。在阿拉斯加沿海地區，還有體型更大的亞種，如科迪亞克棕熊。\n",
       "\n",
       "2.  **外觀特徵：**\n",
       "    *   **體型：** 棕熊是陸地上最大的食肉動物之一，體型龐大而強壯。成年雄性比雌性更大。\n",
       "    *   **毛色：** 毛色多變，從淺金色、黃棕色、紅棕色到深棕色，甚至接近黑色。\n",
       "    *   **肩部隆起：** 最顯著的特徵是牠們肩部有一塊非常明顯的肌肉隆起（駝峰），這塊肌肉賦予牠們強大的前肢力量，特別適合挖掘。這也是區分棕熊和黑熊的一個重要標誌（黑熊通常沒有明顯的肩部隆起）。\n",
       "    *   **爪子：** 擁有長而彎曲、不可完全收回的爪子，非常適合挖掘根莖、捕捉魚類或撕裂食物。\n",
       "    *   **面部：** 通常臉部較寬，額頭相對扁平，耳朵較小而圓。\n",
       "\n",
       "3.  **分佈與棲息地：**\n",
       "    *   棕熊是分佈最廣泛的熊科動物，廣泛分佈於北半球，包括北美洲（阿拉斯加、加拿大、美國西北部）、歐洲（部分地區）和亞洲（俄羅斯、中國、日本等）。\n",
       "    *   牠們的棲息地多樣，從森林、山區、苔原到沿海地區都有牠們的身影。\n",
       "\n",
       "4.  **食性：**\n",
       "    *   棕熊是**雜食性**動物，食性非常廣泛且有很強的適應性。\n",
       "    *   **植物：** 主要食物來源是植物，包括漿果、草、根莖、堅果、蘑菇等。\n",
       "    *   **動物：** 也會捕食昆蟲（如螞蟻、幼蟲）、魚類（尤其是在鮭魚洄游的季節，會大量捕食）、小型哺乳動物（如嚙齒動物）、腐肉，偶爾也會捕食大型有蹄類動物的幼崽（如鹿、麋鹿幼崽）。\n",
       "\n",
       "5.  **行為與習性：**\n",
       "    *   **獨居：** 除了母熊與幼崽外，棕熊大多是獨居動物。\n",
       "    *   **冬眠：** 在食物稀缺的寒冷冬季，棕熊會進入冬眠狀態，在洞穴或巢穴中度過。\n",
       "    *   **感官：** 嗅覺極其靈敏，是牠們尋找食物和感知周圍環境的主要方式。聽覺和視覺也較為敏銳。\n",
       "    *   **速度：** 儘管體型龐大，但棕熊奔跑速度非常快，短距離爆發力可達每小時56公里。\n",
       "    *   **性格：** 通常會盡量避開人類，但若受到驚嚇、保衛幼崽或食物時，會變得具有攻擊性，因此在野外遇到棕熊需要保持警惕並遵循安全指南。\n",
       "\n",
       "6.  **保護狀況：**\n",
       "    *   全球範圍內，棕熊的大部分種群被國際自然保護聯盟（IUCN）列為「無危物種」。\n",
       "    *   然而，某些區域性亞種或孤立種群仍然面臨棲息地喪失、人熊衝突和偷獵等威脅，例如在美國本土的灰熊，仍被列為受威脅物種。\n",
       "\n",
       "這隻棕熊看起來非常健康和警惕，可能是正在尋找食物或觀察周圍的環境。"
      ],
      "text/plain": [
       "<IPython.core.display.Markdown object>"
      ]
     },
     "metadata": {},
     "output_type": "display_data"
    }
   ],
   "source": [
    "import PIL.Image\n",
    "from google import genai\n",
    "from IPython.display import display, Markdown\n",
    "\n",
    "client = genai.Client()\n",
    "image = PIL.Image.open('bear.jpg')\n",
    "response = client.models.generate_content(\n",
    "    model=\"gemini-2.5-flash\",\n",
    "    contents=[image, \"請告訴我這是什麼動物,還有關於它的一些資訊\"]\n",
    ")\n",
    "\n",
    "display(Markdown(response.text))"
   ]
  },
  {
   "cell_type": "markdown",
   "metadata": {},
   "source": [
    "- System Instructions and other Configs"
   ]
  },
  {
   "cell_type": "code",
   "execution_count": null,
   "metadata": {},
   "outputs": [],
   "source": [
    "import google.generativeai as genai\n",
    "import os\n",
    "from IPython.display import display, Markdown, Latex\n",
    "\n",
    "genai.configure(api_key=os.environ['GEMINI_API_KEY'])\n",
    "model = genai.GenerativeModel(\"gemini-2.0-flash-exp\")\n",
    "response = model.generate_content(\"AI是如何工作的(請使用繁體中文回答)?\", stream=True)\n",
    "for chunk in response:\n",
    "    print(chunk.text)"
   ]
  },
  {
   "cell_type": "code",
   "execution_count": 25,
   "metadata": {},
   "outputs": [
    {
     "data": {
      "text/markdown": [
       "太棒了！兩隻狗狗一定讓你的家裡充滿歡樂和活力。 你們的狗狗是哪種品種呢？ 他們喜歡做什麼？ 有什麼我可以幫你的嗎？例如：\n",
       "\n",
       "* **分享養狗經驗：** 如果你想分享你們的日常、挑戰或有趣的經驗，我很樂意聽！\n",
       "* **尋找建議：** 如果你有任何關於狗狗的疑問，像是訓練、飲食、健康等等，可以問我。\n",
       "* **想知道更多養狗知識：** 我可以提供你關於不同品種、行為、照顧等相關資訊。\n",
       "\n",
       "期待聽到更多關於你的狗狗的故事！\n"
      ],
      "text/plain": [
       "<IPython.core.display.Markdown object>"
      ]
     },
     "metadata": {},
     "output_type": "display_data"
    },
    {
     "data": {
      "text/markdown": [
       "你有兩隻狗，每隻狗有四隻爪子，所以你家總共有 **8 隻爪子**。\n"
      ],
      "text/plain": [
       "<IPython.core.display.Markdown object>"
      ]
     },
     "metadata": {},
     "output_type": "display_data"
    }
   ],
   "source": [
    "import google.generativeai as genai\n",
    "import os\n",
    "from IPython.display import display, Markdown, Latex\n",
    "\n",
    "genai.configure(api_key=os.environ['GEMINI_API_KEY'])\n",
    "model = genai.GenerativeModel(\"gemini-2.0-flash-exp\")\n",
    "chat = model.start_chat(\n",
    "    history=[\n",
    "        {'role':'user', \"parts\":\"您好\"},\n",
    "        {'role':'model',\"parts\":\"有什麼是您想知道的?\"}\n",
    "    ]\n",
    ")\n",
    "\n",
    "response1 = chat.send_message(\"我有2隻狗在我的房子內\")\n",
    "display(Markdown(response1.text))\n",
    "\n",
    "response2 = chat.send_message('在我家裏有多少爪子?')\n",
    "display(Markdown(response2.text))"
   ]
  },
  {
   "cell_type": "markdown",
   "metadata": {},
   "source": [
    "### 調整Model回應的內容"
   ]
  },
  {
   "cell_type": "code",
   "execution_count": 9,
   "metadata": {},
   "outputs": [
    {
     "data": {
      "text/markdown": [
       "好的，我們來深入了解一下人工智慧（AI）是如何工作的。AI 的運作方式其實相當廣泛，取決於具體使用的技術和應用。不過，我們可以從一些核心概念和常見方法來理解：\n",
       "\n",
       "**1. 核心概念：**\n",
       "\n",
       "* **資料 (Data)：** AI 的基礎是資料。無論是文字、圖像、聲音、數字或其他形式，AI 都需要大量的資料來學習和做出決策。\n",
       "* **演算法"
      ],
      "text/plain": [
       "<IPython.core.display.Markdown object>"
      ]
     },
     "metadata": {},
     "output_type": "display_data"
    }
   ],
   "source": [
    "import google.generativeai as genai\n",
    "import os\n",
    "from IPython.display import display, Markdown, Latex\n",
    "\n",
    "genai.configure(api_key=os.environ['GEMINI_API_KEY'])\n",
    "model = genai.GenerativeModel('gemini-2.0-flash-exp')\n",
    "response = model.generate_content(\n",
    "    \"說明AI如何工作\",\n",
    "    generation_config=genai.GenerationConfig(\n",
    "        temperature=0, # 確定性輸出（無隨機性）\n",
    "        top_p=0.95, # 機率採樣閾值\n",
    "        top_k=20,  #考慮的最高機率詞彙數\n",
    "        candidate_count=1,  # 生成一個回答\n",
    "        max_output_tokens=100, # 最大輸出長度\n",
    "        stop_sequences=[\"STOP!\"], # 停止序列\n",
    "        presence_penalty=0.0, # 控制重複內容的懲罰\n",
    "        frequency_penalty=0.0, # 控制詞頻的懲罰\n",
    "    )\n",
    ")\n",
    "\n",
    "display(Markdown(response.text))\n",
    "\n"
   ]
  },
  {
   "cell_type": "code",
   "execution_count": 12,
   "metadata": {},
   "outputs": [
    {
     "data": {
      "text/markdown": [
       "喵～早安！我很好呀！今天有什麼好玩的嗎？\n"
      ],
      "text/plain": [
       "<IPython.core.display.Markdown object>"
      ]
     },
     "metadata": {},
     "output_type": "display_data"
    }
   ],
   "source": [
    "import google.generativeai as genai\n",
    "import os\n",
    "from IPython.display import display, Markdown, Latex\n",
    "\n",
    "genai.configure(api_key=os.environ['GEMINI_API_KEY'])\n",
    "model = genai.GenerativeModel(\n",
    "    'gemini-2.0-flash-exp',\n",
    "     system_instruction = \"你是一隻貓,你的名字叫Neko.\"\n",
    "    )\n",
    "\n",
    "response = model.generate_content('早安,您好嗎')\n",
    "display(Markdown(response.text))\n"
   ]
  }
 ],
 "metadata": {
  "kernelspec": {
   "display_name": "gemini-api",
   "language": "python",
   "name": "python3"
  },
  "language_info": {
   "codemirror_mode": {
    "name": "ipython",
    "version": 3
   },
   "file_extension": ".py",
   "mimetype": "text/x-python",
   "name": "python",
   "nbconvert_exporter": "python",
   "pygments_lexer": "ipython3",
   "version": "3.11.13"
  }
 },
 "nbformat": 4,
 "nbformat_minor": 2
}
