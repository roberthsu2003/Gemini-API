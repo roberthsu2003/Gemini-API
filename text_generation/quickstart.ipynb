{
 "cells": [
  {
   "cell_type": "code",
   "execution_count": 1,
   "metadata": {},
   "outputs": [
    {
     "data": {
      "text/markdown": [
       "好的，讓我用繁體中文來解釋 AI (人工智慧) 的工作原理：\n",
       "\n",
       "**概括來說，AI 的核心概念是讓電腦模仿人類的智能，包括學習、推理、問題解決和感知等能力。** 這裡我們拆解幾個關鍵部分來說明：\n",
       "\n",
       "**1. 機器學習 (Machine Learning, ML)：**\n",
       "\n",
       "*   **核心概念：** 讓電腦從數據中「學習」模式，而不需要明確地編寫每個步驟。就像人類透過經驗學習一樣，機器透過數據學習。\n",
       "*   **運作方式：**\n",
       "    *   **數據輸入：** 提供大量的數據給電腦。這些數據可以是文字、圖片、聲音，甚至是數字。\n",
       "    *   **演算法選擇：** 選擇適合數據和任務的學習演算法。常見的演算法包括：\n",
       "        *   **監督式學習：** 讓電腦從帶有標籤的數據中學習，例如給電腦看很多貓的照片並標記為「貓」，讓電腦學會辨識貓。\n",
       "        *   **非監督式學習：** 讓電腦從沒有標籤的數據中學習，例如讓電腦分析顧客的購買紀錄，找出相似的顧客群。\n",
       "        *   **增強式學習：** 讓電腦透過不斷嘗試和錯誤，並根據回饋來學習，例如訓練機器人玩遊戲。\n",
       "    *   **模型訓練：** 透過演算法，電腦從數據中不斷調整內部參數 (如同學東西時不斷修正觀念)，形成一個「模型」。\n",
       "    *   **模型評估：** 使用新的數據來測試訓練好的模型，確保模型能準確預測或解決問題。\n",
       "*   **應用：** 垃圾郵件過濾、語音辨識、圖像辨識、推薦系統、醫療診斷等。\n",
       "\n",
       "**2. 深度學習 (Deep Learning, DL)：**\n",
       "\n",
       "*   **核心概念：** 一種特殊的機器學習方法，使用多層人工神經網路來學習複雜的模式。\n",
       "*   **運作方式：**\n",
       "    *   **人工神經網路：** 模擬人腦神經網路的結構，包含多層互相連接的節點 (類似神經元)。\n",
       "    *   **層次化學習：** 每一層神經網路學習不同的抽象特徵。例如在圖像辨識中，第一層可能學習邊緣，第二層學習形狀，最後一層學習物體。\n",
       "    *   **大量數據需求：** 深度學習通常需要大量的數據才能達到良好的效果。\n",
       "*   **應用：** 更精確的語音辨識、更細膩的圖像辨識、自然語言處理、機器翻譯等。\n",
       "\n",
       "**3. 自然語言處理 (Natural Language Processing, NLP)：**\n",
       "\n",
       "*   **核心概念：** 讓電腦理解和處理人類語言的能力。\n",
       "*   **運作方式：**\n",
       "    *   **文本分析：** 將文字分解成詞彙、語法結構等，讓電腦能「讀懂」文字的含義。\n",
       "    *   **語義理解：** 分析文字的上下文和語氣，理解其背後的含義。\n",
       "    *   **文本生成：** 讓電腦產生自然流暢的文字。\n",
       "*   **應用：** 聊天機器人、語音助手、機器翻譯、情感分析、文本摘要等。\n",
       "\n",
       "**4. 其他關鍵概念：**\n",
       "\n",
       "*   **推理與決策：** 讓電腦根據已有的知識和規則，進行邏輯推理和決策。\n",
       "*   **感知能力：** 讓電腦能夠從感測器 (例如攝影機、麥克風) 收集數據，並理解環境。\n",
       "\n",
       "**總結:**\n",
       "\n",
       "AI 的工作原理是結合了各種技術，讓電腦能夠學習、理解、推理和感知，就像人類一樣。機器學習是 AI 的核心，深度學習是機器學習的進階版本，自然語言處理則讓電腦能與人類進行溝通。\n",
       "\n",
       "**需要注意的是，AI 並非萬能，它的能力取決於數據的質量、演算法的選擇以及電腦的計算能力。同時，AI 的發展也帶來一些倫理和社會的議題，需要我們持續關注和討論。**\n",
       "\n",
       "希望以上的解釋對您有所幫助！如果還有其他問題，歡迎繼續提問。\n"
      ],
      "text/plain": [
       "<IPython.core.display.Markdown object>"
      ]
     },
     "metadata": {},
     "output_type": "display_data"
    }
   ],
   "source": [
    "import google.generativeai as genai\n",
    "import os\n",
    "from IPython.display import display, Markdown, Latex\n",
    "\n",
    "genai.configure(api_key=os.environ['GEMINI_API_KEY'])\n",
    "\n",
    "model = genai.GenerativeModel(\"gemini-2.0-flash-exp\")\n",
    "response = model.generate_content(\"AI是如何工作的(請使用繁體中文回答)?\")\n",
    "display(Markdown(response.text))"
   ]
  },
  {
   "cell_type": "code",
   "execution_count": null,
   "metadata": {},
   "outputs": [],
   "source": [
    "import google.generativeai as genai\n",
    "import os\n",
    "from IPython.display import display, Markdown, Latex\n",
    "\n",
    "genai.configure(api_key=os.environ['GEMINI_API_KEY'])\n",
    "\n",
    "model = genai.GenerativeModel(\"gemini-2.0-flash-exp\")\n",
    "response = model.generate_content(\"請問你的姓名(請使用繁體中文回答)?\")\n",
    "display(Markdown(response.text))"
   ]
  },
  {
   "cell_type": "markdown",
   "metadata": {},
   "source": [
    "- Generate text from text-and-image input "
   ]
  },
  {
   "cell_type": "code",
   "execution_count": 20,
   "metadata": {},
   "outputs": [
    {
     "data": {
      "text/markdown": [
       "好的，這張圖片顯示的是一隻**棕熊**。\n",
       "\n",
       "以下是一些關於棕熊的資訊：\n",
       "\n",
       "**基本資訊：**\n",
       "\n",
       "*   **學名：** *Ursus arctos*\n",
       "*   **體型：** 棕熊是陸地上體型最大的食肉動物之一。牠們的體型會根據亞種、棲息地和食物供應而有所不同。一般來說，雄性比雌性大。\n",
       "*   **體重：** 體重範圍很大，從130公斤到700公斤以上都有可能。\n",
       "*   **體長：** 一般體長從1.7米到2.8米不等。\n",
       "*   **肩高：** 約0.9米到1.5米高。\n",
       "*   **外觀：** 牠們有厚厚的皮毛，顏色從淺棕色到深棕色甚至黑色都有。牠們有一個隆起的肩膀肌肉，這給了牠們強大的前肢力量。\n",
       "*   **壽命：** 在野外，棕熊的平均壽命約為20-30年。在人工飼養的環境下，壽命可能更長。\n",
       "\n",
       "**生活習性：**\n",
       "\n",
       "*   **棲息地：** 棕熊廣泛分布於北美洲、歐洲和亞洲，牠們偏好森林、山區、草地和沿海地區。\n",
       "*   **食性：** 牠們是雜食性動物，食物包括植物（如漿果、根莖）、昆蟲、魚、小型哺乳動物，有時也會捕食大型動物或食腐肉。\n",
       "*   **活動：** 大部分是獨居動物，除了母熊帶小熊之外。牠們通常在清晨或黃昏時活動。\n",
       "*   **冬眠：** 在冬季，棕熊會進入冬眠狀態，牠們會找一個隱蔽的地方，降低代謝率，以度過寒冷的季節。\n",
       "*   **溝通：** 牠們會透過嗅覺、聲音和肢體語言來溝通。\n",
       "\n",
       "**亞種：**\n",
       "\n",
       "棕熊有很多亞種，其中比較知名的包括：\n",
       "\n",
       "*   **灰熊 (Grizzly Bear):** 北美洲的棕熊，通常體型較大，毛色偏灰。\n",
       "*   **科迪亞克熊 (Kodiak Bear):** 棲息於阿拉斯加科迪亞克群島，是體型最大的棕熊亞種。\n",
       "*   **歐洲棕熊 (Eurasian Brown Bear):** 分布於歐洲和亞洲，體型和毛色多樣。\n",
       "\n",
       "**其他資訊：**\n",
       "\n",
       "*   **保護狀況：** 在某些地區，棕熊的數量因棲息地喪失和人類活動而受到威脅。牠們在一些地方被列為保護動物。\n",
       "*   **與人類的互動：** 雖然棕熊通常避免與人類接觸，但如果受到威脅或為了保護幼崽，牠們可能會攻擊人類。在棕熊棲息地，必須採取安全措施，如在野外攜帶防熊噴霧，並且妥善處理食物。\n",
       "\n",
       "希望這些資訊對您有所幫助！如果您還有其他關於棕熊或其他動物的問題，請隨時提出。"
      ],
      "text/plain": [
       "<IPython.core.display.Markdown object>"
      ]
     },
     "metadata": {},
     "output_type": "display_data"
    }
   ],
   "source": [
    "import PIL.Image\n",
    "import google.generativeai as genai\n",
    "import os\n",
    "from IPython.display import display, Markdown, Latex\n",
    "import PIL\n",
    "\n",
    "genai.configure(api_key=os.environ['GEMINI_API_KEY'])\n",
    "\n",
    "model = genai.GenerativeModel(\"gemini-2.0-flash-exp\")\n",
    "bear = PIL.Image.open('bear.jpg')\n",
    "response = model.generate_content(['請告訴我這是什麼動物,還有關於它的一些資訊',bear])\n",
    "display(Markdown(response.text))"
   ]
  },
  {
   "cell_type": "markdown",
   "metadata": {},
   "source": [
    "- System Instructions and other Configs"
   ]
  },
  {
   "cell_type": "code",
   "execution_count": null,
   "metadata": {},
   "outputs": [],
   "source": [
    "import google.generativeai as genai\n",
    "import os\n",
    "from IPython.display import display, Markdown, Latex\n",
    "\n",
    "genai.configure(api_key=os.environ['GEMINI_API_KEY'])\n",
    "model = genai.GenerativeModel(\"gemini-2.0-flash-exp\")\n",
    "response = model.generate_content(\"AI是如何工作的(請使用繁體中文回答)?\", stream=True)\n",
    "for chunk in response:\n",
    "    print(chunk.text)"
   ]
  },
  {
   "cell_type": "code",
   "execution_count": 25,
   "metadata": {},
   "outputs": [
    {
     "data": {
      "text/markdown": [
       "太棒了！兩隻狗狗一定讓你的家裡充滿歡樂和活力。 你們的狗狗是哪種品種呢？ 他們喜歡做什麼？ 有什麼我可以幫你的嗎？例如：\n",
       "\n",
       "* **分享養狗經驗：** 如果你想分享你們的日常、挑戰或有趣的經驗，我很樂意聽！\n",
       "* **尋找建議：** 如果你有任何關於狗狗的疑問，像是訓練、飲食、健康等等，可以問我。\n",
       "* **想知道更多養狗知識：** 我可以提供你關於不同品種、行為、照顧等相關資訊。\n",
       "\n",
       "期待聽到更多關於你的狗狗的故事！\n"
      ],
      "text/plain": [
       "<IPython.core.display.Markdown object>"
      ]
     },
     "metadata": {},
     "output_type": "display_data"
    },
    {
     "data": {
      "text/markdown": [
       "你有兩隻狗，每隻狗有四隻爪子，所以你家總共有 **8 隻爪子**。\n"
      ],
      "text/plain": [
       "<IPython.core.display.Markdown object>"
      ]
     },
     "metadata": {},
     "output_type": "display_data"
    }
   ],
   "source": [
    "import google.generativeai as genai\n",
    "import os\n",
    "from IPython.display import display, Markdown, Latex\n",
    "\n",
    "genai.configure(api_key=os.environ['GEMINI_API_KEY'])\n",
    "model = genai.GenerativeModel(\"gemini-2.0-flash-exp\")\n",
    "chat = model.start_chat(\n",
    "    history=[\n",
    "        {'role':'user', \"parts\":\"您好\"},\n",
    "        {'role':'model',\"parts\":\"有什麼是您想知道的?\"}\n",
    "    ]\n",
    ")\n",
    "\n",
    "response1 = chat.send_message(\"我有2隻狗在我的房子內\")\n",
    "display(Markdown(response1.text))\n",
    "\n",
    "response2 = chat.send_message('在我家裏有多少爪子?')\n",
    "display(Markdown(response2.text))"
   ]
  },
  {
   "cell_type": "markdown",
   "metadata": {},
   "source": [
    "### 調整Model回應的內容"
   ]
  },
  {
   "cell_type": "code",
   "execution_count": 9,
   "metadata": {},
   "outputs": [
    {
     "data": {
      "text/markdown": [
       "好的，我們來深入了解一下人工智慧（AI）是如何工作的。AI 的運作方式其實相當廣泛，取決於具體使用的技術和應用。不過，我們可以從一些核心概念和常見方法來理解：\n",
       "\n",
       "**1. 核心概念：**\n",
       "\n",
       "* **資料 (Data)：** AI 的基礎是資料。無論是文字、圖像、聲音、數字或其他形式，AI 都需要大量的資料來學習和做出決策。\n",
       "* **演算法"
      ],
      "text/plain": [
       "<IPython.core.display.Markdown object>"
      ]
     },
     "metadata": {},
     "output_type": "display_data"
    }
   ],
   "source": [
    "import google.generativeai as genai\n",
    "import os\n",
    "from IPython.display import display, Markdown, Latex\n",
    "\n",
    "genai.configure(api_key=os.environ['GEMINI_API_KEY'])\n",
    "model = genai.GenerativeModel('gemini-2.0-flash-exp')\n",
    "response = model.generate_content(\n",
    "    \"說明AI如何工作\",\n",
    "    generation_config=genai.GenerationConfig(\n",
    "        temperature=0, # 確定性輸出（無隨機性）\n",
    "        top_p=0.95, # 機率採樣閾值\n",
    "        top_k=20,  #考慮的最高機率詞彙數\n",
    "        candidate_count=1,  # 生成一個回答\n",
    "        max_output_tokens=100, # 最大輸出長度\n",
    "        stop_sequences=[\"STOP!\"], # 停止序列\n",
    "        presence_penalty=0.0, # 控制重複內容的懲罰\n",
    "        frequency_penalty=0.0, # 控制詞頻的懲罰\n",
    "    )\n",
    ")\n",
    "\n",
    "display(Markdown(response.text))\n",
    "\n"
   ]
  },
  {
   "cell_type": "code",
   "execution_count": 12,
   "metadata": {},
   "outputs": [
    {
     "data": {
      "text/markdown": [
       "喵～早安！我很好呀！今天有什麼好玩的嗎？\n"
      ],
      "text/plain": [
       "<IPython.core.display.Markdown object>"
      ]
     },
     "metadata": {},
     "output_type": "display_data"
    }
   ],
   "source": [
    "import google.generativeai as genai\n",
    "import os\n",
    "from IPython.display import display, Markdown, Latex\n",
    "\n",
    "genai.configure(api_key=os.environ['GEMINI_API_KEY'])\n",
    "model = genai.GenerativeModel(\n",
    "    'gemini-2.0-flash-exp',\n",
    "     system_instruction = \"你是一隻貓,你的名字叫Neko.\"\n",
    "    )\n",
    "\n",
    "response = model.generate_content('早安,您好嗎')\n",
    "display(Markdown(response.text))\n"
   ]
  }
 ],
 "metadata": {
  "kernelspec": {
   "display_name": "base",
   "language": "python",
   "name": "python3"
  },
  "language_info": {
   "codemirror_mode": {
    "name": "ipython",
    "version": 3
   },
   "file_extension": ".py",
   "mimetype": "text/x-python",
   "name": "python",
   "nbconvert_exporter": "python",
   "pygments_lexer": "ipython3",
   "version": "3.12.2"
  }
 },
 "nbformat": 4,
 "nbformat_minor": 2
}
