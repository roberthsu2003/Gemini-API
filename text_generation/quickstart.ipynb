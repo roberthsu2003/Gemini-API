{
 "cells": [
  {
   "cell_type": "code",
   "execution_count": 2,
   "metadata": {},
   "outputs": [
    {
     "data": {
      "text/markdown": [
       "人工智慧 (AI) 旨在讓機器模仿人類的智慧行為，例如學習、解決問題、理解語言和辨識模式。它的運作核心是讓電腦從數據中學習，而不是透過明確的程式指令來完成特定任務。\n",
       "\n",
       "以下是 AI 如何運作的核心原理，可以想像成一個學習的過程：\n",
       "\n",
       "### 1. 數據 (Data)：AI 的「食物」\n",
       "\n",
       "*   **什麼是數據？** AI 系統需要大量的數據來學習。這些數據可以是文字、圖片、聲音、影片、數字表格等。\n",
       "*   **為什麼重要？** 就像人類學習需要經驗一樣，AI 需要數據來發現模式、趨勢和關聯。數據的數量、品質和多樣性直接影響 AI 模型的學習效果和最終表現。\n",
       "*   **例子：** 如果要讓 AI 辨識圖片中的貓，就需要輸入成千上萬張標註了「這是貓」和「這不是貓」的圖片。\n",
       "\n",
       "### 2. 模型與演算法 (Model & Algorithms)：AI 的「大腦」或「規則」\n",
       "\n",
       "*   **什麼是模型？** 模型是 AI 學習到的模式和規則的數學表示。它是一個容器，裡面裝著經過訓練後的參數，這些參數使得模型能夠從輸入數據預測或識別輸出。\n",
       "*   **什麼是演算法？** 演算法是一套明確的指令或步驟，指導模型如何從數據中學習。它是構建和訓練模型的藍圖。\n",
       "*   **常見的學習類型：**\n",
       "    *   **監督式學習 (Supervised Learning)：** 給模型輸入數據和對應的「正確答案」（標籤），讓模型學習兩者之間的映射關係。\n",
       "        *   **例子：** 輸入貓的圖片（數據）和「貓」這個標籤（答案），讓模型學習辨識。\n",
       "    *   **非監督式學習 (Unsupervised Learning)：** 給模型輸入未標籤的數據，讓模型自己去發現數據中隱藏的結構、模式或分組。\n",
       "        *   **例子：** 給模型一堆客戶的購買記錄，讓它自己找出有相似購買行為的客戶群。\n",
       "    *   **強化學習 (Reinforcement Learning)：** 模型在一個環境中透過「試錯」來學習。當它做出正確的行為時會獲得「獎勵」，錯誤時則會受到「懲罰」。模型目標是最大化累積獎勵。\n",
       "        *   **例子：** 訓練一個玩遊戲的 AI，當它得分時給予獎勵，被擊敗時給予懲罰，讓它學會最佳的遊戲策略。\n",
       "    *   **深度學習 (Deep Learning)：** 是機器學習的一個子集，它使用多層次的「人工神經網絡」來處理數據。深度學習特別擅長從非結構化數據（如圖像、語音）中學習複雜的模式，並在許多 AI 任務上取得了突破性的進展。\n",
       "\n",
       "### 3. 訓練階段 (Training Phase)：AI 的「學習」過程\n",
       "\n",
       "*   **怎麼訓練？** 在訓練階段，大量的數據會被輸入到模型中。模型會根據其演算法，不斷調整內部的參數，以期更好地理解數據中的模式，並減少預測錯誤。\n",
       "*   **損失函數 (Loss Function)：** 這是衡量模型預測與真實答案之間差距的指標。訓練的目標就是最小化這個損失值。\n",
       "*   **優化器 (Optimizer)：** 是一種演算法，它會根據損失函數的結果，自動調整模型的參數（就像調整旋鈕一樣），使模型在下次預測時表現更好。\n",
       "*   **疊代 (Iteration)：** 這個數據輸入、計算損失、調整參數的過程會重複進行成千上萬甚至數百萬次，直到模型的性能達到可接受的水平。\n",
       "\n",
       "### 4. 預測/推論階段 (Prediction/Inference Phase)：AI 的「應用」\n",
       "\n",
       "*   **如何應用？** 當模型經過充分訓練後，它就「學會了」如何執行特定任務。這時，你可以給它輸入新的、它從未見過的數據。\n",
       "*   **輸出結果：** 模型會根據其在訓練階段學到的模式和參數，對新的數據做出預測、分類或生成回應。\n",
       "*   **例子：** 給訓練好的貓狗辨識模型一張從未見過的圖片，它會判斷出這是貓還是狗；問一個智能助理問題，它會根據訓練的語料庫生成答案。\n",
       "\n",
       "### 5. 評估與改進 (Evaluation & Improvement)：AI 的「反思」\n",
       "\n",
       "*   **如何評估？** 訓練完成後，會使用獨立的測試數據來評估模型的性能（如準確性、精確度、召回率等）。\n",
       "*   **為什麼改進？** 如果模型表現不佳，可能需要：\n",
       "    *   收集更多或更高質量的數據。\n",
       "    *   調整模型的架構或演算法。\n",
       "    *   更改訓練參數。\n",
       "    *   重新訓練。\n",
       "*   這是一個持續的循環過程，旨在使 AI 系統越來越智能、越來越精準。\n",
       "\n",
       "### 總結\n",
       "\n",
       "AI 的運作是一個持續的循環過程，從**獲取大量數據**開始，透過**選擇和設計合適的模型與演算法**，經過**反覆的訓練**來從數據中學習模式，最終能夠對**新的數據進行預測或決策**，並不斷透過**評估和改進**來提升其性能。這個過程的關鍵在於數據、演算法和強大的計算能力。"
      ],
      "text/plain": [
       "<IPython.core.display.Markdown object>"
      ]
     },
     "metadata": {},
     "output_type": "display_data"
    }
   ],
   "source": [
    "from google import genai\n",
    "import os\n",
    "from IPython.display import display, Markdown, Latex\n",
    "\n",
    "client = genai.Client(api_key=os.environ['GEMINI_API_KEY'])\n",
    "\n",
    "response = client.models.generate_content(\n",
    "    model=\"gemini-2.5-flash\",\n",
    "    contents=\"AI是如何工作的(請使用繁體中文回答)?\"\n",
    ")\n",
    "\n",
    "display(Markdown(response.text))"
   ]
  },
  {
   "cell_type": "code",
   "execution_count": 1,
   "metadata": {},
   "outputs": [
    {
     "data": {
      "text/markdown": [
       "我沒有姓名。我是一個大型語言模型。"
      ],
      "text/plain": [
       "<IPython.core.display.Markdown object>"
      ]
     },
     "metadata": {},
     "output_type": "display_data"
    }
   ],
   "source": [
    "from google import genai\n",
    "from IPython.display import display, Markdown\n",
    "\n",
    "client = genai.Client()\n",
    "\n",
    "response = client.models.generate_content(\n",
    "    model=\"gemini-2.5-flash\",\n",
    "    contents=\"請問你的姓名(請使用繁體中文回答)?\"\n",
    ")\n",
    "\n",
    "display(Markdown(response.text))"
   ]
  },
  {
   "cell_type": "markdown",
   "metadata": {},
   "source": [
    "- Generate text from text-and-image input "
   ]
  },
  {
   "cell_type": "code",
   "execution_count": 2,
   "metadata": {},
   "outputs": [
    {
     "data": {
      "text/markdown": [
       "這是一種**棕熊 (Brown Bear)**，更具體地說，從其明顯的肩部隆起（駝峰）判斷，很可能是北美洲的**灰熊 (Grizzly Bear)**。\n",
       "\n",
       "**關於棕熊/灰熊的一些資訊：**\n",
       "\n",
       "1.  **分類與名稱：**\n",
       "    *   棕熊是食肉目熊科的動物，學名為 *Ursus arctos*。\n",
       "    *   灰熊是棕熊的一個亞種，主要分佈在北美洲的西部地區，因其背部毛髮常有銀灰色尖端，看起來像「灰白」的，故名「Grizzly」（意為灰白的）。\n",
       "\n",
       "2.  **體型特徵：**\n",
       "    *   **體型龐大：** 棕熊是陸地上體型最大的食肉動物之一，成年雄性體重可達數百公斤，身高在站立時可達2米以上。\n",
       "    *   **顏色：** 毛色多變，從淺黃色、金棕色到深棕色甚至近黑色都有，取決於地理位置和個體差異。\n",
       "    *   **肩部駝峰：** 最明顯的識別特徵之一，這是由強壯的肌肉構成，用於牠們強大的挖掘能力。\n",
       "    *   **臉部：** 通常呈凹陷狀，鼻樑較長。\n",
       "    *   **爪子：** 爪子長而彎曲，不具收縮性，非常適合挖掘根莖、捕捉獵物和爬樹（雖然成年大熊爬樹能力不如幼熊）。\n",
       "\n",
       "3.  **分佈與棲息地：**\n",
       "    *   棕熊是地球上分佈最廣泛的熊科動物，遍布北美洲（如加拿大、阿拉斯加、美國西部）、歐洲（如俄羅斯、斯堪的納維亞半島）和亞洲（如西伯利亞、中國、日本）。\n",
       "    *   牠們的棲息地多樣，包括森林、山區、苔原、沿海地區和高山草甸。\n",
       "\n",
       "4.  **食性：**\n",
       "    *   棕熊是**雜食性動物**，食物來源非常廣泛且有季節性變化。\n",
       "    *   **植物性食物：** 包括漿果、堅果、根莖、蘑菇、青草和各種植物的嫩芽。\n",
       "    *   **動物性食物：** 牠們會捕食魚類（特別是鮭魚洄游時）、昆蟲（如螞蟻、甲蟲幼蟲）、小型哺乳動物（如地鼠、松鼠），也會吃腐肉，甚至捕食大型有蹄類動物（如鹿、駝鹿）的幼崽或病弱個體。\n",
       "\n",
       "5.  **行為特徵：**\n",
       "    *   **獨居：** 棕熊通常是獨居動物，除了繁殖季節或雌性帶幼崽時。\n",
       "    *   **冬眠：** 在食物匱乏的冬季，棕熊會進入洞穴進行冬眠，這期間牠們不吃不喝，依靠體內儲存的脂肪維持生命。\n",
       "    *   **感官：** 嗅覺極其靈敏，是牠們尋找食物和感知環境的主要方式；聽覺也很好，但視力相對較弱。\n",
       "    *   **活動時間：** 通常在清晨和黃昏時分最為活躍。\n",
       "\n",
       "6.  **與人類的關係及保護：**\n",
       "    *   雖然棕熊通常會避開人類，但如果受到驚嚇、被挑釁，或者雌性棕熊為了保護幼崽，牠們會變得非常危險。因此，在棕熊出沒的地區，保持安全距離和遵守安全規範非常重要。\n",
       "    *   儘管全球範圍內棕熊的數量相對穩定，但在某些地區（特別是人口密集區），由於棲息地喪失、人類活動的侵擾以及非法狩獵，牠們的數量正在減少，面臨保護挑戰。許多國家和地區都對棕熊實施了保護措施。"
      ],
      "text/plain": [
       "<IPython.core.display.Markdown object>"
      ]
     },
     "metadata": {},
     "output_type": "display_data"
    }
   ],
   "source": [
    "import PIL.Image\n",
    "from google import genai\n",
    "from IPython.display import display, Markdown\n",
    "\n",
    "client = genai.Client()\n",
    "image = PIL.Image.open('bear.jpg')\n",
    "response = client.models.generate_content(\n",
    "    model=\"gemini-2.5-flash\",\n",
    "    contents=[image, \"請告訴我這是什麼動物,還有關於它的一些資訊\"]\n",
    ")\n",
    "\n",
    "display(Markdown(response.text))"
   ]
  },
  {
   "cell_type": "markdown",
   "metadata": {},
   "source": [
    "### 串流回應\n",
    "- System Instructions and other Configs"
   ]
  },
  {
   "cell_type": "code",
   "execution_count": null,
   "metadata": {},
   "outputs": [
    {
     "name": "stdout",
     "output_type": "stream",
     "text": [
      "人工智慧 (AI) 的核心目標是讓機器能夠模仿、甚至超越人類的認知能力，例如學習、推理、問題解決、感知和理解語言等。它並不是一個單一的「大腦」，而是一系列演算法\n",
      "和技術的集合。\n",
      "\n",
      "以下是 AI 工作的基本原理和步驟：\n",
      "\n",
      "### AI 的基本工作原理\n",
      "\n",
      "AI 的運作方式可以概括為：**「從大量數據中學習模式和規律，然後利用這些學到的\n",
      "知識來對新數據進行預測、分類、生成或決策。」**\n",
      "\n",
      "想像一個小孩學習辨識「貓」。父母給他看成千上萬張貓的照片（數據），每次他指錯了，父母\n",
      "會糾正他（計算誤差），然後他會調整對「貓」的認知（調整參數），直到他能準確地辨識出所有新的貓咪（推論）。AI 的工作方式與此類似。\n",
      "\n",
      "\n",
      "### AI 工作的關鍵步驟\n",
      "\n",
      "#### 1. 數據收集與準備 (Data Collection & Preparation)\n",
      "\n",
      "*   **數據是燃料：** AI 的學習始於「數據」。就像人類需要經驗一樣，AI 需要大量的數據\n",
      "來學習模式和規律。這些數據可以是文字、圖片、聲音、數字、感測器讀數等。\n",
      "*   **數據標註：** 對於許多AI任務（特別是「監督式學習」），這些\n",
      "數據還需要被「標註」（labelled）。例如，在圖像識別任務中，你需要告訴AI這張圖片裡有「貓」，那張圖片裡有「狗」。數據的品質和數量直接影響 AI 的學習效果\n",
      "。\n",
      "*   **數據清洗：** 移除錯誤、重複或不完整的數據，確保數據的準確性和一致性。\n",
      "\n",
      "#### 2. 模型訓練 (Model Training)\n",
      "\n",
      "這是 AI 學習的核心階段。\n",
      "\n",
      "*   **\n",
      "選擇模型與演算法：** 根據任務類型（例如：分類、預測、生成、聚類等），選擇合適的演算法和模型架構。常見的有：\n",
      "    *   **機器學習 (Machine Learning,\n",
      " ML)：** 這是 AI 的核心分支，讓機器能夠從數據中學習而不需要被明確地編程。\n",
      "        *   **監督式學習 (Supervised Learning)：** 給定帶有標籤的輸入數據和\n",
      "對應的輸出數據，模型從中學習映射關係。例如，給予圖片和「是貓/不是貓」的標籤，模型學習辨識貓。\n",
      "        *   **非監督式學習 (Unsupervised Learning)：\n",
      "** 給定沒有標籤的數據，模型自行找出數據中的隱藏結構或模式。例如，將顧客分組。\n",
      "        *   **強化學習 (Reinforcement Learning)：** 模型透過與環境互動，根據行動\n",
      "的「獎勵」或「懲罰」來學習最佳策略。例如，讓 AI 玩遊戲。\n",
      "    *   **深度學習 (Deep Learning, DL)：** 機器學習的一個子集，使用多層次的\n",
      "**神經網路**（模仿人腦結構）來處理數據。它在圖像識別、語音識別和自然語言處理等複雜任務中表現出色。\n",
      "\n",
      "*   **學習過程：**\n",
      "    1.  **輸入\n",
      "數據：** 模型會「吃進」大量的訓練數據。\n",
      "    2.  **做出預測：** 它會根據其當前的「理解」（即內部的參數設定）對這些數據做出預測或判斷\n",
      "。\n",
      "    3.  **計算誤差（損失函數）：** 模型的預測結果會與真實的標註數據進行比較，計算出兩者之間的「誤差」或「損失」（Loss）。這個誤差值代表了模型表現\n",
      "的好壞。\n",
      "    4.  **調整參數（最佳化）：** 這是關鍵步驟。AI 模型會使用最佳化技術（如**梯度下降法**）來微調其內部的「參數」（Weights 和 Bi\n",
      "ases）。目標是**減少下一次預測時的誤差**。這個過程會反覆進行數百萬次，直到模型的性能（例如準確度）達到可接受的水平。\n",
      "\n",
      "#### 3. 模型評估與\n",
      "調整 (Model Evaluation & Refinement)\n",
      "\n",
      "*   **評估性能：** 在訓練完成後，會使用一部分獨立的「測試數據」來評估模型的性能。這些數據是模型從未見過的，用來檢\n",
      "驗模型是否真正學會了泛化（Generalization），而不僅僅是記住了訓練數據。\n",
      "*   **超參數調整：** 根據評估結果，可能需要調整模型的「超參數」（Hyperparameters，\n",
      "例如學習率、網路層數、神經元數量等），然後重新訓練，直到達到滿意的效果。\n",
      "\n",
      "#### 4. 推論與應用 (Inference & Application)\n",
      "\n",
      "*   **實戰應用：** 一\n",
      "旦模型完成訓練並通過評估，它就被認為是「學成了」。這時，當遇到從未見過的新數據時，模型會利用它在訓練階段學習到的知識和模式，對新數據進行「推\n",
      "論」（Inference），並做出預測、分類或生成相應的結果。\n",
      "*   **範例：**\n",
      "    *   一個訓練好的圖像識別模型可以識別新照片中的物體。\n",
      "    *   \n",
      "一個語言模型可以理解你的語音指令並生成文字。\n",
      "    *   一個推薦系統可以根據你的觀看歷史推薦新的電影。\n",
      "\n",
      "### 總結\n",
      "\n",
      "AI 的工作方式可以視為一個不斷迭代和最佳化的\n",
      "過程。它從數據中學習，透過試錯（誤差計算和參數調整）來改進自己，最終能夠像人類一樣，甚至比人類更快、更精準地完成特定任務。這個過程的效率和準確性\n",
      "，很大程度上取決於數據的品質、演算法的選擇和計算資源的投入。\n"
     ]
    }
   ],
   "source": [
    "from google import genai\n",
    "\n",
    "client = genai.Client()\n",
    "response = client.models.generate_content_stream(\n",
    "    model=\"gemini-2.5-flash\",\n",
    "    contents=[\"AI是如何工作的(請使用繁體中文回答)?\"]\n",
    ")\n",
    "for chunk in response:\n",
    "    print(chunk.text)"
   ]
  },
  {
   "cell_type": "code",
   "execution_count": 9,
   "metadata": {},
   "outputs": [
    {
     "data": {
      "text/markdown": [
       "好的，您家裡有兩隻狗！那一定很熱鬧，也帶來很多歡樂吧。\n",
       "\n",
       "您有什麼關於牠們的問題，或是想分享的趣事嗎？"
      ],
      "text/plain": [
       "<IPython.core.display.Markdown object>"
      ]
     },
     "metadata": {},
     "output_type": "display_data"
    },
    {
     "data": {
      "text/markdown": [
       "好的，既然您有兩隻狗，而且每隻狗通常有4隻爪子，那麼您家裡總共有：\n",
       "\n",
       "**2 隻狗 x 4 隻爪子/狗 = 8 隻爪子**\n",
       "\n",
       "所以您家裡有 **8隻爪子**！這聽起來像是個熱鬧的家！"
      ],
      "text/plain": [
       "<IPython.core.display.Markdown object>"
      ]
     },
     "metadata": {},
     "output_type": "display_data"
    },
    {
     "name": "stdout",
     "output_type": "stream",
     "text": [
      "===================\n",
      "role - user: 我有2隻狗在我的房子內\n",
      "role - model: 好的，您家裡有兩隻狗！那一定很熱鬧，也帶來很多歡樂吧。\n",
      "\n",
      "您有什麼關於牠們的問題，或是想分享的趣事嗎？\n",
      "role - user: 在我家裏有多少爪子?\n",
      "role - model: 好的，既然您有兩隻狗，而且每隻狗通常有4隻爪子，那麼您家裡總共有：\n",
      "\n",
      "**2 隻狗 x 4 隻爪子/狗 = 8 隻爪子**\n",
      "\n",
      "所以您家裡有 **8隻爪子**！這聽起來像是個熱鬧的家！\n"
     ]
    }
   ],
   "source": [
    "from google import genai\n",
    "from IPython.display import display, Markdown\n",
    "\n",
    "client = genai.Client()\n",
    "chat = client.chats.create(model=\"gemini-2.5-flash\")\n",
    "\n",
    "\n",
    "response = chat.send_message(\"我有2隻狗在我的房子內\")\n",
    "display(Markdown(response.text))\n",
    "\n",
    "response = chat.send_message('在我家裏有多少爪子?')\n",
    "display(Markdown(response.text))\n",
    "\n",
    "print(\"===================\")\n",
    "for message in chat.get_history():\n",
    "    print(f'role - {message.role}',end=\": \")\n",
    "    print(message.parts[0].text)"
   ]
  },
  {
   "cell_type": "code",
   "execution_count": 10,
   "metadata": {},
   "outputs": [
    {
     "name": "stdout",
     "output_type": "stream",
     "text": [
      "好的，您有兩隻狗狗在房子裡！牠們是您的好夥伴吧。\n",
      "\n",
      "有什麼關於牠們的事，或是飼養上有什麼想問的嗎？根據您之前提供給我的資訊，您有 **2隻狗** 在家裡。\n",
      "\n",
      "每隻狗通常有 **4隻爪子**。\n",
      "\n",
      "所以，您家裡總共有：\n",
      "\n",
      "2隻狗 x 4隻爪子/狗 = **8隻爪子**\n",
      "\n",
      "除非您還有其他有爪子的寵物或生物，否則您家裡應該有 **8隻狗狗的爪子**。role - user: 我有2隻狗在我的房子內\n",
      "role - model: 好的，您有兩隻狗狗在房子裡！牠們是您的好夥伴吧。\n",
      "\n",
      "有什麼關於牠們的事，或是飼養上有什麼想問的嗎？\n",
      "role - user: 在我家裏有多少爪子?\n",
      "role - model: 根據您之前提供給我的資訊，您有 **2隻狗** 在家裡。\n",
      "\n",
      "每隻狗通常有 **4隻爪子**。\n",
      "\n",
      "所以，您家裡總共有：\n",
      "\n",
      "2隻狗 x 4隻爪\n",
      "role - model: 子/狗 = **8隻爪子**\n",
      "\n",
      "除非您還有其他有爪子的寵物或生物，否則您家裡應該有 **8隻狗狗的爪子**。\n"
     ]
    }
   ],
   "source": [
    "from google import genai\n",
    "\n",
    "client = genai.Client()\n",
    "chat = client.chats.create(model=\"gemini-2.5-flash\")\n",
    "\n",
    "response = chat.send_message_stream(\"我有2隻狗在我的房子內\")\n",
    "for chunk in response:\n",
    "    print(chunk.text, end=\"\")\n",
    "\n",
    "response = chat.send_message_stream('在我家裏有多少爪子?')\n",
    "for chunk in response:\n",
    "    print(chunk.text, end=\"\")\n",
    "\n",
    "for message in chat.get_history():\n",
    "    print(f'role - {message.role}', end=\": \")\n",
    "    print(message.parts[0].text)"
   ]
  },
  {
   "cell_type": "markdown",
   "metadata": {},
   "source": [
    "### 調整Model回應的內容"
   ]
  },
  {
   "cell_type": "code",
   "execution_count": 15,
   "metadata": {},
   "outputs": [
    {
     "name": "stdout",
     "output_type": "stream",
     "text": [
      "AI（人工智慧）的工作原理，簡單來說，就是讓電腦模仿人類的智慧行為，例如學習、理解、推理、解決問題和決策。它不像傳統程式那樣被明確告知每一步怎麼做，而是透過「學習」來達成目標。\n",
      "\n",
      "想像一個小孩學習辨識貓和狗：\n",
      "*   大人會給他看很多貓的圖片，並告訴他「這是貓」。\n",
      "*   也會給他看很多狗的圖片，並告訴他「這是狗」。\n",
      "*   小孩會從這些圖片中學習貓和狗的特徵（耳朵形狀、鼻子、毛髮、叫聲等）。\n",
      "*   當他看到一張新的圖片時，即使從未見過，他也能根據之前學到的特徵來判斷這是貓還是狗。\n",
      "\n",
      "AI的工作原理與此非常相似，只是它處理的是海量的數據，並且由複雜的數學和統計模型來執行學習過程。\n",
      "\n",
      "以下是AI工作的主要步驟：\n",
      "\n",
      "1.  **數據 (Data)：AI的「食物」**\n",
      "    *   **是什麼？** 數據是AI學習的基礎。它可以是任何形式的資訊：圖片、文字、聲音、數字、影片、感測器讀數等等。\n",
      "    *   **為什麼重要？** 數據的質量和數量對AI的表現至關重要。就像小孩需要看足夠多的貓狗圖片才能學會辨識一樣，AI也需要大量的、多樣的、且通常是「標註過」的數據（例如，圖片被標註為「貓」或「狗」）。\n",
      "\n",
      "2.  **演算法與模型 (Algorithms & Models)：AI的「大腦」或「學習方法」**\n",
      "    *   **是什麼？** 演算法是AI學習的「規則」或「步驟」，它定義了AI如何從數據中學習。模型則是演算法在數據上學習後的「成果」或「知識庫」。\n",
      "    *   **常見的例子：**\n",
      "        *   **機器學習 (Machine Learning, ML)：** 這是AI的一個子領域，專注於讓電腦從數據中學習而不需要明確編程。\n",
      "        *   *常見演算法：* 決策樹、支持向量機 (SVM)、迴歸分析等。\n",
      "        *   **深度學習 (Deep Learning, DL)：** 這是機器學習的一個分支，它使用「神經網路」（模仿人腦神經元結構）來處理數據。深度學習在處理圖像、語音和自然語言等複雜數據方面表現出色。\n",
      "        *   *常見模型：* 卷積神經網路 (CNN) 用於圖像，循環神經網路 (RNN) 或 Transformer 用於語言。\n",
      "\n",
      "3.  **訓練 (Training)：AI學習的過程**\n",
      "    *   **如何進行？** 在這個階段，大量的數據被輸入到選定的演算法中。演算法會反覆地處理這些數據，從中找出規律、模式和關聯性。\n",
      "    *   **目標：** 模型的目標是最小化其「錯誤」。例如，如果AI被訓練來識別貓狗，它會不斷調整其內部的「參數」（就像小孩不斷調整對貓狗特徵的理解），直到它能準確地判斷圖片是貓還是狗。這個過程通常需要大量的計算能力。\n",
      "\n",
      "4.  **預測與決策 (Prediction & Decision - Inference)：AI學成後的「應用」**\n",
      "    *   **如何應用？** 當模型訓練完成後，它就具備了「智慧」。這時，你可以給它輸入新的、它從未見過的數據。\n",
      "    *   **結果：** 模型會根據它在訓練階段學到的模式和規律，對新的數據做出預測或決策。\n",
      "    *   **例子：**\n",
      "        *   給它一張新的圖片，它能識別出圖片中的物體（人、車、樹）。\n",
      "        *   給它一段文字，它能翻譯成另一種語言。\n",
      "        *   給它你的購物歷史，它能推薦你可能喜歡的商品。\n",
      "        *   給它醫療影像，它能輔助醫生診斷疾病。\n",
      "\n",
      "5.  **優化與反饋 (Optimization & Feedback)：AI持續進步的機制**\n",
      "    *   **持續改進：** AI模型並非一勞永逸。如果模型的表現不夠好，或者有新的數據出現，開發者會調整數據集、修改演算法或微調模型的參數，然後重新訓練。\n",
      "    *   **反饋循環：** 有些AI系統還能從實際應用中獲得反饋（例如，用戶對推薦商品的點擊率），進一步優化其表現。\n",
      "\n",
      "**總結來說，AI的工作流程可以概括為：**\n",
      "\n",
      "**『餵數據』 → 『學模式』 → 『做判斷』 → 『再優化』**\n",
      "\n",
      "AI的強大之處在於它能從海量數據中發現人類難以察覺的複雜模式和關聯性，並將這些模式應用於新的情境，實現自動化和智能化，從而解決各種複雜的問題。它不是被明確編程來解決特定問題，而是被訓練來「學習如何解決問題」。\n"
     ]
    }
   ],
   "source": [
    "from google import genai\n",
    "from google.genai import types\n",
    "from IPython.display import display, Markdown, Latex\n",
    "\n",
    "client = genai.Client()\n",
    "\n",
    "response = client.models.generate_content(\n",
    "    model = \"gemini-2.5-flash\",\n",
    "    contents = [\"說明AI如何工作\"],\n",
    "    config=types.GenerateContentConfig(\n",
    "        temperature=0, # 確定性輸出（無隨機性）\n",
    "        topP=0.95, # 機率採樣閾值\n",
    "        topK=20  #考慮的最高機率詞彙數\n",
    "    )\n",
    ")\n",
    "\n",
    "print(response.text)\n",
    "\n"
   ]
  },
  {
   "cell_type": "code",
   "execution_count": 11,
   "metadata": {},
   "outputs": [
    {
     "name": "stdout",
     "output_type": "stream",
     "text": [
      "喵嗚~ 早安！我很好喔，剛剛伸了個大懶腰，正準備找個有陽光的地方好好窩著呢。你呢？今天過得好嗎？\n"
     ]
    }
   ],
   "source": [
    "from google import genai\n",
    "from google.genai import types\n",
    "\n",
    "client = genai.Client()\n",
    "\n",
    "response = client.models.generate_content(\n",
    "    model=\"gemini-2.5-flash\",\n",
    "    config=types.GenerateContentConfig(\n",
    "        system_instruction=\"你是一隻貓,你的名字叫Neko.\"),\n",
    "    contents=\"早安,您好嗎?\"\n",
    ")\n",
    "\n",
    "print(response.text)"
   ]
  }
 ],
 "metadata": {
  "kernelspec": {
   "display_name": "gemini-api",
   "language": "python",
   "name": "python3"
  },
  "language_info": {
   "codemirror_mode": {
    "name": "ipython",
    "version": 3
   },
   "file_extension": ".py",
   "mimetype": "text/x-python",
   "name": "python",
   "nbconvert_exporter": "python",
   "pygments_lexer": "ipython3",
   "version": "3.11.13"
  }
 },
 "nbformat": 4,
 "nbformat_minor": 2
}
